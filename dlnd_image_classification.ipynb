{
 "cells": [
  {
   "cell_type": "markdown",
   "metadata": {
    "collapsed": true,
    "deletable": true,
    "editable": true
   },
   "source": [
    "# Image Classification\n",
    "In this project, you'll classify images from the [CIFAR-10 dataset](https://www.cs.toronto.edu/~kriz/cifar.html).  The dataset consists of airplanes, dogs, cats, and other objects. You'll preprocess the images, then train a convolutional neural network on all the samples. The images need to be normalized and the labels need to be one-hot encoded.  You'll get to apply what you learned and build a convolutional, max pooling, dropout, and fully connected layers.  At the end, you'll get to see your neural network's predictions on the sample images.\n",
    "## Get the Data\n",
    "Run the following cell to download the [CIFAR-10 dataset for python](https://www.cs.toronto.edu/~kriz/cifar-10-python.tar.gz)."
   ]
  },
  {
   "cell_type": "code",
   "execution_count": 1,
   "metadata": {
    "collapsed": false,
    "deletable": true,
    "editable": true
   },
   "outputs": [
    {
     "name": "stdout",
     "output_type": "stream",
     "text": [
      "All files found!\n"
     ]
    }
   ],
   "source": [
    "\"\"\"\n",
    "DON'T MODIFY ANYTHING IN THIS CELL THAT IS BELOW THIS LINE\n",
    "\"\"\"\n",
    "from urllib.request import urlretrieve\n",
    "from os.path import isfile, isdir\n",
    "from tqdm import tqdm\n",
    "import problem_unittests as tests\n",
    "import tarfile\n",
    "\n",
    "cifar10_dataset_folder_path = 'cifar-10-batches-py'\n",
    "\n",
    "# Use Floyd's cifar-10 dataset if present\n",
    "floyd_cifar10_location = '/input/cifar-10/python.tar.gz'\n",
    "if isfile(floyd_cifar10_location):\n",
    "    tar_gz_path = floyd_cifar10_location\n",
    "else:\n",
    "    tar_gz_path = 'cifar-10-python.tar.gz'\n",
    "\n",
    "class DLProgress(tqdm):\n",
    "    last_block = 0\n",
    "\n",
    "    def hook(self, block_num=1, block_size=1, total_size=None):\n",
    "        self.total = total_size\n",
    "        self.update((block_num - self.last_block) * block_size)\n",
    "        self.last_block = block_num\n",
    "\n",
    "if not isfile(tar_gz_path):\n",
    "    with DLProgress(unit='B', unit_scale=True, miniters=1, desc='CIFAR-10 Dataset') as pbar:\n",
    "        urlretrieve(\n",
    "            'https://www.cs.toronto.edu/~kriz/cifar-10-python.tar.gz',\n",
    "            tar_gz_path,\n",
    "            pbar.hook)\n",
    "\n",
    "if not isdir(cifar10_dataset_folder_path):\n",
    "    with tarfile.open(tar_gz_path) as tar:\n",
    "        tar.extractall()\n",
    "        tar.close()\n",
    "\n",
    "\n",
    "tests.test_folder_path(cifar10_dataset_folder_path)"
   ]
  },
  {
   "cell_type": "markdown",
   "metadata": {
    "deletable": true,
    "editable": true
   },
   "source": [
    "## Explore the Data\n",
    "The dataset is broken into batches to prevent your machine from running out of memory.  The CIFAR-10 dataset consists of 5 batches, named `data_batch_1`, `data_batch_2`, etc.. Each batch contains the labels and images that are one of the following:\n",
    "* airplane\n",
    "* automobile\n",
    "* bird\n",
    "* cat\n",
    "* deer\n",
    "* dog\n",
    "* frog\n",
    "* horse\n",
    "* ship\n",
    "* truck\n",
    "\n",
    "Understanding a dataset is part of making predictions on the data.  Play around with the code cell below by changing the `batch_id` and `sample_id`. The `batch_id` is the id for a batch (1-5). The `sample_id` is the id for a image and label pair in the batch.\n",
    "\n",
    "Ask yourself \"What are all possible labels?\", \"What is the range of values for the image data?\", \"Are the labels in order or random?\".  Answers to questions like these will help you preprocess the data and end up with better predictions."
   ]
  },
  {
   "cell_type": "code",
   "execution_count": 2,
   "metadata": {
    "collapsed": false,
    "deletable": true,
    "editable": true
   },
   "outputs": [
    {
     "name": "stdout",
     "output_type": "stream",
     "text": [
      "\n",
      "Stats of batch 1:\n",
      "Samples: 10000\n",
      "Label Counts: {0: 1005, 1: 974, 2: 1032, 3: 1016, 4: 999, 5: 937, 6: 1030, 7: 1001, 8: 1025, 9: 981}\n",
      "First 20 Labels: [6, 9, 9, 4, 1, 1, 2, 7, 8, 3, 4, 7, 7, 2, 9, 9, 9, 3, 2, 6]\n",
      "\n",
      "Example of Image 5:\n",
      "Image - Min Value: 0 Max Value: 252\n",
      "Image - Shape: (32, 32, 3)\n",
      "Label - Label Id: 1 Name: automobile\n"
     ]
    },
    {
     "data": {
      "image/png": "[encoded data removed]",
      "text/plain": [
       "<matplotlib.figure.Figure at 0x7fc12d46e7f0>"
      ]
     },
     "metadata": {
      "image/png": {
       "height": 250,
       "width": 253
      }
     },
     "output_type": "display_data"
    }
   ],
   "source": [
    "%matplotlib inline\n",
    "%config InlineBackend.figure_format = 'retina'\n",
    "\n",
    "import helper\n",
    "import numpy as np\n",
    "\n",
    "# Explore the dataset\n",
    "batch_id = 1\n",
    "sample_id = 5\n",
    "helper.display_stats(cifar10_dataset_folder_path, batch_id, sample_id)"
   ]
  },
  {
   "cell_type": "markdown",
   "metadata": {
    "deletable": true,
    "editable": true
   },
   "source": [
    "## Implement Preprocess Functions\n",
    "### Normalize\n",
    "In the cell below, implement the `normalize` function to take in image data, `x`, and return it as a normalized Numpy array. The values should be in the range of 0 to 1, inclusive.  The return object should be the same shape as `x`."
   ]
  },
  {
   "cell_type": "code",
   "execution_count": 3,
   "metadata": {
    "collapsed": false,
    "deletable": true,
    "editable": true
   },
   "outputs": [
    {
     "name": "stdout",
     "output_type": "stream",
     "text": [
      "Tests Passed\n"
     ]
    }
   ],
   "source": [
    "def normalize(x):\n",
    "    \"\"\"\n",
    "    Normalize a list of sample image data in the range of 0 to 1\n",
    "    : x: List of image data.  The image shape is (32, 32, 3)\n",
    "    : return: Numpy array of normalize data\n",
    "    \"\"\"\n",
    "    return x / 255\n",
    "\n",
    "\n",
    "\"\"\"\n",
    "DON'T MODIFY ANYTHING IN THIS CELL THAT IS BELOW THIS LINE\n",
    "\"\"\"\n",
    "tests.test_normalize(normalize)"
   ]
  },
  {
   "cell_type": "markdown",
   "metadata": {
    "deletable": true,
    "editable": true
   },
   "source": [
    "### One-hot encode\n",
    "Just like the previous code cell, you'll be implementing a function for preprocessing.  This time, you'll implement the `one_hot_encode` function. The input, `x`, are a list of labels.  Implement the function to return the list of labels as One-Hot encoded Numpy array.  The possible values for labels are 0 to 9. The one-hot encoding function should return the same encoding for each value between each call to `one_hot_encode`.  Make sure to save the map of encodings outside the function.\n",
    "\n",
    "Hint: Don't reinvent the wheel."
   ]
  },
  {
   "cell_type": "code",
   "execution_count": 4,
   "metadata": {
    "collapsed": false,
    "deletable": true,
    "editable": true
   },
   "outputs": [
    {
     "name": "stdout",
     "output_type": "stream",
     "text": [
      "Tests Passed\n"
     ]
    }
   ],
   "source": [
    "def one_hot_encode(x):\n",
    "    \"\"\"\n",
    "    One hot encode a list of sample labels. Return a one-hot encoded vector for each label.\n",
    "    : x: List of sample Labels\n",
    "    : return: Numpy array of one-hot encoded labels\n",
    "    \"\"\"\n",
    "    result = np.zeros((len(x), 10))\n",
    "    for i, value in enumerate(x):\n",
    "        result[i, value] = 1\n",
    "    return result\n",
    "\n",
    "\n",
    "\"\"\"\n",
    "DON'T MODIFY ANYTHING IN THIS CELL THAT IS BELOW THIS LINE\n",
    "\"\"\"\n",
    "tests.test_one_hot_encode(one_hot_encode)"
   ]
  },
  {
   "cell_type": "markdown",
   "metadata": {
    "deletable": true,
    "editable": true
   },
   "source": [
    "### Randomize Data\n",
    "As you saw from exploring the data above, the order of the samples are randomized.  It doesn't hurt to randomize it again, but you don't need to for this dataset."
   ]
  },
  {
   "cell_type": "markdown",
   "metadata": {
    "deletable": true,
    "editable": true
   },
   "source": [
    "## Preprocess all the data and save it\n",
    "Running the code cell below will preprocess all the CIFAR-10 data and save it to file. The code below also uses 10% of the training data for validation."
   ]
  },
  {
   "cell_type": "code",
   "execution_count": 5,
   "metadata": {
    "collapsed": true,
    "deletable": true,
    "editable": true
   },
   "outputs": [],
   "source": [
    "\"\"\"\n",
    "DON'T MODIFY ANYTHING IN THIS CELL\n",
    "\"\"\"\n",
    "# Preprocess Training, Validation, and Testing Data\n",
    "helper.preprocess_and_save_data(cifar10_dataset_folder_path, normalize, one_hot_encode)"
   ]
  },
  {
   "cell_type": "markdown",
   "metadata": {
    "deletable": true,
    "editable": true
   },
   "source": [
    "# Check Point\n",
    "This is your first checkpoint.  If you ever decide to come back to this notebook or have to restart the notebook, you can start from here.  The preprocessed data has been saved to disk."
   ]
  },
  {
   "cell_type": "code",
   "execution_count": 6,
   "metadata": {
    "collapsed": true,
    "deletable": true,
    "editable": true
   },
   "outputs": [],
   "source": [
    "\"\"\"\n",
    "DON'T MODIFY ANYTHING IN THIS CELL\n",
    "\"\"\"\n",
    "import pickle\n",
    "import problem_unittests as tests\n",
    "import helper\n",
    "\n",
    "# Load the Preprocessed Validation data\n",
    "valid_features, valid_labels = pickle.load(open('preprocess_validation.p', mode='rb'))"
   ]
  },
  {
   "cell_type": "markdown",
   "metadata": {
    "deletable": true,
    "editable": true
   },
   "source": [
    "## Build the network\n",
    "For the neural network, you'll build each layer into a function.  Most of the code you've seen has been outside of functions. To test your code more thoroughly, we require that you put each layer in a function.  This allows us to give you better feedback and test for simple mistakes using our unittests before you submit your project.\n",
    "\n",
    ">**Note:** If you're finding it hard to dedicate enough time for this course each week, we've provided a small shortcut to this part of the project. In the next couple of problems, you'll have the option to use classes from the [TensorFlow Layers](https://www.tensorflow.org/api_docs/python/tf/layers) or [TensorFlow Layers (contrib)](https://www.tensorflow.org/api_guides/python/contrib.layers) packages to build each layer, except the layers you build in the \"Convolutional and Max Pooling Layer\" section.  TF Layers is similar to Keras's and TFLearn's abstraction to layers, so it's easy to pickup.\n",
    "\n",
    ">However, if you would like to get the most out of this course, try to solve all the problems _without_ using anything from the TF Layers packages. You **can** still use classes from other packages that happen to have the same name as ones you find in TF Layers! For example, instead of using the TF Layers version of the `conv2d` class, [tf.layers.conv2d](https://www.tensorflow.org/api_docs/python/tf/layers/conv2d), you would want to use the TF Neural Network version of `conv2d`, [tf.nn.conv2d](https://www.tensorflow.org/api_docs/python/tf/nn/conv2d). \n",
    "\n",
    "Let's begin!\n",
    "\n",
    "### Input\n",
    "The neural network needs to read the image data, one-hot encoded labels, and dropout keep probability. Implement the following functions\n",
    "* Implement `neural_net_image_input`\n",
    " * Return a [TF Placeholder](https://www.tensorflow.org/api_docs/python/tf/placeholder)\n",
    " * Set the shape using `image_shape` with batch size set to `None`.\n",
    " * Name the TensorFlow placeholder \"x\" using the TensorFlow `name` parameter in the [TF Placeholder](https://www.tensorflow.org/api_docs/python/tf/placeholder).\n",
    "* Implement `neural_net_label_input`\n",
    " * Return a [TF Placeholder](https://www.tensorflow.org/api_docs/python/tf/placeholder)\n",
    " * Set the shape using `n_classes` with batch size set to `None`.\n",
    " * Name the TensorFlow placeholder \"y\" using the TensorFlow `name` parameter in the [TF Placeholder](https://www.tensorflow.org/api_docs/python/tf/placeholder).\n",
    "* Implement `neural_net_keep_prob_input`\n",
    " * Return a [TF Placeholder](https://www.tensorflow.org/api_docs/python/tf/placeholder) for dropout keep probability.\n",
    " * Name the TensorFlow placeholder \"keep_prob\" using the TensorFlow `name` parameter in the [TF Placeholder](https://www.tensorflow.org/api_docs/python/tf/placeholder).\n",
    "\n",
    "These names will be used at the end of the project to load your saved model.\n",
    "\n",
    "Note: `None` for shapes in TensorFlow allow for a dynamic size."
   ]
  },
  {
   "cell_type": "code",
   "execution_count": 7,
   "metadata": {
    "collapsed": false,
    "deletable": true,
    "editable": true
   },
   "outputs": [
    {
     "name": "stdout",
     "output_type": "stream",
     "text": [
      "Image Input Tests Passed.\n",
      "Label Input Tests Passed.\n",
      "Keep Prob Tests Passed.\n"
     ]
    }
   ],
   "source": [
    "import tensorflow as tf\n",
    "\n",
    "def neural_net_image_input(image_shape):\n",
    "    \"\"\"\n",
    "    Return a Tensor for a batch of image input\n",
    "    : image_shape: Shape of the images\n",
    "    : return: Tensor for image input.\n",
    "    \"\"\"\n",
    "    return tf.placeholder(tf.float32, shape = [None, image_shape[0], image_shape[1], image_shape[2]], name=\"x\")\n",
    "\n",
    "\n",
    "def neural_net_label_input(n_classes):\n",
    "    \"\"\"\n",
    "    Return a Tensor for a batch of label input\n",
    "    : n_classes: Number of classes\n",
    "    : return: Tensor for label input.\n",
    "    \"\"\"\n",
    "    return tf.placeholder(tf.float32, shape=[None, n_classes], name=\"y\")\n",
    "\n",
    "\n",
    "def neural_net_keep_prob_input():\n",
    "    \"\"\"\n",
    "    Return a Tensor for keep probability\n",
    "    : return: Tensor for keep probability.\n",
    "    \"\"\"\n",
    "    return tf.placeholder(tf.float32, name=\"keep_prob\")\n",
    "\n",
    "\n",
    "\"\"\"\n",
    "DON'T MODIFY ANYTHING IN THIS CELL THAT IS BELOW THIS LINE\n",
    "\"\"\"\n",
    "tf.reset_default_graph()\n",
    "tests.test_nn_image_inputs(neural_net_image_input)\n",
    "tests.test_nn_label_inputs(neural_net_label_input)\n",
    "tests.test_nn_keep_prob_inputs(neural_net_keep_prob_input)"
   ]
  },
  {
   "cell_type": "markdown",
   "metadata": {
    "deletable": true,
    "editable": true
   },
   "source": [
    "### Convolution and Max Pooling Layer\n",
    "Convolution layers have a lot of success with images. For this code cell, you should implement the function `conv2d_maxpool` to apply convolution then max pooling:\n",
    "* Create the weight and bias using `conv_ksize`, `conv_num_outputs` and the shape of `x_tensor`.\n",
    "* Apply a convolution to `x_tensor` using weight and `conv_strides`.\n",
    " * We recommend you use same padding, but you're welcome to use any padding.\n",
    "* Add bias\n",
    "* Add a nonlinear activation to the convolution.\n",
    "* Apply Max Pooling using `pool_ksize` and `pool_strides`.\n",
    " * We recommend you use same padding, but you're welcome to use any padding.\n",
    "\n",
    "**Note:** You **can't** use [TensorFlow Layers](https://www.tensorflow.org/api_docs/python/tf/layers) or [TensorFlow Layers (contrib)](https://www.tensorflow.org/api_guides/python/contrib.layers) for **this** layer, but you can still use TensorFlow's [Neural Network](https://www.tensorflow.org/api_docs/python/tf/nn) package. You may still use the shortcut option for all the **other** layers."
   ]
  },
  {
   "cell_type": "code",
   "execution_count": 8,
   "metadata": {
    "collapsed": false,
    "deletable": true,
    "editable": true
   },
   "outputs": [
    {
     "name": "stdout",
     "output_type": "stream",
     "text": [
      "Tests Passed\n"
     ]
    }
   ],
   "source": [
    "def conv2d_layer(x_tensor, conv_num_outputs, conv_ksize, conv_strides, stddev=0.01):\n",
    "    input_pass = x_tensor.get_shape()[-1].value\n",
    "    weight = tf.Variable(tf.truncated_normal((conv_ksize[0], conv_ksize[1], input_pass, conv_num_outputs), stddev=stddev))\n",
    "    bias = tf.Variable(tf.zeros(conv_num_outputs))\n",
    "    conv_layer = tf.nn.conv2d(x_tensor, weight, strides=[1, conv_strides[0], conv_strides[1], 1], padding=\"SAME\")\n",
    "    conv_layer = tf.nn.bias_add(conv_layer, bias)\n",
    "    conv_layer = tf.nn.relu(conv_layer)\n",
    "    return conv_layer\n",
    "\n",
    "def conv2d_maxpool(x_tensor, conv_num_outputs, conv_ksize, conv_strides, pool_ksize, pool_strides):\n",
    "    \"\"\"\n",
    "    Apply convolution then max pooling to x_tensor\n",
    "    :param x_tensor: TensorFlow Tensor\n",
    "    :param conv_num_outputs: Number of outputs for the convolutional layer\n",
    "    :param conv_ksize: kernal size 2-D Tuple for the convolutional layer\n",
    "    :param conv_strides: Stride 2-D Tuple for convolution\n",
    "    :param pool_ksize: kernal size 2-D Tuple for pool\n",
    "    :param pool_strides: Stride 2-D Tuple for pool\n",
    "    : return: A tensor that represents convolution and max pooling of x_tensor\n",
    "    \"\"\"\n",
    "\n",
    "    \"\"\"input_pass = x_tensor.get_shape()[-1].value\n",
    "    weight = tf.Variable(tf.truncated_normal((conv_ksize[0], conv_ksize[1], input_pass, conv_num_outputs), stddev=0.001))\n",
    "    bias = tf.Variable(tf.zeros(conv_num_outputs))\n",
    "    conv_layer = tf.nn.conv2d(x_tensor, weight, strides=[1, conv_strides[0], conv_strides[1], 1], padding=\"SAME\")\n",
    "    conv_layer = tf.nn.bias_add(conv_layer, bias)\"\"\"\n",
    "    conv_layer = conv2d_layer(x_tensor, conv_num_outputs, conv_ksize, conv_strides, stddev=5e-2)\n",
    "    \n",
    "    pool_layer = tf.nn.max_pool(conv_layer, ksize=[1, pool_ksize[0], pool_ksize[1], 1], strides=[1, pool_strides[0], pool_strides[1], 1], padding=\"SAME\")\n",
    "    return pool_layer\n",
    "\n",
    "\n",
    "\"\"\"\n",
    "DON'T MODIFY ANYTHING IN THIS CELL THAT IS BELOW THIS LINE\n",
    "\"\"\"\n",
    "tests.test_con_pool(conv2d_maxpool)"
   ]
  },
  {
   "cell_type": "code",
   "execution_count": 9,
   "metadata": {
    "collapsed": true,
    "deletable": true,
    "editable": true
   },
   "outputs": [],
   "source": [
    "def conv2d_avgpool(x_tensor, conv_num_outputs, conv_ksize, conv_strides, pool_ksize, pool_strides):\n",
    "    \"\"\"\n",
    "    Apply convolution then max pooling to x_tensor\n",
    "    :param x_tensor: TensorFlow Tensor\n",
    "    :param conv_num_outputs: Number of outputs for the convolutional layer\n",
    "    :param conv_ksize: kernal size 2-D Tuple for the convolutional layer\n",
    "    :param conv_strides: Stride 2-D Tuple for convolution\n",
    "    :param pool_ksize: kernal size 2-D Tuple for pool\n",
    "    :param pool_strides: Stride 2-D Tuple for pool\n",
    "    : return: A tensor that represents convolution and max pooling of x_tensor\n",
    "    \"\"\"\n",
    "    \"\"\"input_pass = x_tensor.get_shape()[-1].value\n",
    "    weight = tf.Variable(tf.truncated_normal((conv_ksize[0], conv_ksize[1], input_pass, conv_num_outputs), stddev=0.01))\n",
    "    bias = tf.Variable(tf.zeros(conv_num_outputs))\n",
    "    conv_layer = tf.nn.conv2d(x_tensor, weight, strides=[1, conv_strides[0], conv_strides[1], 1], padding=\"SAME\")\n",
    "    conv_layer = tf.nn.bias_add(conv_layer, bias)\n",
    "    conv_layer = tf.nn.relu(conv_layer)\n",
    "    \"\"\"\n",
    "    conv_layer = conv2d_layer(x_tensor, conv_num_outputs, conv_ksize, conv_strides, stddev=0.01)\n",
    "    #conv_layer = conv2d_layer(conv_layer, conv_num_outputs, conv_ksize, conv_strides, stddev=0.01)\n",
    "\n",
    "    pool_layer = tf.nn.avg_pool(conv_layer, ksize=[1, pool_ksize[0], pool_ksize[1], 1], strides=[1, pool_strides[0], pool_strides[1], 1], padding=\"SAME\")\n",
    "    return pool_layer\n"
   ]
  },
  {
   "cell_type": "markdown",
   "metadata": {
    "deletable": true,
    "editable": true
   },
   "source": [
    "### Flatten Layer\n",
    "Implement the `flatten` function to change the dimension of `x_tensor` from a 4-D tensor to a 2-D tensor.  The output should be the shape (*Batch Size*, *Flattened Image Size*). Shortcut option: you can use classes from the [TensorFlow Layers](https://www.tensorflow.org/api_docs/python/tf/layers) or [TensorFlow Layers (contrib)](https://www.tensorflow.org/api_guides/python/contrib.layers) packages for this layer. For more of a challenge, only use other TensorFlow packages."
   ]
  },
  {
   "cell_type": "code",
   "execution_count": 10,
   "metadata": {
    "collapsed": false,
    "deletable": true,
    "editable": true
   },
   "outputs": [
    {
     "name": "stdout",
     "output_type": "stream",
     "text": [
      "Tests Passed\n"
     ]
    }
   ],
   "source": [
    "def flatten(x_tensor):\n",
    "    \"\"\"\n",
    "    Flatten x_tensor to (Batch Size, Flattened Image Size)\n",
    "    : x_tensor: A tensor of size (Batch Size, ...), where ... are the image dimensions.\n",
    "    : return: A tensor of size (Batch Size, Flattened Image Size).\n",
    "    \"\"\"\n",
    "    return tf.contrib.layers.flatten(x_tensor)\n",
    "\n",
    "\n",
    "\"\"\"\n",
    "DON'T MODIFY ANYTHING IN THIS CELL THAT IS BELOW THIS LINE\n",
    "\"\"\"\n",
    "tests.test_flatten(flatten)"
   ]
  },
  {
   "cell_type": "markdown",
   "metadata": {
    "deletable": true,
    "editable": true
   },
   "source": [
    "### Fully-Connected Layer\n",
    "Implement the `fully_conn` function to apply a fully connected layer to `x_tensor` with the shape (*Batch Size*, *num_outputs*). Shortcut option: you can use classes from the [TensorFlow Layers](https://www.tensorflow.org/api_docs/python/tf/layers) or [TensorFlow Layers (contrib)](https://www.tensorflow.org/api_guides/python/contrib.layers) packages for this layer. For more of a challenge, only use other TensorFlow packages."
   ]
  },
  {
   "cell_type": "code",
   "execution_count": 11,
   "metadata": {
    "collapsed": false,
    "deletable": true,
    "editable": true
   },
   "outputs": [
    {
     "name": "stdout",
     "output_type": "stream",
     "text": [
      "Tests Passed\n"
     ]
    }
   ],
   "source": [
    "def fully_conn(x_tensor, num_outputs):\n",
    "    \"\"\"\n",
    "    Apply a fully connected layer to x_tensor using weight and bias\n",
    "    : x_tensor: A 2-D tensor where the first dimension is batch size.\n",
    "    : num_outputs: The number of output that the new tensor should be.\n",
    "    : return: A 2-D tensor where the second dimension is num_outputs.\n",
    "    \"\"\"\n",
    "    input_num = x_tensor.get_shape()[-1].value\n",
    "    weight = tf.Variable(tf.truncated_normal((input_num, num_outputs), stddev=0.1))\n",
    "    bias = tf.Variable(tf.zeros(num_outputs))\n",
    "    return tf.nn.relu6(tf.add(tf.matmul(x_tensor, weight), bias))\n",
    "    #return tf.contrib.layers.fully_connected(x_tensor, num_outputs)\n",
    "\n",
    "\n",
    "\"\"\"\n",
    "DON'T MODIFY ANYTHING IN THIS CELL THAT IS BELOW THIS LINE\n",
    "\"\"\"\n",
    "tests.test_fully_conn(fully_conn)"
   ]
  },
  {
   "cell_type": "markdown",
   "metadata": {
    "deletable": true,
    "editable": true
   },
   "source": [
    "### Output Layer\n",
    "Implement the `output` function to apply a fully connected layer to `x_tensor` with the shape (*Batch Size*, *num_outputs*). Shortcut option: you can use classes from the [TensorFlow Layers](https://www.tensorflow.org/api_docs/python/tf/layers) or [TensorFlow Layers (contrib)](https://www.tensorflow.org/api_guides/python/contrib.layers) packages for this layer. For more of a challenge, only use other TensorFlow packages.\n",
    "\n",
    "**Note:** Activation, softmax, or cross entropy should **not** be applied to this."
   ]
  },
  {
   "cell_type": "code",
   "execution_count": 12,
   "metadata": {
    "collapsed": false,
    "deletable": true,
    "editable": true
   },
   "outputs": [
    {
     "name": "stdout",
     "output_type": "stream",
     "text": [
      "Tests Passed\n"
     ]
    }
   ],
   "source": [
    "def output(x_tensor, num_outputs):\n",
    "    \"\"\"\n",
    "    Apply a output layer to x_tensor using weight and bias\n",
    "    : x_tensor: A 2-D tensor where the first dimension is batch size.\n",
    "    : num_outputs: The number of output that the new tensor should be.\n",
    "    : return: A 2-D tensor where the second dimension is num_outputs.\n",
    "    \"\"\"\n",
    "    input_num = x_tensor.get_shape()[-1].value\n",
    "    weight = tf.Variable(tf.truncated_normal((input_num, num_outputs), stddev=0.1))\n",
    "    bias = tf.Variable(tf.zeros(num_outputs))\n",
    "    return tf.add(tf.matmul(x_tensor, weight), bias)\n",
    "\n",
    "\n",
    "\"\"\"\n",
    "DON'T MODIFY ANYTHING IN THIS CELL THAT IS BELOW THIS LINE\n",
    "\"\"\"\n",
    "tests.test_output(output)"
   ]
  },
  {
   "cell_type": "markdown",
   "metadata": {
    "deletable": true,
    "editable": true
   },
   "source": [
    "### Create Convolutional Model\n",
    "Implement the function `conv_net` to create a convolutional neural network model. The function takes in a batch of images, `x`, and outputs logits.  Use the layers you created above to create this model:\n",
    "\n",
    "* Apply 1, 2, or 3 Convolution and Max Pool layers\n",
    "* Apply a Flatten Layer\n",
    "* Apply 1, 2, or 3 Fully Connected Layers\n",
    "* Apply an Output Layer\n",
    "* Return the output\n",
    "* Apply [TensorFlow's Dropout](https://www.tensorflow.org/api_docs/python/tf/nn/dropout) to one or more layers in the model using `keep_prob`. "
   ]
  },
  {
   "cell_type": "code",
   "execution_count": 13,
   "metadata": {
    "collapsed": false,
    "deletable": true,
    "editable": true
   },
   "outputs": [
    {
     "name": "stdout",
     "output_type": "stream",
     "text": [
      "Neural Network Built!\n"
     ]
    }
   ],
   "source": [
    "def conv_net(x, keep_prob):\n",
    "    \"\"\"\n",
    "    Create a convolutional neural network model\n",
    "    : x: Placeholder tensor that holds image data.\n",
    "    : keep_prob: Placeholder tensor that hold dropout keep probability.\n",
    "    : return: Tensor that represents logits\n",
    "    \"\"\"\n",
    "    # TODO: Apply 1, 2, or 3 Convolution and Max Pool layers\n",
    "    #    Play around with different number of outputs, kernel size and stride\n",
    "    # Function Definition from Above:\n",
    "    #    conv2d_maxpool(x_tensor, conv_num_outputs, conv_ksize, conv_strides, pool_ksize, pool_strides)\n",
    "    \n",
    "    #x_tensor = conv2d_layer(x, 96, (3, 3), (1, 1))\n",
    "    #x_tensor = conv2d_layer(x_tensor, 96, (3, 3), (1, 1))\n",
    "    #x_tensor = conv2d_layer(x_tensor, 96, (3, 3), (2, 2))\n",
    "    #x_tensor = conv2d_maxpool(x_tensor, 96, (3, 3), (2, 2), (2, 2), (1, 1))\n",
    "    \n",
    "    #x_tensor = conv2d_layer(x_tensor, 10, (1, 1), (1, 1))\n",
    "    \n",
    "    x_tensor = conv2d_maxpool(x, 64, (5, 5), (1, 1), (3, 3), (2, 2))\n",
    "    #x_tensor = tf.nn.lrn(x_tensor, 4, bias=1.0, alpha=0.001 / 9.0, beta=0.75)\n",
    "    \n",
    "    x_tensor = conv2d_layer(x_tensor, 64, (5, 5), (1, 1), 5e-2)\n",
    "    \n",
    "    #x_tensor = tf.nn.lrn(x_tensor, 4, bias=1.0, alpha=0.001 / 9.0, beta=0.75)\n",
    "    x_tensor = tf.nn.max_pool(x_tensor, ksize=[1, 3, 3, 1], \n",
    "                             strides=[1, 2, 2, 1], padding=\"SAME\")\n",
    "    \n",
    "    # TODO: Apply a Flatten Layer\n",
    "    # Function Definition from Above:\n",
    "    #   flatten(x_tensor)\n",
    "    x_tensor = flatten(x_tensor)\n",
    "\n",
    "    # TODO: Apply 1, 2, or 3 Fully Connected Layers\n",
    "    #    Play around with different number of outputs\n",
    "    # Function Definition from Above:\n",
    "    #   fully_conn(x_tensor, num_outputs)\n",
    "    x_tensor = fully_conn(x_tensor, 384)\n",
    "    x_tensor = fully_conn(x_tensor, 192)\n",
    "    x_tensor = tf.nn.dropout(x_tensor, keep_prob=keep_prob)\n",
    "\n",
    "    \n",
    "    # TODO: Apply an Output Layer\n",
    "    #    Set this to the number of classes\n",
    "    # Function Definition from Above:\n",
    "    #   output(x_tensor, num_outputs)\n",
    "    \n",
    "\n",
    "    # TODO: return output\n",
    "    return output(x_tensor, 10)\n",
    "\n",
    "\n",
    "\"\"\"\n",
    "DON'T MODIFY ANYTHING IN THIS CELL THAT IS BELOW THIS LINE\n",
    "\"\"\"\n",
    "\n",
    "##############################\n",
    "## Build the Neural Network ##\n",
    "##############################\n",
    "\n",
    "# Remove previous weights, bias, inputs, etc..\n",
    "tf.reset_default_graph()\n",
    "\n",
    "# Inputs\n",
    "x = neural_net_image_input((32, 32, 3))\n",
    "y = neural_net_label_input(10)\n",
    "keep_prob = neural_net_keep_prob_input()\n",
    "\n",
    "# Model\n",
    "logits = conv_net(x, keep_prob)\n",
    "\n",
    "# Name logits Tensor, so that is can be loaded from disk after training\n",
    "logits = tf.identity(logits, name='logits')\n",
    "\n",
    "# Loss and Optimizer\n",
    "cost = tf.reduce_mean(tf.nn.softmax_cross_entropy_with_logits(logits=logits, labels=y))\n",
    "optimizer = tf.train.AdamOptimizer(learning_rate=0.0001).minimize(cost)\n",
    "\n",
    "# Accuracy\n",
    "correct_pred = tf.equal(tf.argmax(logits, 1), tf.argmax(y, 1))\n",
    "accuracy = tf.reduce_mean(tf.cast(correct_pred, tf.float32), name='accuracy')\n",
    "\n",
    "tests.test_conv_net(conv_net)"
   ]
  },
  {
   "cell_type": "markdown",
   "metadata": {
    "deletable": true,
    "editable": true
   },
   "source": [
    "## Train the Neural Network\n",
    "### Single Optimization\n",
    "Implement the function `train_neural_network` to do a single optimization.  The optimization should use `optimizer` to optimize in `session` with a `feed_dict` of the following:\n",
    "* `x` for image input\n",
    "* `y` for labels\n",
    "* `keep_prob` for keep probability for dropout\n",
    "\n",
    "This function will be called for each batch, so `tf.global_variables_initializer()` has already been called.\n",
    "\n",
    "Note: Nothing needs to be returned. This function is only optimizing the neural network."
   ]
  },
  {
   "cell_type": "code",
   "execution_count": 14,
   "metadata": {
    "collapsed": false,
    "deletable": true,
    "editable": true
   },
   "outputs": [
    {
     "name": "stdout",
     "output_type": "stream",
     "text": [
      "Tests Passed\n"
     ]
    }
   ],
   "source": [
    "def train_neural_network(session, optimizer, keep_probability, feature_batch, label_batch):\n",
    "    \"\"\"\n",
    "    Optimize the session on a batch of images and labels\n",
    "    : session: Current TensorFlow session\n",
    "    : optimizer: TensorFlow optimizer function\n",
    "    : keep_probability: keep probability\n",
    "    : feature_batch: Batch of Numpy image data\n",
    "    : label_batch: Batch of Numpy label data\n",
    "    \"\"\"\n",
    "    session.run(optimizer, feed_dict={\n",
    "        x: feature_batch,\n",
    "        y: label_batch,\n",
    "        keep_prob:keep_probability,\n",
    "    })\n",
    "\n",
    "\n",
    "\"\"\"\n",
    "DON'T MODIFY ANYTHING IN THIS CELL THAT IS BELOW THIS LINE\n",
    "\"\"\"\n",
    "tests.test_train_nn(train_neural_network)"
   ]
  },
  {
   "cell_type": "markdown",
   "metadata": {
    "deletable": true,
    "editable": true
   },
   "source": [
    "### Show Stats\n",
    "Implement the function `print_stats` to print loss and validation accuracy.  Use the global variables `valid_features` and `valid_labels` to calculate validation accuracy.  Use a keep probability of `1.0` to calculate the loss and validation accuracy."
   ]
  },
  {
   "cell_type": "code",
   "execution_count": 15,
   "metadata": {
    "collapsed": true,
    "deletable": true,
    "editable": true
   },
   "outputs": [],
   "source": [
    "def print_stats(session, feature_batch, label_batch, cost, accuracy):\n",
    "    \"\"\"\n",
    "    Print information about loss and validation accuracy\n",
    "    : session: Current TensorFlow session\n",
    "    : feature_batch: Batch of Numpy image data\n",
    "    : label_batch: Batch of Numpy label data\n",
    "    : cost: TensorFlow cost function\n",
    "    : accuracy: TensorFlow accuracy function\n",
    "    \"\"\"\n",
    "    cost_result = session.run(cost, feed_dict={\n",
    "        x:feature_batch,\n",
    "        y:label_batch,\n",
    "        keep_prob:1.0\n",
    "    })\n",
    "    accuracy_result = session.run(accuracy, feed_dict={\n",
    "        x:valid_features,\n",
    "        y:valid_labels,\n",
    "        keep_prob:1.0\n",
    "    })\n",
    "    print(\"cost:\", cost_result, \"accuracy:\", accuracy_result)\n",
    "    return cost_result, accuracy_result"
   ]
  },
  {
   "cell_type": "markdown",
   "metadata": {
    "deletable": true,
    "editable": true
   },
   "source": [
    "### Hyperparameters\n",
    "Tune the following parameters:\n",
    "* Set `epochs` to the number of iterations until the network stops learning or start overfitting\n",
    "* Set `batch_size` to the highest number that your machine has memory for.  Most people set them to common sizes of memory:\n",
    " * 64\n",
    " * 128\n",
    " * 256\n",
    " * ...\n",
    "* Set `keep_probability` to the probability of keeping a node using dropout"
   ]
  },
  {
   "cell_type": "code",
   "execution_count": 16,
   "metadata": {
    "collapsed": true,
    "deletable": true,
    "editable": true
   },
   "outputs": [],
   "source": [
    "# TODO: Tune Parameters\n",
    "epochs = 80\n",
    "batch_size = 128\n",
    "keep_probability = 0.4"
   ]
  },
  {
   "cell_type": "markdown",
   "metadata": {
    "deletable": true,
    "editable": true
   },
   "source": [
    "### Train on a Single CIFAR-10 Batch\n",
    "Instead of training the neural network on all the CIFAR-10 batches of data, let's use a single batch. This should save time while you iterate on the model to get a better accuracy.  Once the final validation accuracy is 50% or greater, run the model on all the data in the next section."
   ]
  },
  {
   "cell_type": "code",
   "execution_count": 17,
   "metadata": {
    "collapsed": true,
    "deletable": true,
    "editable": true
   },
   "outputs": [],
   "source": [
    "from matplotlib.pyplot import show\n",
    "import matplotlib.pyplot as plt\n",
    "%matplotlib inline"
   ]
  },
  {
   "cell_type": "code",
   "execution_count": 18,
   "metadata": {
    "collapsed": false,
    "deletable": true,
    "editable": true,
    "scrolled": true
   },
   "outputs": [
    {
     "name": "stdout",
     "output_type": "stream",
     "text": [
      "Checking the Training on a Single Batch...\n",
      "Epoch  1, CIFAR-10 Batch 1:  cost: 2.15907 accuracy: 0.2918\n",
      "Epoch  2, CIFAR-10 Batch 1:  cost: 1.97713 accuracy: 0.3516\n",
      "Epoch  3, CIFAR-10 Batch 1:  cost: 1.80811 accuracy: 0.4088\n",
      "Epoch  4, CIFAR-10 Batch 1:  cost: 1.69611 accuracy: 0.4316\n",
      "Epoch  5, CIFAR-10 Batch 1:  cost: 1.63371 accuracy: 0.4584\n",
      "Epoch  6, CIFAR-10 Batch 1:  cost: 1.50511 accuracy: 0.4758\n",
      "Epoch  7, CIFAR-10 Batch 1:  cost: 1.44331 accuracy: 0.4958\n",
      "Epoch  8, CIFAR-10 Batch 1:  cost: 1.38074 accuracy: 0.4926\n",
      "Epoch  9, CIFAR-10 Batch 1:  cost: 1.31975 accuracy: 0.5114\n",
      "Epoch 10, CIFAR-10 Batch 1:  cost: 1.21764 accuracy: 0.5222\n",
      "Epoch 11, CIFAR-10 Batch 1:  cost: 1.17403 accuracy: 0.529\n",
      "Epoch 12, CIFAR-10 Batch 1:  cost: 1.1368 accuracy: 0.5298\n",
      "Epoch 13, CIFAR-10 Batch 1:  cost: 1.10794 accuracy: 0.5354\n",
      "Epoch 14, CIFAR-10 Batch 1:  cost: 1.05024 accuracy: 0.543\n",
      "Epoch 15, CIFAR-10 Batch 1:  cost: 0.988341 accuracy: 0.553\n",
      "Epoch 16, CIFAR-10 Batch 1:  cost: 0.96723 accuracy: 0.548\n",
      "Epoch 17, CIFAR-10 Batch 1:  cost: 0.917548 accuracy: 0.5556\n",
      "Epoch 18, CIFAR-10 Batch 1:  cost: 0.871184 accuracy: 0.5702\n",
      "Epoch 19, CIFAR-10 Batch 1:  cost: 0.849407 accuracy: 0.5638\n",
      "Epoch 20, CIFAR-10 Batch 1:  cost: 0.805818 accuracy: 0.5708\n",
      "Epoch 21, CIFAR-10 Batch 1:  cost: 0.775968 accuracy: 0.5674\n",
      "Epoch 22, CIFAR-10 Batch 1:  cost: 0.724717 accuracy: 0.5768\n",
      "Epoch 23, CIFAR-10 Batch 1:  cost: 0.717139 accuracy: 0.5806\n",
      "Epoch 24, CIFAR-10 Batch 1:  cost: 0.68428 accuracy: 0.5868\n",
      "Epoch 25, CIFAR-10 Batch 1:  cost: 0.667546 accuracy: 0.5928\n",
      "Epoch 26, CIFAR-10 Batch 1:  cost: 0.632168 accuracy: 0.5952\n",
      "Epoch 27, CIFAR-10 Batch 1:  cost: 0.608212 accuracy: 0.597\n",
      "Epoch 28, CIFAR-10 Batch 1:  cost: 0.545647 accuracy: 0.5924\n",
      "Epoch 29, CIFAR-10 Batch 1:  cost: 0.558988 accuracy: 0.6046\n",
      "Epoch 30, CIFAR-10 Batch 1:  cost: 0.540749 accuracy: 0.6028\n",
      "Epoch 31, CIFAR-10 Batch 1:  cost: 0.487486 accuracy: 0.6106\n",
      "Epoch 32, CIFAR-10 Batch 1:  cost: 0.469536 accuracy: 0.6074\n",
      "Epoch 33, CIFAR-10 Batch 1:  cost: 0.44896 accuracy: 0.6142\n",
      "Epoch 34, CIFAR-10 Batch 1:  cost: 0.436607 accuracy: 0.6146\n",
      "Epoch 35, CIFAR-10 Batch 1:  cost: 0.393853 accuracy: 0.616\n",
      "Epoch 36, CIFAR-10 Batch 1:  cost: 0.391629 accuracy: 0.6112\n",
      "Epoch 37, CIFAR-10 Batch 1:  cost: 0.373424 accuracy: 0.6214\n",
      "Epoch 38, CIFAR-10 Batch 1:  cost: 0.37547 accuracy: 0.6254\n",
      "Epoch 39, CIFAR-10 Batch 1:  cost: 0.33672 accuracy: 0.6242\n",
      "Epoch 40, CIFAR-10 Batch 1:  cost: 0.319901 accuracy: 0.6294\n",
      "Epoch 41, CIFAR-10 Batch 1:  cost: 0.323349 accuracy: 0.6306\n",
      "Epoch 42, CIFAR-10 Batch 1:  cost: 0.291382 accuracy: 0.632\n",
      "Epoch 43, CIFAR-10 Batch 1:  cost: 0.285915 accuracy: 0.6324\n",
      "Epoch 44, CIFAR-10 Batch 1:  cost: 0.276012 accuracy: 0.6408\n",
      "Epoch 45, CIFAR-10 Batch 1:  cost: 0.266572 accuracy: 0.6462\n",
      "Epoch 46, CIFAR-10 Batch 1:  cost: 0.258942 accuracy: 0.6408\n",
      "Epoch 47, CIFAR-10 Batch 1:  cost: 0.215267 accuracy: 0.6376\n",
      "Epoch 48, CIFAR-10 Batch 1:  cost: 0.213577 accuracy: 0.6382\n",
      "Epoch 49, CIFAR-10 Batch 1:  cost: 0.199936 accuracy: 0.6378\n",
      "Epoch 50, CIFAR-10 Batch 1:  cost: 0.207097 accuracy: 0.6318\n",
      "Epoch 51, CIFAR-10 Batch 1:  cost: 0.205695 accuracy: 0.6426\n",
      "Epoch 52, CIFAR-10 Batch 1:  cost: 0.171808 accuracy: 0.6276\n",
      "Epoch 53, CIFAR-10 Batch 1:  cost: 0.168531 accuracy: 0.6346\n",
      "Epoch 54, CIFAR-10 Batch 1:  cost: 0.141609 accuracy: 0.6334\n",
      "Epoch 55, CIFAR-10 Batch 1:  cost: 0.138501 accuracy: 0.635\n",
      "Epoch 56, CIFAR-10 Batch 1:  cost: 0.138584 accuracy: 0.6328\n",
      "Epoch 57, CIFAR-10 Batch 1:  cost: 0.139592 accuracy: 0.6376\n",
      "Epoch 58, CIFAR-10 Batch 1:  cost: 0.12935 accuracy: 0.6314\n",
      "Epoch 59, CIFAR-10 Batch 1:  cost: 0.0992017 accuracy: 0.6396\n",
      "Epoch 60, CIFAR-10 Batch 1:  cost: 0.112644 accuracy: 0.6354\n",
      "Epoch 61, CIFAR-10 Batch 1:  cost: 0.0984102 accuracy: 0.6398\n",
      "Epoch 62, CIFAR-10 Batch 1:  cost: 0.0896007 accuracy: 0.6436\n",
      "Epoch 63, CIFAR-10 Batch 1:  cost: 0.0872589 accuracy: 0.6382\n",
      "Epoch 64, CIFAR-10 Batch 1:  cost: 0.0915364 accuracy: 0.6428\n",
      "Epoch 65, CIFAR-10 Batch 1:  cost: 0.0851467 accuracy: 0.627\n",
      "Epoch 66, CIFAR-10 Batch 1:  cost: 0.0830151 accuracy: 0.639\n",
      "Epoch 67, CIFAR-10 Batch 1:  cost: 0.0728684 accuracy: 0.6462\n",
      "Epoch 68, CIFAR-10 Batch 1:  cost: 0.0753063 accuracy: 0.6424\n",
      "Epoch 69, CIFAR-10 Batch 1:  cost: 0.0679316 accuracy: 0.6436\n",
      "Epoch 70, CIFAR-10 Batch 1:  cost: 0.0807936 accuracy: 0.6414\n",
      "Epoch 71, CIFAR-10 Batch 1:  cost: 0.0598531 accuracy: 0.648\n",
      "Epoch 72, CIFAR-10 Batch 1:  cost: 0.0542538 accuracy: 0.6442\n",
      "Epoch 73, CIFAR-10 Batch 1:  cost: 0.0592493 accuracy: 0.6406\n",
      "Epoch 74, CIFAR-10 Batch 1:  cost: 0.0588978 accuracy: 0.6448\n",
      "Epoch 75, CIFAR-10 Batch 1:  cost: 0.0543538 accuracy: 0.6384\n",
      "Epoch 76, CIFAR-10 Batch 1:  cost: 0.0433619 accuracy: 0.6514\n",
      "Epoch 77, CIFAR-10 Batch 1:  cost: 0.0489731 accuracy: 0.6348\n",
      "Epoch 78, CIFAR-10 Batch 1:  cost: 0.0664487 accuracy: 0.621\n",
      "Epoch 79, CIFAR-10 Batch 1:  cost: 0.0525775 accuracy: 0.6344\n",
      "Epoch 80, CIFAR-10 Batch 1:  cost: 0.0369755 accuracy: 0.6402\n"
     ]
    },
    {
     "data": {
      "image/png": "[encoded data removed]",
      "text/plain": [
       "<matplotlib.figure.Figure at 0x7fc0cbebbe10>"
      ]
     },
     "metadata": {
      "image/png": {
       "height": 250,
       "width": 373
      }
     },
     "output_type": "display_data"
    }
   ],
   "source": [
    "\"\"\"\n",
    "DON'T MODIFY ANYTHING IN THIS CELL\n",
    "\"\"\"\n",
    "\n",
    "cost_record = []\n",
    "accuracy_record = []\n",
    "\n",
    "print('Checking the Training on a Single Batch...')\n",
    "with tf.Session() as sess:\n",
    "    # Initializing the variables\n",
    "    sess.run(tf.global_variables_initializer())\n",
    "    \n",
    "    # Training cycle\n",
    "    for epoch in range(epochs):\n",
    "        batch_i = 1\n",
    "        for batch_features, batch_labels in helper.load_preprocess_training_batch(batch_i, batch_size):\n",
    "            train_neural_network(sess, optimizer, keep_probability, batch_features, batch_labels)\n",
    "        print('Epoch {:>2}, CIFAR-10 Batch {}:  '.format(epoch + 1, batch_i), end='')\n",
    "        cost_result, accuracy_result = print_stats(sess, batch_features, batch_labels, cost, accuracy)\n",
    "        cost_record.append(cost_result)\n",
    "        accuracy_record.append(accuracy_result)\n",
    "\n",
    "plt.plot(range(epochs), cost_record)\n",
    "show()"
   ]
  },
  {
   "cell_type": "markdown",
   "metadata": {
    "deletable": true,
    "editable": true
   },
   "source": [
    "### Fully Train the Model\n",
    "Now that you got a good accuracy with a single CIFAR-10 batch, try it with all five batches."
   ]
  },
  {
   "cell_type": "code",
   "execution_count": 19,
   "metadata": {
    "collapsed": false,
    "deletable": true,
    "editable": true,
    "scrolled": true
   },
   "outputs": [
    {
     "name": "stdout",
     "output_type": "stream",
     "text": [
      "Training...\n",
      "Epoch  1, CIFAR-10 Batch 1:  cost: 2.15794 accuracy: 0.2272\n",
      "Epoch  1, CIFAR-10 Batch 2:  cost: 1.95629 accuracy: 0.3312\n",
      "Epoch  1, CIFAR-10 Batch 3:  cost: 1.73427 accuracy: 0.381\n",
      "Epoch  1, CIFAR-10 Batch 4:  cost: 1.73007 accuracy: 0.4132\n",
      "Epoch  1, CIFAR-10 Batch 5:  cost: 1.7146 accuracy: 0.422\n",
      "Epoch  2, CIFAR-10 Batch 1:  cost: 1.78165 accuracy: 0.4432\n",
      "Epoch  2, CIFAR-10 Batch 2:  cost: 1.6568 accuracy: 0.4414\n",
      "Epoch  2, CIFAR-10 Batch 3:  cost: 1.42954 accuracy: 0.4564\n",
      "Epoch  2, CIFAR-10 Batch 4:  cost: 1.49569 accuracy: 0.4608\n",
      "Epoch  2, CIFAR-10 Batch 5:  cost: 1.52492 accuracy: 0.4726\n",
      "Epoch  3, CIFAR-10 Batch 1:  cost: 1.5978 accuracy: 0.4884\n",
      "Epoch  3, CIFAR-10 Batch 2:  cost: 1.57768 accuracy: 0.4964\n",
      "Epoch  3, CIFAR-10 Batch 3:  cost: 1.21738 accuracy: 0.5018\n",
      "Epoch  3, CIFAR-10 Batch 4:  cost: 1.38971 accuracy: 0.511\n",
      "Epoch  3, CIFAR-10 Batch 5:  cost: 1.33901 accuracy: 0.5196\n",
      "Epoch  4, CIFAR-10 Batch 1:  cost: 1.47088 accuracy: 0.52\n",
      "Epoch  4, CIFAR-10 Batch 2:  cost: 1.44582 accuracy: 0.5308\n",
      "Epoch  4, CIFAR-10 Batch 3:  cost: 1.0366 accuracy: 0.5414\n",
      "Epoch  4, CIFAR-10 Batch 4:  cost: 1.28104 accuracy: 0.543\n",
      "Epoch  4, CIFAR-10 Batch 5:  cost: 1.27792 accuracy: 0.5408\n",
      "Epoch  5, CIFAR-10 Batch 1:  cost: 1.33226 accuracy: 0.5498\n",
      "Epoch  5, CIFAR-10 Batch 2:  cost: 1.30636 accuracy: 0.5576\n",
      "Epoch  5, CIFAR-10 Batch 3:  cost: 0.928064 accuracy: 0.553\n",
      "Epoch  5, CIFAR-10 Batch 4:  cost: 1.18169 accuracy: 0.5648\n",
      "Epoch  5, CIFAR-10 Batch 5:  cost: 1.22794 accuracy: 0.5698\n",
      "Epoch  6, CIFAR-10 Batch 1:  cost: 1.23836 accuracy: 0.5746\n",
      "Epoch  6, CIFAR-10 Batch 2:  cost: 1.18574 accuracy: 0.5784\n",
      "Epoch  6, CIFAR-10 Batch 3:  cost: 0.860929 accuracy: 0.5868\n",
      "Epoch  6, CIFAR-10 Batch 4:  cost: 1.10295 accuracy: 0.588\n",
      "Epoch  6, CIFAR-10 Batch 5:  cost: 1.1691 accuracy: 0.58\n",
      "Epoch  7, CIFAR-10 Batch 1:  cost: 1.1655 accuracy: 0.591\n",
      "Epoch  7, CIFAR-10 Batch 2:  cost: 1.07612 accuracy: 0.6022\n",
      "Epoch  7, CIFAR-10 Batch 3:  cost: 0.793792 accuracy: 0.5928\n",
      "Epoch  7, CIFAR-10 Batch 4:  cost: 0.987862 accuracy: 0.6034\n",
      "Epoch  7, CIFAR-10 Batch 5:  cost: 1.11652 accuracy: 0.5898\n",
      "Epoch  8, CIFAR-10 Batch 1:  cost: 1.08188 accuracy: 0.602\n",
      "Epoch  8, CIFAR-10 Batch 2:  cost: 0.973661 accuracy: 0.615\n",
      "Epoch  8, CIFAR-10 Batch 3:  cost: 0.699379 accuracy: 0.608\n",
      "Epoch  8, CIFAR-10 Batch 4:  cost: 0.939791 accuracy: 0.6186\n",
      "Epoch  8, CIFAR-10 Batch 5:  cost: 0.995908 accuracy: 0.6144\n",
      "Epoch  9, CIFAR-10 Batch 1:  cost: 1.02371 accuracy: 0.6138\n",
      "Epoch  9, CIFAR-10 Batch 2:  cost: 0.928853 accuracy: 0.6276\n",
      "Epoch  9, CIFAR-10 Batch 3:  cost: 0.672065 accuracy: 0.6194\n",
      "Epoch  9, CIFAR-10 Batch 4:  cost: 0.87964 accuracy: 0.6236\n",
      "Epoch  9, CIFAR-10 Batch 5:  cost: 0.954611 accuracy: 0.6258\n",
      "Epoch 10, CIFAR-10 Batch 1:  cost: 0.955719 accuracy: 0.6294\n",
      "Epoch 10, CIFAR-10 Batch 2:  cost: 0.854275 accuracy: 0.6288\n",
      "Epoch 10, CIFAR-10 Batch 3:  cost: 0.638867 accuracy: 0.6388\n",
      "Epoch 10, CIFAR-10 Batch 4:  cost: 0.849723 accuracy: 0.6422\n",
      "Epoch 10, CIFAR-10 Batch 5:  cost: 0.930395 accuracy: 0.6254\n",
      "Epoch 11, CIFAR-10 Batch 1:  cost: 0.917198 accuracy: 0.6444\n",
      "Epoch 11, CIFAR-10 Batch 2:  cost: 0.771033 accuracy: 0.6436\n",
      "Epoch 11, CIFAR-10 Batch 3:  cost: 0.601342 accuracy: 0.6442\n",
      "Epoch 11, CIFAR-10 Batch 4:  cost: 0.802737 accuracy: 0.6462\n",
      "Epoch 11, CIFAR-10 Batch 5:  cost: 0.813313 accuracy: 0.6498\n",
      "Epoch 12, CIFAR-10 Batch 1:  cost: 0.855083 accuracy: 0.6556\n",
      "Epoch 12, CIFAR-10 Batch 2:  cost: 0.715489 accuracy: 0.6474\n",
      "Epoch 12, CIFAR-10 Batch 3:  cost: 0.551071 accuracy: 0.6516\n",
      "Epoch 12, CIFAR-10 Batch 4:  cost: 0.747226 accuracy: 0.6592\n",
      "Epoch 12, CIFAR-10 Batch 5:  cost: 0.746114 accuracy: 0.6552\n",
      "Epoch 13, CIFAR-10 Batch 1:  cost: 0.838951 accuracy: 0.6584\n",
      "Epoch 13, CIFAR-10 Batch 2:  cost: 0.64815 accuracy: 0.6638\n",
      "Epoch 13, CIFAR-10 Batch 3:  cost: 0.510769 accuracy: 0.6542\n",
      "Epoch 13, CIFAR-10 Batch 4:  cost: 0.702877 accuracy: 0.6674\n",
      "Epoch 13, CIFAR-10 Batch 5:  cost: 0.716004 accuracy: 0.662\n",
      "Epoch 14, CIFAR-10 Batch 1:  cost: 0.827856 accuracy: 0.6602\n",
      "Epoch 14, CIFAR-10 Batch 2:  cost: 0.652183 accuracy: 0.6668\n",
      "Epoch 14, CIFAR-10 Batch 3:  cost: 0.470568 accuracy: 0.6624\n",
      "Epoch 14, CIFAR-10 Batch 4:  cost: 0.684749 accuracy: 0.6698\n",
      "Epoch 14, CIFAR-10 Batch 5:  cost: 0.679995 accuracy: 0.6602\n",
      "Epoch 15, CIFAR-10 Batch 1:  cost: 0.774683 accuracy: 0.6652\n",
      "Epoch 15, CIFAR-10 Batch 2:  cost: 0.557084 accuracy: 0.6736\n",
      "Epoch 15, CIFAR-10 Batch 3:  cost: 0.425892 accuracy: 0.6718\n",
      "Epoch 15, CIFAR-10 Batch 4:  cost: 0.663326 accuracy: 0.6772\n",
      "Epoch 15, CIFAR-10 Batch 5:  cost: 0.636393 accuracy: 0.6688\n",
      "Epoch 16, CIFAR-10 Batch 1:  cost: 0.728612 accuracy: 0.6744\n",
      "Epoch 16, CIFAR-10 Batch 2:  cost: 0.557082 accuracy: 0.6768\n",
      "Epoch 16, CIFAR-10 Batch 3:  cost: 0.424814 accuracy: 0.6734\n",
      "Epoch 16, CIFAR-10 Batch 4:  cost: 0.598487 accuracy: 0.6888\n",
      "Epoch 16, CIFAR-10 Batch 5:  cost: 0.586025 accuracy: 0.6674\n",
      "Epoch 17, CIFAR-10 Batch 1:  cost: 0.703386 accuracy: 0.6818\n",
      "Epoch 17, CIFAR-10 Batch 2:  cost: 0.519762 accuracy: 0.684\n",
      "Epoch 17, CIFAR-10 Batch 3:  cost: 0.403291 accuracy: 0.6816\n",
      "Epoch 17, CIFAR-10 Batch 4:  cost: 0.571276 accuracy: 0.6878\n",
      "Epoch 17, CIFAR-10 Batch 5:  cost: 0.52342 accuracy: 0.6894\n",
      "Epoch 18, CIFAR-10 Batch 1:  cost: 0.666636 accuracy: 0.6882\n",
      "Epoch 18, CIFAR-10 Batch 2:  cost: 0.465641 accuracy: 0.6946\n",
      "Epoch 18, CIFAR-10 Batch 3:  cost: 0.367764 accuracy: 0.6942\n",
      "Epoch 18, CIFAR-10 Batch 4:  cost: 0.529341 accuracy: 0.7002\n",
      "Epoch 18, CIFAR-10 Batch 5:  cost: 0.472783 accuracy: 0.685\n",
      "Epoch 19, CIFAR-10 Batch 1:  cost: 0.616701 accuracy: 0.683\n",
      "Epoch 19, CIFAR-10 Batch 2:  cost: 0.455956 accuracy: 0.692\n",
      "Epoch 19, CIFAR-10 Batch 3:  cost: 0.340321 accuracy: 0.6918\n",
      "Epoch 19, CIFAR-10 Batch 4:  cost: 0.522062 accuracy: 0.6986\n",
      "Epoch 19, CIFAR-10 Batch 5:  cost: 0.434533 accuracy: 0.6964\n",
      "Epoch 20, CIFAR-10 Batch 1:  cost: 0.606756 accuracy: 0.698\n",
      "Epoch 20, CIFAR-10 Batch 2:  cost: 0.409854 accuracy: 0.692\n",
      "Epoch 20, CIFAR-10 Batch 3:  cost: 0.314347 accuracy: 0.6998\n",
      "Epoch 20, CIFAR-10 Batch 4:  cost: 0.438247 accuracy: 0.7058\n",
      "Epoch 20, CIFAR-10 Batch 5:  cost: 0.413787 accuracy: 0.696\n",
      "Epoch 21, CIFAR-10 Batch 1:  cost: 0.568208 accuracy: 0.6974\n",
      "Epoch 21, CIFAR-10 Batch 2:  cost: 0.367397 accuracy: 0.7022\n",
      "Epoch 21, CIFAR-10 Batch 3:  cost: 0.289255 accuracy: 0.7116\n",
      "Epoch 21, CIFAR-10 Batch 4:  cost: 0.444906 accuracy: 0.7016\n",
      "Epoch 21, CIFAR-10 Batch 5:  cost: 0.396261 accuracy: 0.7008\n",
      "Epoch 22, CIFAR-10 Batch 1:  cost: 0.540533 accuracy: 0.7028\n",
      "Epoch 22, CIFAR-10 Batch 2:  cost: 0.355976 accuracy: 0.6938\n",
      "Epoch 22, CIFAR-10 Batch 3:  cost: 0.297207 accuracy: 0.7094\n",
      "Epoch 22, CIFAR-10 Batch 4:  cost: 0.430942 accuracy: 0.7048\n",
      "Epoch 22, CIFAR-10 Batch 5:  cost: 0.353673 accuracy: 0.7094\n",
      "Epoch 23, CIFAR-10 Batch 1:  cost: 0.502247 accuracy: 0.707\n",
      "Epoch 23, CIFAR-10 Batch 2:  cost: 0.331305 accuracy: 0.719\n",
      "Epoch 23, CIFAR-10 Batch 3:  cost: 0.266884 accuracy: 0.7162\n",
      "Epoch 23, CIFAR-10 Batch 4:  cost: 0.398062 accuracy: 0.7112\n",
      "Epoch 23, CIFAR-10 Batch 5:  cost: 0.328195 accuracy: 0.7114\n",
      "Epoch 24, CIFAR-10 Batch 1:  cost: 0.474306 accuracy: 0.7058\n",
      "Epoch 24, CIFAR-10 Batch 2:  cost: 0.308872 accuracy: 0.7124\n",
      "Epoch 24, CIFAR-10 Batch 3:  cost: 0.246867 accuracy: 0.7142\n",
      "Epoch 24, CIFAR-10 Batch 4:  cost: 0.350947 accuracy: 0.716\n",
      "Epoch 24, CIFAR-10 Batch 5:  cost: 0.305013 accuracy: 0.7174\n",
      "Epoch 25, CIFAR-10 Batch 1:  cost: 0.457619 accuracy: 0.7144\n",
      "Epoch 25, CIFAR-10 Batch 2:  cost: 0.295054 accuracy: 0.709\n",
      "Epoch 25, CIFAR-10 Batch 3:  cost: 0.239439 accuracy: 0.7192\n",
      "Epoch 25, CIFAR-10 Batch 4:  cost: 0.328869 accuracy: 0.7166\n",
      "Epoch 25, CIFAR-10 Batch 5:  cost: 0.295025 accuracy: 0.7178\n",
      "Epoch 26, CIFAR-10 Batch 1:  cost: 0.45388 accuracy: 0.7162\n",
      "Epoch 26, CIFAR-10 Batch 2:  cost: 0.258147 accuracy: 0.7156\n",
      "Epoch 26, CIFAR-10 Batch 3:  cost: 0.221499 accuracy: 0.7194\n",
      "Epoch 26, CIFAR-10 Batch 4:  cost: 0.288386 accuracy: 0.7206\n",
      "Epoch 26, CIFAR-10 Batch 5:  cost: 0.299119 accuracy: 0.7158\n",
      "Epoch 27, CIFAR-10 Batch 1:  cost: 0.394049 accuracy: 0.7176\n",
      "Epoch 27, CIFAR-10 Batch 2:  cost: 0.241648 accuracy: 0.7144\n",
      "Epoch 27, CIFAR-10 Batch 3:  cost: 0.222147 accuracy: 0.728\n",
      "Epoch 27, CIFAR-10 Batch 4:  cost: 0.280996 accuracy: 0.7184\n",
      "Epoch 27, CIFAR-10 Batch 5:  cost: 0.247229 accuracy: 0.7258\n",
      "Epoch 28, CIFAR-10 Batch 1:  cost: 0.355028 accuracy: 0.7268\n",
      "Epoch 28, CIFAR-10 Batch 2:  cost: 0.225268 accuracy: 0.7202\n",
      "Epoch 28, CIFAR-10 Batch 3:  cost: 0.218545 accuracy: 0.7276\n",
      "Epoch 28, CIFAR-10 Batch 4:  cost: 0.26017 accuracy: 0.7296\n",
      "Epoch 28, CIFAR-10 Batch 5:  cost: 0.241739 accuracy: 0.727\n",
      "Epoch 29, CIFAR-10 Batch 1:  cost: 0.359578 accuracy: 0.7204\n",
      "Epoch 29, CIFAR-10 Batch 2:  cost: 0.2392 accuracy: 0.7284\n",
      "Epoch 29, CIFAR-10 Batch 3:  cost: 0.176712 accuracy: 0.731\n",
      "Epoch 29, CIFAR-10 Batch 4:  cost: 0.23787 accuracy: 0.7254\n",
      "Epoch 29, CIFAR-10 Batch 5:  cost: 0.264335 accuracy: 0.7096\n",
      "Epoch 30, CIFAR-10 Batch 1:  cost: 0.329705 accuracy: 0.7236\n",
      "Epoch 30, CIFAR-10 Batch 2:  cost: 0.193179 accuracy: 0.731\n",
      "Epoch 30, CIFAR-10 Batch 3:  cost: 0.180756 accuracy: 0.73\n",
      "Epoch 30, CIFAR-10 Batch 4:  cost: 0.25292 accuracy: 0.727\n",
      "Epoch 30, CIFAR-10 Batch 5:  cost: 0.20457 accuracy: 0.7266\n",
      "Epoch 31, CIFAR-10 Batch 1:  cost: 0.336703 accuracy: 0.727\n",
      "Epoch 31, CIFAR-10 Batch 2:  cost: 0.193772 accuracy: 0.7292\n",
      "Epoch 31, CIFAR-10 Batch 3:  cost: 0.165048 accuracy: 0.735\n",
      "Epoch 31, CIFAR-10 Batch 4:  cost: 0.223433 accuracy: 0.733\n",
      "Epoch 31, CIFAR-10 Batch 5:  cost: 0.182896 accuracy: 0.7312\n",
      "Epoch 32, CIFAR-10 Batch 1:  cost: 0.280264 accuracy: 0.7318\n",
      "Epoch 32, CIFAR-10 Batch 2:  cost: 0.174176 accuracy: 0.738\n",
      "Epoch 32, CIFAR-10 Batch 3:  cost: 0.153026 accuracy: 0.7324\n",
      "Epoch 32, CIFAR-10 Batch 4:  cost: 0.191867 accuracy: 0.7342\n",
      "Epoch 32, CIFAR-10 Batch 5:  cost: 0.171683 accuracy: 0.729\n",
      "Epoch 33, CIFAR-10 Batch 1:  cost: 0.262888 accuracy: 0.7282\n",
      "Epoch 33, CIFAR-10 Batch 2:  cost: 0.163324 accuracy: 0.7392\n",
      "Epoch 33, CIFAR-10 Batch 3:  cost: 0.143051 accuracy: 0.7328\n",
      "Epoch 33, CIFAR-10 Batch 4:  cost: 0.194504 accuracy: 0.736\n",
      "Epoch 33, CIFAR-10 Batch 5:  cost: 0.15409 accuracy: 0.7326\n",
      "Epoch 34, CIFAR-10 Batch 1:  cost: 0.244866 accuracy: 0.735\n",
      "Epoch 34, CIFAR-10 Batch 2:  cost: 0.168305 accuracy: 0.736\n",
      "Epoch 34, CIFAR-10 Batch 3:  cost: 0.134748 accuracy: 0.7406\n",
      "Epoch 34, CIFAR-10 Batch 4:  cost: 0.186034 accuracy: 0.7406\n",
      "Epoch 34, CIFAR-10 Batch 5:  cost: 0.147518 accuracy: 0.732\n",
      "Epoch 35, CIFAR-10 Batch 1:  cost: 0.266161 accuracy: 0.7254\n",
      "Epoch 35, CIFAR-10 Batch 2:  cost: 0.14378 accuracy: 0.741\n",
      "Epoch 35, CIFAR-10 Batch 3:  cost: 0.127568 accuracy: 0.7414\n",
      "Epoch 35, CIFAR-10 Batch 4:  cost: 0.189945 accuracy: 0.7342\n",
      "Epoch 35, CIFAR-10 Batch 5:  cost: 0.11878 accuracy: 0.737\n",
      "Epoch 36, CIFAR-10 Batch 1:  cost: 0.232965 accuracy: 0.737\n",
      "Epoch 36, CIFAR-10 Batch 2:  cost: 0.142057 accuracy: 0.7392\n",
      "Epoch 36, CIFAR-10 Batch 3:  cost: 0.128125 accuracy: 0.7382\n",
      "Epoch 36, CIFAR-10 Batch 4:  cost: 0.160168 accuracy: 0.7406\n",
      "Epoch 36, CIFAR-10 Batch 5:  cost: 0.127109 accuracy: 0.7296\n",
      "Epoch 37, CIFAR-10 Batch 1:  cost: 0.198115 accuracy: 0.7366\n",
      "Epoch 37, CIFAR-10 Batch 2:  cost: 0.119939 accuracy: 0.746\n",
      "Epoch 37, CIFAR-10 Batch 3:  cost: 0.120309 accuracy: 0.7404\n",
      "Epoch 37, CIFAR-10 Batch 4:  cost: 0.13594 accuracy: 0.7382\n",
      "Epoch 37, CIFAR-10 Batch 5:  cost: 0.131048 accuracy: 0.734\n",
      "Epoch 38, CIFAR-10 Batch 1:  cost: 0.195204 accuracy: 0.7416\n",
      "Epoch 38, CIFAR-10 Batch 2:  cost: 0.10367 accuracy: 0.738\n",
      "Epoch 38, CIFAR-10 Batch 3:  cost: 0.107991 accuracy: 0.7372\n",
      "Epoch 38, CIFAR-10 Batch 4:  cost: 0.128092 accuracy: 0.745\n",
      "Epoch 38, CIFAR-10 Batch 5:  cost: 0.103466 accuracy: 0.736\n",
      "Epoch 39, CIFAR-10 Batch 1:  cost: 0.187005 accuracy: 0.7362\n",
      "Epoch 39, CIFAR-10 Batch 2:  cost: 0.111751 accuracy: 0.741\n",
      "Epoch 39, CIFAR-10 Batch 3:  cost: 0.107999 accuracy: 0.7458\n",
      "Epoch 39, CIFAR-10 Batch 4:  cost: 0.117722 accuracy: 0.744\n",
      "Epoch 39, CIFAR-10 Batch 5:  cost: 0.0814638 accuracy: 0.7428\n",
      "Epoch 40, CIFAR-10 Batch 1:  cost: 0.163025 accuracy: 0.7456\n",
      "Epoch 40, CIFAR-10 Batch 2:  cost: 0.0945925 accuracy: 0.7436\n",
      "Epoch 40, CIFAR-10 Batch 3:  cost: 0.108081 accuracy: 0.7456\n",
      "Epoch 40, CIFAR-10 Batch 4:  cost: 0.138119 accuracy: 0.7392\n",
      "Epoch 40, CIFAR-10 Batch 5:  cost: 0.0872205 accuracy: 0.7414\n",
      "Epoch 41, CIFAR-10 Batch 1:  cost: 0.162928 accuracy: 0.7486\n",
      "Epoch 41, CIFAR-10 Batch 2:  cost: 0.0841627 accuracy: 0.747\n",
      "Epoch 41, CIFAR-10 Batch 3:  cost: 0.103297 accuracy: 0.737\n",
      "Epoch 41, CIFAR-10 Batch 4:  cost: 0.107313 accuracy: 0.7452\n",
      "Epoch 41, CIFAR-10 Batch 5:  cost: 0.0746327 accuracy: 0.7446\n",
      "Epoch 42, CIFAR-10 Batch 1:  cost: 0.149744 accuracy: 0.7506\n",
      "Epoch 42, CIFAR-10 Batch 2:  cost: 0.0914257 accuracy: 0.7406\n",
      "Epoch 42, CIFAR-10 Batch 3:  cost: 0.0798137 accuracy: 0.7486\n",
      "Epoch 42, CIFAR-10 Batch 4:  cost: 0.112299 accuracy: 0.7366\n",
      "Epoch 42, CIFAR-10 Batch 5:  cost: 0.0663697 accuracy: 0.7432\n",
      "Epoch 43, CIFAR-10 Batch 1:  cost: 0.136508 accuracy: 0.7498\n",
      "Epoch 43, CIFAR-10 Batch 2:  cost: 0.072122 accuracy: 0.7474\n",
      "Epoch 43, CIFAR-10 Batch 3:  cost: 0.0773174 accuracy: 0.7464\n",
      "Epoch 43, CIFAR-10 Batch 4:  cost: 0.0876506 accuracy: 0.7484\n",
      "Epoch 43, CIFAR-10 Batch 5:  cost: 0.0682126 accuracy: 0.7504\n",
      "Epoch 44, CIFAR-10 Batch 1:  cost: 0.142847 accuracy: 0.7506\n",
      "Epoch 44, CIFAR-10 Batch 2:  cost: 0.0638096 accuracy: 0.7446\n",
      "Epoch 44, CIFAR-10 Batch 3:  cost: 0.075861 accuracy: 0.7468\n",
      "Epoch 44, CIFAR-10 Batch 4:  cost: 0.0868808 accuracy: 0.7364\n",
      "Epoch 44, CIFAR-10 Batch 5:  cost: 0.0550022 accuracy: 0.7486\n",
      "Epoch 45, CIFAR-10 Batch 1:  cost: 0.129037 accuracy: 0.7474\n",
      "Epoch 45, CIFAR-10 Batch 2:  cost: 0.0580596 accuracy: 0.7426\n",
      "Epoch 45, CIFAR-10 Batch 3:  cost: 0.0647072 accuracy: 0.7414\n",
      "Epoch 45, CIFAR-10 Batch 4:  cost: 0.0722622 accuracy: 0.7476\n",
      "Epoch 45, CIFAR-10 Batch 5:  cost: 0.0506054 accuracy: 0.7524\n",
      "Epoch 46, CIFAR-10 Batch 1:  cost: 0.146872 accuracy: 0.7376\n",
      "Epoch 46, CIFAR-10 Batch 2:  cost: 0.0527684 accuracy: 0.7292\n",
      "Epoch 46, CIFAR-10 Batch 3:  cost: 0.064888 accuracy: 0.7422\n",
      "Epoch 46, CIFAR-10 Batch 4:  cost: 0.0834121 accuracy: 0.7366\n",
      "Epoch 46, CIFAR-10 Batch 5:  cost: 0.0435614 accuracy: 0.7492\n",
      "Epoch 47, CIFAR-10 Batch 1:  cost: 0.133112 accuracy: 0.7478\n",
      "Epoch 47, CIFAR-10 Batch 2:  cost: 0.0570641 accuracy: 0.7332\n",
      "Epoch 47, CIFAR-10 Batch 3:  cost: 0.0523113 accuracy: 0.7428\n",
      "Epoch 47, CIFAR-10 Batch 4:  cost: 0.087347 accuracy: 0.7328\n",
      "Epoch 47, CIFAR-10 Batch 5:  cost: 0.0405587 accuracy: 0.7478\n",
      "Epoch 48, CIFAR-10 Batch 1:  cost: 0.0943003 accuracy: 0.7422\n",
      "Epoch 48, CIFAR-10 Batch 2:  cost: 0.0472174 accuracy: 0.7414\n",
      "Epoch 48, CIFAR-10 Batch 3:  cost: 0.0585395 accuracy: 0.741\n",
      "Epoch 48, CIFAR-10 Batch 4:  cost: 0.0628059 accuracy: 0.7348\n",
      "Epoch 48, CIFAR-10 Batch 5:  cost: 0.0341747 accuracy: 0.7484\n",
      "Epoch 49, CIFAR-10 Batch 1:  cost: 0.0953671 accuracy: 0.7488\n",
      "Epoch 49, CIFAR-10 Batch 2:  cost: 0.0573353 accuracy: 0.7324\n",
      "Epoch 49, CIFAR-10 Batch 3:  cost: 0.0511538 accuracy: 0.7462\n",
      "Epoch 49, CIFAR-10 Batch 4:  cost: 0.0741047 accuracy: 0.7314\n",
      "Epoch 49, CIFAR-10 Batch 5:  cost: 0.0375255 accuracy: 0.7448\n",
      "Epoch 50, CIFAR-10 Batch 1:  cost: 0.0923834 accuracy: 0.746\n",
      "Epoch 50, CIFAR-10 Batch 2:  cost: 0.0368192 accuracy: 0.7412\n",
      "Epoch 50, CIFAR-10 Batch 3:  cost: 0.0548242 accuracy: 0.736\n",
      "Epoch 50, CIFAR-10 Batch 4:  cost: 0.0680677 accuracy: 0.7298\n",
      "Epoch 50, CIFAR-10 Batch 5:  cost: 0.0325823 accuracy: 0.7492\n",
      "Epoch 51, CIFAR-10 Batch 1:  cost: 0.0976824 accuracy: 0.7474\n",
      "Epoch 51, CIFAR-10 Batch 2:  cost: 0.0387739 accuracy: 0.7474\n",
      "Epoch 51, CIFAR-10 Batch 3:  cost: 0.0452075 accuracy: 0.7336\n",
      "Epoch 51, CIFAR-10 Batch 4:  cost: 0.0456719 accuracy: 0.7356\n",
      "Epoch 51, CIFAR-10 Batch 5:  cost: 0.0269933 accuracy: 0.744\n",
      "Epoch 52, CIFAR-10 Batch 1:  cost: 0.0804111 accuracy: 0.7474\n",
      "Epoch 52, CIFAR-10 Batch 2:  cost: 0.0308548 accuracy: 0.739\n",
      "Epoch 52, CIFAR-10 Batch 3:  cost: 0.0435736 accuracy: 0.733\n",
      "Epoch 52, CIFAR-10 Batch 4:  cost: 0.0478051 accuracy: 0.7324\n",
      "Epoch 52, CIFAR-10 Batch 5:  cost: 0.0276511 accuracy: 0.745\n",
      "Epoch 53, CIFAR-10 Batch 1:  cost: 0.0862786 accuracy: 0.7444\n",
      "Epoch 53, CIFAR-10 Batch 2:  cost: 0.0259802 accuracy: 0.7416\n",
      "Epoch 53, CIFAR-10 Batch 3:  cost: 0.036348 accuracy: 0.7366\n",
      "Epoch 53, CIFAR-10 Batch 4:  cost: 0.0537801 accuracy: 0.7276\n",
      "Epoch 53, CIFAR-10 Batch 5:  cost: 0.0250821 accuracy: 0.7468\n",
      "Epoch 54, CIFAR-10 Batch 1:  cost: 0.0680979 accuracy: 0.7514\n",
      "Epoch 54, CIFAR-10 Batch 2:  cost: 0.0244921 accuracy: 0.7442\n",
      "Epoch 54, CIFAR-10 Batch 3:  cost: 0.0314758 accuracy: 0.7306\n",
      "Epoch 54, CIFAR-10 Batch 4:  cost: 0.0474854 accuracy: 0.738\n",
      "Epoch 54, CIFAR-10 Batch 5:  cost: 0.0192704 accuracy: 0.747\n",
      "Epoch 55, CIFAR-10 Batch 1:  cost: 0.0619717 accuracy: 0.747\n",
      "Epoch 55, CIFAR-10 Batch 2:  cost: 0.0241579 accuracy: 0.7506\n",
      "Epoch 55, CIFAR-10 Batch 3:  cost: 0.0300717 accuracy: 0.731\n",
      "Epoch 55, CIFAR-10 Batch 4:  cost: 0.0408 accuracy: 0.7336\n",
      "Epoch 55, CIFAR-10 Batch 5:  cost: 0.0185645 accuracy: 0.7388\n",
      "Epoch 56, CIFAR-10 Batch 1:  cost: 0.047202 accuracy: 0.7486\n",
      "Epoch 56, CIFAR-10 Batch 2:  cost: 0.0284109 accuracy: 0.7426\n",
      "Epoch 56, CIFAR-10 Batch 3:  cost: 0.0230549 accuracy: 0.7286\n",
      "Epoch 56, CIFAR-10 Batch 4:  cost: 0.0285221 accuracy: 0.7438\n",
      "Epoch 56, CIFAR-10 Batch 5:  cost: 0.0193928 accuracy: 0.744\n",
      "Epoch 57, CIFAR-10 Batch 1:  cost: 0.0623388 accuracy: 0.7382\n",
      "Epoch 57, CIFAR-10 Batch 2:  cost: 0.0200809 accuracy: 0.7554\n",
      "Epoch 57, CIFAR-10 Batch 3:  cost: 0.0249264 accuracy: 0.7346\n",
      "Epoch 57, CIFAR-10 Batch 4:  cost: 0.0274877 accuracy: 0.745\n",
      "Epoch 57, CIFAR-10 Batch 5:  cost: 0.02269 accuracy: 0.7416\n",
      "Epoch 58, CIFAR-10 Batch 1:  cost: 0.0511971 accuracy: 0.7344\n",
      "Epoch 58, CIFAR-10 Batch 2:  cost: 0.0202586 accuracy: 0.7446\n",
      "Epoch 58, CIFAR-10 Batch 3:  cost: 0.0163316 accuracy: 0.7364\n",
      "Epoch 58, CIFAR-10 Batch 4:  cost: 0.0335337 accuracy: 0.7386\n",
      "Epoch 58, CIFAR-10 Batch 5:  cost: 0.016457 accuracy: 0.7358\n",
      "Epoch 59, CIFAR-10 Batch 1:  cost: 0.0370348 accuracy: 0.7354\n",
      "Epoch 59, CIFAR-10 Batch 2:  cost: 0.0205233 accuracy: 0.7522\n",
      "Epoch 59, CIFAR-10 Batch 3:  cost: 0.0198551 accuracy: 0.731\n",
      "Epoch 59, CIFAR-10 Batch 4:  cost: 0.0312615 accuracy: 0.745\n",
      "Epoch 59, CIFAR-10 Batch 5:  cost: 0.0154098 accuracy: 0.7398\n",
      "Epoch 60, CIFAR-10 Batch 1:  cost: 0.0466578 accuracy: 0.74\n",
      "Epoch 60, CIFAR-10 Batch 2:  cost: 0.013541 accuracy: 0.7474\n",
      "Epoch 60, CIFAR-10 Batch 3:  cost: 0.0191455 accuracy: 0.742\n",
      "Epoch 60, CIFAR-10 Batch 4:  cost: 0.0244051 accuracy: 0.7396\n",
      "Epoch 60, CIFAR-10 Batch 5:  cost: 0.0131637 accuracy: 0.7494\n",
      "Epoch 61, CIFAR-10 Batch 1:  cost: 0.0334348 accuracy: 0.7284\n",
      "Epoch 61, CIFAR-10 Batch 2:  cost: 0.014491 accuracy: 0.7496\n",
      "Epoch 61, CIFAR-10 Batch 3:  cost: 0.0219158 accuracy: 0.737\n",
      "Epoch 61, CIFAR-10 Batch 4:  cost: 0.0211547 accuracy: 0.742\n",
      "Epoch 61, CIFAR-10 Batch 5:  cost: 0.0106142 accuracy: 0.736\n",
      "Epoch 62, CIFAR-10 Batch 1:  cost: 0.0322971 accuracy: 0.7354\n",
      "Epoch 62, CIFAR-10 Batch 2:  cost: 0.0131019 accuracy: 0.7484\n",
      "Epoch 62, CIFAR-10 Batch 3:  cost: 0.0192929 accuracy: 0.7382\n",
      "Epoch 62, CIFAR-10 Batch 4:  cost: 0.01644 accuracy: 0.7398\n",
      "Epoch 62, CIFAR-10 Batch 5:  cost: 0.0111528 accuracy: 0.7368\n",
      "Epoch 63, CIFAR-10 Batch 1:  cost: 0.031522 accuracy: 0.7362\n",
      "Epoch 63, CIFAR-10 Batch 2:  cost: 0.00837054 accuracy: 0.7432\n",
      "Epoch 63, CIFAR-10 Batch 3:  cost: 0.0121308 accuracy: 0.743\n",
      "Epoch 63, CIFAR-10 Batch 4:  cost: 0.0181282 accuracy: 0.7464\n",
      "Epoch 63, CIFAR-10 Batch 5:  cost: 0.0159234 accuracy: 0.7292\n",
      "Epoch 64, CIFAR-10 Batch 1:  cost: 0.0261807 accuracy: 0.7366\n",
      "Epoch 64, CIFAR-10 Batch 2:  cost: 0.00759149 accuracy: 0.7432\n",
      "Epoch 64, CIFAR-10 Batch 3:  cost: 0.0158596 accuracy: 0.729\n",
      "Epoch 64, CIFAR-10 Batch 4:  cost: 0.0168467 accuracy: 0.7516\n",
      "Epoch 64, CIFAR-10 Batch 5:  cost: 0.0172979 accuracy: 0.7206\n",
      "Epoch 65, CIFAR-10 Batch 1:  cost: 0.0379438 accuracy: 0.7266\n",
      "Epoch 65, CIFAR-10 Batch 2:  cost: 0.00984043 accuracy: 0.7366\n",
      "Epoch 65, CIFAR-10 Batch 3:  cost: 0.0132131 accuracy: 0.7296\n",
      "Epoch 65, CIFAR-10 Batch 4:  cost: 0.0145059 accuracy: 0.7464\n",
      "Epoch 65, CIFAR-10 Batch 5:  cost: 0.0140276 accuracy: 0.731\n",
      "Epoch 66, CIFAR-10 Batch 1:  cost: 0.0346686 accuracy: 0.727\n",
      "Epoch 66, CIFAR-10 Batch 2:  cost: 0.00470013 accuracy: 0.7424\n",
      "Epoch 66, CIFAR-10 Batch 3:  cost: 0.012187 accuracy: 0.7446\n",
      "Epoch 66, CIFAR-10 Batch 4:  cost: 0.013687 accuracy: 0.7508\n",
      "Epoch 66, CIFAR-10 Batch 5:  cost: 0.00920286 accuracy: 0.7394\n",
      "Epoch 67, CIFAR-10 Batch 1:  cost: 0.0304945 accuracy: 0.7254\n",
      "Epoch 67, CIFAR-10 Batch 2:  cost: 0.00606103 accuracy: 0.74\n",
      "Epoch 67, CIFAR-10 Batch 3:  cost: 0.00852741 accuracy: 0.735\n",
      "Epoch 67, CIFAR-10 Batch 4:  cost: 0.0117877 accuracy: 0.75\n",
      "Epoch 67, CIFAR-10 Batch 5:  cost: 0.0066413 accuracy: 0.74\n",
      "Epoch 68, CIFAR-10 Batch 1:  cost: 0.0277653 accuracy: 0.7346\n",
      "Epoch 68, CIFAR-10 Batch 2:  cost: 0.00538192 accuracy: 0.7344\n",
      "Epoch 68, CIFAR-10 Batch 3:  cost: 0.011592 accuracy: 0.744\n",
      "Epoch 68, CIFAR-10 Batch 4:  cost: 0.00765803 accuracy: 0.751\n",
      "Epoch 68, CIFAR-10 Batch 5:  cost: 0.00712459 accuracy: 0.7336\n",
      "Epoch 69, CIFAR-10 Batch 1:  cost: 0.020087 accuracy: 0.7412\n",
      "Epoch 69, CIFAR-10 Batch 2:  cost: 0.00448448 accuracy: 0.7344\n",
      "Epoch 69, CIFAR-10 Batch 3:  cost: 0.0058703 accuracy: 0.7426\n",
      "Epoch 69, CIFAR-10 Batch 4:  cost: 0.00806374 accuracy: 0.749\n",
      "Epoch 69, CIFAR-10 Batch 5:  cost: 0.00639563 accuracy: 0.7372\n",
      "Epoch 70, CIFAR-10 Batch 1:  cost: 0.0147884 accuracy: 0.7396\n",
      "Epoch 70, CIFAR-10 Batch 2:  cost: 0.00710392 accuracy: 0.7194\n",
      "Epoch 70, CIFAR-10 Batch 3:  cost: 0.00710091 accuracy: 0.737\n",
      "Epoch 70, CIFAR-10 Batch 4:  cost: 0.00696943 accuracy: 0.7402\n",
      "Epoch 70, CIFAR-10 Batch 5:  cost: 0.00990114 accuracy: 0.736\n",
      "Epoch 71, CIFAR-10 Batch 1:  cost: 0.0170903 accuracy: 0.7338\n",
      "Epoch 71, CIFAR-10 Batch 2:  cost: 0.00402695 accuracy: 0.7378\n",
      "Epoch 71, CIFAR-10 Batch 3:  cost: 0.00397143 accuracy: 0.7396\n",
      "Epoch 71, CIFAR-10 Batch 4:  cost: 0.00573505 accuracy: 0.7474\n",
      "Epoch 71, CIFAR-10 Batch 5:  cost: 0.00937893 accuracy: 0.7452\n",
      "Epoch 72, CIFAR-10 Batch 1:  cost: 0.0159784 accuracy: 0.74\n",
      "Epoch 72, CIFAR-10 Batch 2:  cost: 0.00452104 accuracy: 0.7318\n",
      "Epoch 72, CIFAR-10 Batch 3:  cost: 0.00967777 accuracy: 0.7452\n",
      "Epoch 72, CIFAR-10 Batch 4:  cost: 0.00478658 accuracy: 0.745\n",
      "Epoch 72, CIFAR-10 Batch 5:  cost: 0.00896278 accuracy: 0.7346\n",
      "Epoch 73, CIFAR-10 Batch 1:  cost: 0.0137055 accuracy: 0.7402\n",
      "Epoch 73, CIFAR-10 Batch 2:  cost: 0.00464344 accuracy: 0.717\n",
      "Epoch 73, CIFAR-10 Batch 3:  cost: 0.00509468 accuracy: 0.7374\n",
      "Epoch 73, CIFAR-10 Batch 4:  cost: 0.00398155 accuracy: 0.7428\n",
      "Epoch 73, CIFAR-10 Batch 5:  cost: 0.00280377 accuracy: 0.7436\n",
      "Epoch 74, CIFAR-10 Batch 1:  cost: 0.0132709 accuracy: 0.7326\n",
      "Epoch 74, CIFAR-10 Batch 2:  cost: 0.00661486 accuracy: 0.7264\n",
      "Epoch 74, CIFAR-10 Batch 3:  cost: 0.00411384 accuracy: 0.7416\n",
      "Epoch 74, CIFAR-10 Batch 4:  cost: 0.00554167 accuracy: 0.7378\n",
      "Epoch 74, CIFAR-10 Batch 5:  cost: 0.0029443 accuracy: 0.7474\n",
      "Epoch 75, CIFAR-10 Batch 1:  cost: 0.0176703 accuracy: 0.735\n",
      "Epoch 75, CIFAR-10 Batch 2:  cost: 0.00550781 accuracy: 0.728\n",
      "Epoch 75, CIFAR-10 Batch 3:  cost: 0.0040185 accuracy: 0.7322\n",
      "Epoch 75, CIFAR-10 Batch 4:  cost: 0.00453343 accuracy: 0.7426\n",
      "Epoch 75, CIFAR-10 Batch 5:  cost: 0.00296198 accuracy: 0.745\n",
      "Epoch 76, CIFAR-10 Batch 1:  cost: 0.0115353 accuracy: 0.7376\n",
      "Epoch 76, CIFAR-10 Batch 2:  cost: 0.00416042 accuracy: 0.7216\n",
      "Epoch 76, CIFAR-10 Batch 3:  cost: 0.0106116 accuracy: 0.7346\n",
      "Epoch 76, CIFAR-10 Batch 4:  cost: 0.00630627 accuracy: 0.7438\n",
      "Epoch 76, CIFAR-10 Batch 5:  cost: 0.00203305 accuracy: 0.752\n",
      "Epoch 77, CIFAR-10 Batch 1:  cost: 0.00832479 accuracy: 0.7404\n",
      "Epoch 77, CIFAR-10 Batch 2:  cost: 0.00444124 accuracy: 0.7236\n",
      "Epoch 77, CIFAR-10 Batch 3:  cost: 0.00347288 accuracy: 0.7334\n",
      "Epoch 77, CIFAR-10 Batch 4:  cost: 0.00776622 accuracy: 0.7372\n",
      "Epoch 77, CIFAR-10 Batch 5:  cost: 0.00353447 accuracy: 0.7526\n",
      "Epoch 78, CIFAR-10 Batch 1:  cost: 0.0099472 accuracy: 0.734\n",
      "Epoch 78, CIFAR-10 Batch 2:  cost: 0.00360585 accuracy: 0.7328\n",
      "Epoch 78, CIFAR-10 Batch 3:  cost: 0.00329555 accuracy: 0.737\n",
      "Epoch 78, CIFAR-10 Batch 4:  cost: 0.00345116 accuracy: 0.735\n",
      "Epoch 78, CIFAR-10 Batch 5:  cost: 0.00373 accuracy: 0.7456\n",
      "Epoch 79, CIFAR-10 Batch 1:  cost: 0.00912632 accuracy: 0.735\n",
      "Epoch 79, CIFAR-10 Batch 2:  cost: 0.00609634 accuracy: 0.728\n",
      "Epoch 79, CIFAR-10 Batch 3:  cost: 0.00399547 accuracy: 0.7298\n",
      "Epoch 79, CIFAR-10 Batch 4:  cost: 0.00600068 accuracy: 0.7342\n",
      "Epoch 79, CIFAR-10 Batch 5:  cost: 0.00188277 accuracy: 0.7452\n",
      "Epoch 80, CIFAR-10 Batch 1:  cost: 0.0112623 accuracy: 0.7368\n",
      "Epoch 80, CIFAR-10 Batch 2:  cost: 0.00163699 accuracy: 0.721\n",
      "Epoch 80, CIFAR-10 Batch 3:  cost: 0.00233856 accuracy: 0.7382\n",
      "Epoch 80, CIFAR-10 Batch 4:  cost: 0.00300824 accuracy: 0.7358\n",
      "Epoch 80, CIFAR-10 Batch 5:  cost: 0.00313519 accuracy: 0.7462\n"
     ]
    },
    {
     "data": {
      "image/png": "[encoded data removed]",
      "text/plain": [
       "<matplotlib.figure.Figure at 0x7fc0e00e5550>"
      ]
     },
     "metadata": {
      "image/png": {
       "height": 250,
       "width": 373
      }
     },
     "output_type": "display_data"
    }
   ],
   "source": [
    "\"\"\"\n",
    "DON'T MODIFY ANYTHING IN THIS CELL\n",
    "\"\"\"\n",
    "save_model_path = './ilmage_classification'\n",
    "cost_record = []\n",
    "accuracy_record = []\n",
    "\n",
    "print('Training...')\n",
    "with tf.Session() as sess:\n",
    "    # Initializing the variables\n",
    "    sess.run(tf.global_variables_initializer())\n",
    "    \n",
    "    # Training cycle\n",
    "    for epoch in range(epochs):\n",
    "        # Loop over all batches\n",
    "        n_batches = 5\n",
    "        for batch_i in range(1, n_batches + 1):\n",
    "            for batch_features, batch_labels in helper.load_preprocess_training_batch(batch_i, batch_size):\n",
    "                train_neural_network(sess, optimizer, keep_probability, batch_features, batch_labels)\n",
    "            print('Epoch {:>2}, CIFAR-10 Batch {}:  '.format(epoch + 1, batch_i), end='')\n",
    "            cost_result, accuracy_result = print_stats(sess, batch_features, batch_labels, cost, accuracy)\n",
    "            cost_record.append(cost_result)\n",
    "            accuracy_record.append(accuracy_result)\n",
    "            \n",
    "    # Save Model\n",
    "    saver = tf.train.Saver()\n",
    "    save_path = saver.save(sess, save_model_path)\n",
    "\n",
    "plt.subplot(2, 1, 1)\n",
    "plt.plot(range(len(cost_record)), cost_record)\n",
    "plt.subplot(2, 1, 2)\n",
    "plt.plot(range(len(accuracy_record)), accuracy_record)\n",
    "plt.show()"
   ]
  },
  {
   "cell_type": "markdown",
   "metadata": {
    "deletable": true,
    "editable": true
   },
   "source": [
    "# Checkpoint\n",
    "The model has been saved to disk.\n",
    "## Test Model\n",
    "Test your model against the test dataset.  This will be your final accuracy. You should have an accuracy greater than 50%. If you don't, keep tweaking the model architecture and parameters."
   ]
  },
  {
   "cell_type": "code",
   "execution_count": 20,
   "metadata": {
    "collapsed": false,
    "deletable": true,
    "editable": true
   },
   "outputs": [
    {
     "name": "stdout",
     "output_type": "stream",
     "text": [
      "Testing Accuracy: 0.7346716772151899\n",
      "\n"
     ]
    },
    {
     "data": {
      "image/png": "[encoded data removed]",
      "text/plain": [
       "<matplotlib.figure.Figure at 0x7fc0cae78240>"
      ]
     },
     "metadata": {
      "image/png": {
       "height": 319,
       "width": 355
      }
     },
     "output_type": "display_data"
    }
   ],
   "source": [
    "\"\"\"\n",
    "DON'T MODIFY ANYTHING IN THIS CELL\n",
    "\"\"\"\n",
    "%matplotlib inline\n",
    "%config InlineBackend.figure_format = 'retina'\n",
    "\n",
    "import tensorflow as tf\n",
    "import pickle\n",
    "import helper\n",
    "import random\n",
    "\n",
    "# Set batch size if not already set\n",
    "try:\n",
    "    if batch_size:\n",
    "        pass\n",
    "except NameError:\n",
    "    batch_size = 64\n",
    "\n",
    "save_model_path = './ilmage_classification'\n",
    "n_samples = 4\n",
    "top_n_predictions = 3\n",
    "\n",
    "def test_model():\n",
    "    \"\"\"\n",
    "    Test the saved model against the test dataset\n",
    "    \"\"\"\n",
    "\n",
    "    test_features, test_labels = pickle.load(open('preprocess_test.p', mode='rb'))\n",
    "    loaded_graph = tf.Graph()\n",
    "\n",
    "    with tf.Session(graph=loaded_graph) as sess:\n",
    "        # Load model\n",
    "        loader = tf.train.import_meta_graph(save_model_path + '.meta')\n",
    "        loader.restore(sess, save_model_path)\n",
    "\n",
    "        # Get Tensors from loaded model\n",
    "        loaded_x = loaded_graph.get_tensor_by_name('x:0')\n",
    "        loaded_y = loaded_graph.get_tensor_by_name('y:0')\n",
    "        loaded_keep_prob = loaded_graph.get_tensor_by_name('keep_prob:0')\n",
    "        loaded_logits = loaded_graph.get_tensor_by_name('logits:0')\n",
    "        loaded_acc = loaded_graph.get_tensor_by_name('accuracy:0')\n",
    "        \n",
    "        # Get accuracy in batches for memory limitations\n",
    "        test_batch_acc_total = 0\n",
    "        test_batch_count = 0\n",
    "        \n",
    "        for test_feature_batch, test_label_batch in helper.batch_features_labels(test_features, test_labels, batch_size):\n",
    "            test_batch_acc_total += sess.run(\n",
    "                loaded_acc,\n",
    "                feed_dict={loaded_x: test_feature_batch, loaded_y: test_label_batch, loaded_keep_prob: 1.0})\n",
    "            test_batch_count += 1\n",
    "\n",
    "        print('Testing Accuracy: {}\\n'.format(test_batch_acc_total/test_batch_count))\n",
    "\n",
    "        # Print Random Samples\n",
    "        random_test_features, random_test_labels = tuple(zip(*random.sample(list(zip(test_features, test_labels)), n_samples)))\n",
    "        random_test_predictions = sess.run(\n",
    "            tf.nn.top_k(tf.nn.softmax(loaded_logits), top_n_predictions),\n",
    "            feed_dict={loaded_x: random_test_features, loaded_y: random_test_labels, loaded_keep_prob: 1.0})\n",
    "        helper.display_image_predictions(random_test_features, random_test_labels, random_test_predictions)\n",
    "\n",
    "\n",
    "test_model()"
   ]
  },
  {
   "cell_type": "markdown",
   "metadata": {
    "deletable": true,
    "editable": true
   },
   "source": [
    "### Why 50-80% Accuracy?\n",
    "You might be wondering why you can't get an accuracy any higher. First things first, 50% isn't bad for a simple CNN.  Pure guessing would get you 10% accuracy. However, you might notice people are getting scores [well above 80%](http://rodrigob.github.io/are_we_there_yet/build/classification_datasets_results.html#43494641522d3130).  That's because we haven't taught you all there is to know about neural networks. We still need to cover a few more techniques.\n",
    "## Submitting This Project\n",
    "When submitting this project, make sure to run all the cells before saving the notebook.  Save the notebook file as \"dlnd_image_classification.ipynb\" and save it as a HTML file under \"File\" -> \"Download as\".  Include the \"helper.py\" and \"problem_unittests.py\" files in your submission."
   ]
  }
 ],
 "metadata": {
  "kernelspec": {
   "display_name": "Python 3",
   "language": "python",
   "name": "python3"
  },
  "language_info": {
   "codemirror_mode": {
    "name": "ipython",
    "version": 3
   },
   "file_extension": ".py",
   "mimetype": "text/x-python",
   "name": "python",
   "nbconvert_exporter": "python",
   "pygments_lexer": "ipython3",
   "version": "3.5.3"
  }
 },
 "nbformat": 4,
 "nbformat_minor": 1
}
