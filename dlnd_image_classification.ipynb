{
 "cells": [
  {
   "cell_type": "markdown",
   "metadata": {
    "collapsed": true,
    "deletable": true,
    "editable": true
   },
   "source": [
    "# Image Classification\n",
    "In this project, you'll classify images from the [CIFAR-10 dataset](https://www.cs.toronto.edu/~kriz/cifar.html).  The dataset consists of airplanes, dogs, cats, and other objects. You'll preprocess the images, then train a convolutional neural network on all the samples. The images need to be normalized and the labels need to be one-hot encoded.  You'll get to apply what you learned and build a convolutional, max pooling, dropout, and fully connected layers.  At the end, you'll get to see your neural network's predictions on the sample images.\n",
    "## Get the Data\n",
    "Run the following cell to download the [CIFAR-10 dataset for python](https://www.cs.toronto.edu/~kriz/cifar-10-python.tar.gz)."
   ]
  },
  {
   "cell_type": "code",
   "execution_count": 1,
   "metadata": {
    "collapsed": false,
    "deletable": true,
    "editable": true
   },
   "outputs": [
    {
     "name": "stdout",
     "output_type": "stream",
     "text": [
      "All files found!\n"
     ]
    }
   ],
   "source": [
    "\"\"\"\n",
    "DON'T MODIFY ANYTHING IN THIS CELL THAT IS BELOW THIS LINE\n",
    "\"\"\"\n",
    "from urllib.request import urlretrieve\n",
    "from os.path import isfile, isdir\n",
    "from tqdm import tqdm\n",
    "import problem_unittests as tests\n",
    "import tarfile\n",
    "\n",
    "cifar10_dataset_folder_path = 'cifar-10-batches-py'\n",
    "\n",
    "# Use Floyd's cifar-10 dataset if present\n",
    "floyd_cifar10_location = '/input/cifar-10/python.tar.gz'\n",
    "if isfile(floyd_cifar10_location):\n",
    "    tar_gz_path = floyd_cifar10_location\n",
    "else:\n",
    "    tar_gz_path = 'cifar-10-python.tar.gz'\n",
    "\n",
    "class DLProgress(tqdm):\n",
    "    last_block = 0\n",
    "\n",
    "    def hook(self, block_num=1, block_size=1, total_size=None):\n",
    "        self.total = total_size\n",
    "        self.update((block_num - self.last_block) * block_size)\n",
    "        self.last_block = block_num\n",
    "\n",
    "if not isfile(tar_gz_path):\n",
    "    with DLProgress(unit='B', unit_scale=True, miniters=1, desc='CIFAR-10 Dataset') as pbar:\n",
    "        urlretrieve(\n",
    "            'https://www.cs.toronto.edu/~kriz/cifar-10-python.tar.gz',\n",
    "            tar_gz_path,\n",
    "            pbar.hook)\n",
    "\n",
    "if not isdir(cifar10_dataset_folder_path):\n",
    "    with tarfile.open(tar_gz_path) as tar:\n",
    "        tar.extractall()\n",
    "        tar.close()\n",
    "\n",
    "\n",
    "tests.test_folder_path(cifar10_dataset_folder_path)"
   ]
  },
  {
   "cell_type": "markdown",
   "metadata": {
    "deletable": true,
    "editable": true
   },
   "source": [
    "## Explore the Data\n",
    "The dataset is broken into batches to prevent your machine from running out of memory.  The CIFAR-10 dataset consists of 5 batches, named `data_batch_1`, `data_batch_2`, etc.. Each batch contains the labels and images that are one of the following:\n",
    "* airplane\n",
    "* automobile\n",
    "* bird\n",
    "* cat\n",
    "* deer\n",
    "* dog\n",
    "* frog\n",
    "* horse\n",
    "* ship\n",
    "* truck\n",
    "\n",
    "Understanding a dataset is part of making predictions on the data.  Play around with the code cell below by changing the `batch_id` and `sample_id`. The `batch_id` is the id for a batch (1-5). The `sample_id` is the id for a image and label pair in the batch.\n",
    "\n",
    "Ask yourself \"What are all possible labels?\", \"What is the range of values for the image data?\", \"Are the labels in order or random?\".  Answers to questions like these will help you preprocess the data and end up with better predictions."
   ]
  },
  {
   "cell_type": "code",
   "execution_count": 2,
   "metadata": {
    "collapsed": false,
    "deletable": true,
    "editable": true
   },
   "outputs": [
    {
     "name": "stdout",
     "output_type": "stream",
     "text": [
      "\n",
      "Stats of batch 1:\n",
      "Samples: 10000\n",
      "Label Counts: {0: 1005, 1: 974, 2: 1032, 3: 1016, 4: 999, 5: 937, 6: 1030, 7: 1001, 8: 1025, 9: 981}\n",
      "First 20 Labels: [6, 9, 9, 4, 1, 1, 2, 7, 8, 3, 4, 7, 7, 2, 9, 9, 9, 3, 2, 6]\n",
      "\n",
      "Example of Image 5:\n",
      "Image - Min Value: 0 Max Value: 252\n",
      "Image - Shape: (32, 32, 3)\n",
      "Label - Label Id: 1 Name: automobile\n"
     ]
    },
    {
     "data": {
      "image/png": "[encoded data removed]",
      "text/plain": [
       "<matplotlib.figure.Figure at 0x7f69a836a9b0>"
      ]
     },
     "metadata": {
      "image/png": {
       "height": 250,
       "width": 253
      }
     },
     "output_type": "display_data"
    }
   ],
   "source": [
    "%matplotlib inline\n",
    "%config InlineBackend.figure_format = 'retina'\n",
    "\n",
    "import helper\n",
    "import numpy as np\n",
    "\n",
    "# Explore the dataset\n",
    "batch_id = 1\n",
    "sample_id = 5\n",
    "helper.display_stats(cifar10_dataset_folder_path, batch_id, sample_id)"
   ]
  },
  {
   "cell_type": "markdown",
   "metadata": {
    "deletable": true,
    "editable": true
   },
   "source": [
    "## Implement Preprocess Functions\n",
    "### Normalize\n",
    "In the cell below, implement the `normalize` function to take in image data, `x`, and return it as a normalized Numpy array. The values should be in the range of 0 to 1, inclusive.  The return object should be the same shape as `x`."
   ]
  },
  {
   "cell_type": "code",
   "execution_count": 3,
   "metadata": {
    "collapsed": false,
    "deletable": true,
    "editable": true
   },
   "outputs": [
    {
     "name": "stdout",
     "output_type": "stream",
     "text": [
      "Tests Passed\n"
     ]
    }
   ],
   "source": [
    "def normalize(x):\n",
    "    \"\"\"\n",
    "    Normalize a list of sample image data in the range of 0 to 1\n",
    "    : x: List of image data.  The image shape is (32, 32, 3)\n",
    "    : return: Numpy array of normalize data\n",
    "    \"\"\"\n",
    "    return x / 255\n",
    "\n",
    "\n",
    "\"\"\"\n",
    "DON'T MODIFY ANYTHING IN THIS CELL THAT IS BELOW THIS LINE\n",
    "\"\"\"\n",
    "tests.test_normalize(normalize)"
   ]
  },
  {
   "cell_type": "markdown",
   "metadata": {
    "deletable": true,
    "editable": true
   },
   "source": [
    "### One-hot encode\n",
    "Just like the previous code cell, you'll be implementing a function for preprocessing.  This time, you'll implement the `one_hot_encode` function. The input, `x`, are a list of labels.  Implement the function to return the list of labels as One-Hot encoded Numpy array.  The possible values for labels are 0 to 9. The one-hot encoding function should return the same encoding for each value between each call to `one_hot_encode`.  Make sure to save the map of encodings outside the function.\n",
    "\n",
    "Hint: Don't reinvent the wheel."
   ]
  },
  {
   "cell_type": "code",
   "execution_count": 4,
   "metadata": {
    "collapsed": false,
    "deletable": true,
    "editable": true
   },
   "outputs": [
    {
     "name": "stdout",
     "output_type": "stream",
     "text": [
      "Tests Passed\n"
     ]
    }
   ],
   "source": [
    "def one_hot_encode(x):\n",
    "    \"\"\"\n",
    "    One hot encode a list of sample labels. Return a one-hot encoded vector for each label.\n",
    "    : x: List of sample Labels\n",
    "    : return: Numpy array of one-hot encoded labels\n",
    "    \"\"\"\n",
    "    result = np.zeros((len(x), 10))\n",
    "    for i, value in enumerate(x):\n",
    "        result[i, value] = 1\n",
    "    return result\n",
    "\n",
    "\n",
    "\"\"\"\n",
    "DON'T MODIFY ANYTHING IN THIS CELL THAT IS BELOW THIS LINE\n",
    "\"\"\"\n",
    "tests.test_one_hot_encode(one_hot_encode)"
   ]
  },
  {
   "cell_type": "markdown",
   "metadata": {
    "deletable": true,
    "editable": true
   },
   "source": [
    "### Randomize Data\n",
    "As you saw from exploring the data above, the order of the samples are randomized.  It doesn't hurt to randomize it again, but you don't need to for this dataset."
   ]
  },
  {
   "cell_type": "markdown",
   "metadata": {
    "deletable": true,
    "editable": true
   },
   "source": [
    "## Preprocess all the data and save it\n",
    "Running the code cell below will preprocess all the CIFAR-10 data and save it to file. The code below also uses 10% of the training data for validation."
   ]
  },
  {
   "cell_type": "code",
   "execution_count": 5,
   "metadata": {
    "collapsed": true,
    "deletable": true,
    "editable": true
   },
   "outputs": [],
   "source": [
    "\"\"\"\n",
    "DON'T MODIFY ANYTHING IN THIS CELL\n",
    "\"\"\"\n",
    "# Preprocess Training, Validation, and Testing Data\n",
    "helper.preprocess_and_save_data(cifar10_dataset_folder_path, normalize, one_hot_encode)"
   ]
  },
  {
   "cell_type": "markdown",
   "metadata": {
    "deletable": true,
    "editable": true
   },
   "source": [
    "# Check Point\n",
    "This is your first checkpoint.  If you ever decide to come back to this notebook or have to restart the notebook, you can start from here.  The preprocessed data has been saved to disk."
   ]
  },
  {
   "cell_type": "code",
   "execution_count": 6,
   "metadata": {
    "collapsed": true,
    "deletable": true,
    "editable": true
   },
   "outputs": [],
   "source": [
    "\"\"\"\n",
    "DON'T MODIFY ANYTHING IN THIS CELL\n",
    "\"\"\"\n",
    "import pickle\n",
    "import problem_unittests as tests\n",
    "import helper\n",
    "\n",
    "# Load the Preprocessed Validation data\n",
    "valid_features, valid_labels = pickle.load(open('preprocess_validation.p', mode='rb'))"
   ]
  },
  {
   "cell_type": "markdown",
   "metadata": {
    "deletable": true,
    "editable": true
   },
   "source": [
    "## Build the network\n",
    "For the neural network, you'll build each layer into a function.  Most of the code you've seen has been outside of functions. To test your code more thoroughly, we require that you put each layer in a function.  This allows us to give you better feedback and test for simple mistakes using our unittests before you submit your project.\n",
    "\n",
    ">**Note:** If you're finding it hard to dedicate enough time for this course each week, we've provided a small shortcut to this part of the project. In the next couple of problems, you'll have the option to use classes from the [TensorFlow Layers](https://www.tensorflow.org/api_docs/python/tf/layers) or [TensorFlow Layers (contrib)](https://www.tensorflow.org/api_guides/python/contrib.layers) packages to build each layer, except the layers you build in the \"Convolutional and Max Pooling Layer\" section.  TF Layers is similar to Keras's and TFLearn's abstraction to layers, so it's easy to pickup.\n",
    "\n",
    ">However, if you would like to get the most out of this course, try to solve all the problems _without_ using anything from the TF Layers packages. You **can** still use classes from other packages that happen to have the same name as ones you find in TF Layers! For example, instead of using the TF Layers version of the `conv2d` class, [tf.layers.conv2d](https://www.tensorflow.org/api_docs/python/tf/layers/conv2d), you would want to use the TF Neural Network version of `conv2d`, [tf.nn.conv2d](https://www.tensorflow.org/api_docs/python/tf/nn/conv2d). \n",
    "\n",
    "Let's begin!\n",
    "\n",
    "### Input\n",
    "The neural network needs to read the image data, one-hot encoded labels, and dropout keep probability. Implement the following functions\n",
    "* Implement `neural_net_image_input`\n",
    " * Return a [TF Placeholder](https://www.tensorflow.org/api_docs/python/tf/placeholder)\n",
    " * Set the shape using `image_shape` with batch size set to `None`.\n",
    " * Name the TensorFlow placeholder \"x\" using the TensorFlow `name` parameter in the [TF Placeholder](https://www.tensorflow.org/api_docs/python/tf/placeholder).\n",
    "* Implement `neural_net_label_input`\n",
    " * Return a [TF Placeholder](https://www.tensorflow.org/api_docs/python/tf/placeholder)\n",
    " * Set the shape using `n_classes` with batch size set to `None`.\n",
    " * Name the TensorFlow placeholder \"y\" using the TensorFlow `name` parameter in the [TF Placeholder](https://www.tensorflow.org/api_docs/python/tf/placeholder).\n",
    "* Implement `neural_net_keep_prob_input`\n",
    " * Return a [TF Placeholder](https://www.tensorflow.org/api_docs/python/tf/placeholder) for dropout keep probability.\n",
    " * Name the TensorFlow placeholder \"keep_prob\" using the TensorFlow `name` parameter in the [TF Placeholder](https://www.tensorflow.org/api_docs/python/tf/placeholder).\n",
    "\n",
    "These names will be used at the end of the project to load your saved model.\n",
    "\n",
    "Note: `None` for shapes in TensorFlow allow for a dynamic size."
   ]
  },
  {
   "cell_type": "code",
   "execution_count": 7,
   "metadata": {
    "collapsed": false,
    "deletable": true,
    "editable": true
   },
   "outputs": [
    {
     "name": "stdout",
     "output_type": "stream",
     "text": [
      "Image Input Tests Passed.\n",
      "Label Input Tests Passed.\n",
      "Keep Prob Tests Passed.\n"
     ]
    }
   ],
   "source": [
    "import tensorflow as tf\n",
    "\n",
    "def neural_net_image_input(image_shape):\n",
    "    \"\"\"\n",
    "    Return a Tensor for a batch of image input\n",
    "    : image_shape: Shape of the images\n",
    "    : return: Tensor for image input.\n",
    "    \"\"\"\n",
    "    return tf.placeholder(tf.float32, shape = [None, image_shape[0], image_shape[1], image_shape[2]], name=\"x\")\n",
    "\n",
    "\n",
    "def neural_net_label_input(n_classes):\n",
    "    \"\"\"\n",
    "    Return a Tensor for a batch of label input\n",
    "    : n_classes: Number of classes\n",
    "    : return: Tensor for label input.\n",
    "    \"\"\"\n",
    "    return tf.placeholder(tf.float32, shape=[None, n_classes], name=\"y\")\n",
    "\n",
    "\n",
    "def neural_net_keep_prob_input():\n",
    "    \"\"\"\n",
    "    Return a Tensor for keep probability\n",
    "    : return: Tensor for keep probability.\n",
    "    \"\"\"\n",
    "    return tf.placeholder(tf.float32, name=\"keep_prob\")\n",
    "\n",
    "\n",
    "\"\"\"\n",
    "DON'T MODIFY ANYTHING IN THIS CELL THAT IS BELOW THIS LINE\n",
    "\"\"\"\n",
    "tf.reset_default_graph()\n",
    "tests.test_nn_image_inputs(neural_net_image_input)\n",
    "tests.test_nn_label_inputs(neural_net_label_input)\n",
    "tests.test_nn_keep_prob_inputs(neural_net_keep_prob_input)"
   ]
  },
  {
   "cell_type": "markdown",
   "metadata": {
    "deletable": true,
    "editable": true
   },
   "source": [
    "### Convolution and Max Pooling Layer\n",
    "Convolution layers have a lot of success with images. For this code cell, you should implement the function `conv2d_maxpool` to apply convolution then max pooling:\n",
    "* Create the weight and bias using `conv_ksize`, `conv_num_outputs` and the shape of `x_tensor`.\n",
    "* Apply a convolution to `x_tensor` using weight and `conv_strides`.\n",
    " * We recommend you use same padding, but you're welcome to use any padding.\n",
    "* Add bias\n",
    "* Add a nonlinear activation to the convolution.\n",
    "* Apply Max Pooling using `pool_ksize` and `pool_strides`.\n",
    " * We recommend you use same padding, but you're welcome to use any padding.\n",
    "\n",
    "**Note:** You **can't** use [TensorFlow Layers](https://www.tensorflow.org/api_docs/python/tf/layers) or [TensorFlow Layers (contrib)](https://www.tensorflow.org/api_guides/python/contrib.layers) for **this** layer, but you can still use TensorFlow's [Neural Network](https://www.tensorflow.org/api_docs/python/tf/nn) package. You may still use the shortcut option for all the **other** layers."
   ]
  },
  {
   "cell_type": "code",
   "execution_count": 8,
   "metadata": {
    "collapsed": false,
    "deletable": true,
    "editable": true
   },
   "outputs": [
    {
     "name": "stdout",
     "output_type": "stream",
     "text": [
      "Tests Passed\n"
     ]
    }
   ],
   "source": [
    "def conv2d_layer(x_tensor, conv_num_outputs, conv_ksize, conv_strides, stddev=0.01):\n",
    "    input_pass = x_tensor.get_shape()[-1].value\n",
    "    weight = tf.Variable(tf.truncated_normal((conv_ksize[0], conv_ksize[1], input_pass, conv_num_outputs), stddev=stddev))\n",
    "    bias = tf.Variable(tf.zeros(conv_num_outputs))\n",
    "    conv_layer = tf.nn.conv2d(x_tensor, weight, strides=[1, conv_strides[0], conv_strides[1], 1], padding=\"SAME\")\n",
    "    conv_layer = tf.nn.bias_add(conv_layer, bias)\n",
    "    conv_layer = tf.nn.relu(conv_layer)\n",
    "    return conv_layer\n",
    "\n",
    "def conv2d_maxpool(x_tensor, conv_num_outputs, conv_ksize, conv_strides, pool_ksize, pool_strides):\n",
    "    \"\"\"\n",
    "    Apply convolution then max pooling to x_tensor\n",
    "    :param x_tensor: TensorFlow Tensor\n",
    "    :param conv_num_outputs: Number of outputs for the convolutional layer\n",
    "    :param conv_ksize: kernal size 2-D Tuple for the convolutional layer\n",
    "    :param conv_strides: Stride 2-D Tuple for convolution\n",
    "    :param pool_ksize: kernal size 2-D Tuple for pool\n",
    "    :param pool_strides: Stride 2-D Tuple for pool\n",
    "    : return: A tensor that represents convolution and max pooling of x_tensor\n",
    "    \"\"\"\n",
    "\n",
    "    \"\"\"input_pass = x_tensor.get_shape()[-1].value\n",
    "    weight = tf.Variable(tf.truncated_normal((conv_ksize[0], conv_ksize[1], input_pass, conv_num_outputs), stddev=0.001))\n",
    "    bias = tf.Variable(tf.zeros(conv_num_outputs))\n",
    "    conv_layer = tf.nn.conv2d(x_tensor, weight, strides=[1, conv_strides[0], conv_strides[1], 1], padding=\"SAME\")\n",
    "    conv_layer = tf.nn.bias_add(conv_layer, bias)\"\"\"\n",
    "    conv_layer = conv2d_layer(x_tensor, conv_num_outputs, conv_ksize, conv_strides, stddev=5e-2)\n",
    "    \n",
    "    pool_layer = tf.nn.max_pool(conv_layer, ksize=[1, pool_ksize[0], pool_ksize[1], 1], strides=[1, pool_strides[0], pool_strides[1], 1], padding=\"SAME\")\n",
    "    return pool_layer\n",
    "\n",
    "\n",
    "\"\"\"\n",
    "DON'T MODIFY ANYTHING IN THIS CELL THAT IS BELOW THIS LINE\n",
    "\"\"\"\n",
    "tests.test_con_pool(conv2d_maxpool)"
   ]
  },
  {
   "cell_type": "code",
   "execution_count": 9,
   "metadata": {
    "collapsed": true,
    "deletable": true,
    "editable": true
   },
   "outputs": [],
   "source": [
    "def conv2d_avgpool(x_tensor, conv_num_outputs, conv_ksize, conv_strides, pool_ksize, pool_strides):\n",
    "    \"\"\"\n",
    "    Apply convolution then max pooling to x_tensor\n",
    "    :param x_tensor: TensorFlow Tensor\n",
    "    :param conv_num_outputs: Number of outputs for the convolutional layer\n",
    "    :param conv_ksize: kernal size 2-D Tuple for the convolutional layer\n",
    "    :param conv_strides: Stride 2-D Tuple for convolution\n",
    "    :param pool_ksize: kernal size 2-D Tuple for pool\n",
    "    :param pool_strides: Stride 2-D Tuple for pool\n",
    "    : return: A tensor that represents convolution and max pooling of x_tensor\n",
    "    \"\"\"\n",
    "    \"\"\"input_pass = x_tensor.get_shape()[-1].value\n",
    "    weight = tf.Variable(tf.truncated_normal((conv_ksize[0], conv_ksize[1], input_pass, conv_num_outputs), stddev=0.01))\n",
    "    bias = tf.Variable(tf.zeros(conv_num_outputs))\n",
    "    conv_layer = tf.nn.conv2d(x_tensor, weight, strides=[1, conv_strides[0], conv_strides[1], 1], padding=\"SAME\")\n",
    "    conv_layer = tf.nn.bias_add(conv_layer, bias)\n",
    "    conv_layer = tf.nn.relu(conv_layer)\n",
    "    \"\"\"\n",
    "    conv_layer = conv2d_layer(x_tensor, conv_num_outputs, conv_ksize, conv_strides, stddev=0.01)\n",
    "    #conv_layer = conv2d_layer(conv_layer, conv_num_outputs, conv_ksize, conv_strides, stddev=0.01)\n",
    "\n",
    "    pool_layer = tf.nn.avg_pool(conv_layer, ksize=[1, pool_ksize[0], pool_ksize[1], 1], strides=[1, pool_strides[0], pool_strides[1], 1], padding=\"SAME\")\n",
    "    return pool_layer\n"
   ]
  },
  {
   "cell_type": "markdown",
   "metadata": {
    "deletable": true,
    "editable": true
   },
   "source": [
    "### Flatten Layer\n",
    "Implement the `flatten` function to change the dimension of `x_tensor` from a 4-D tensor to a 2-D tensor.  The output should be the shape (*Batch Size*, *Flattened Image Size*). Shortcut option: you can use classes from the [TensorFlow Layers](https://www.tensorflow.org/api_docs/python/tf/layers) or [TensorFlow Layers (contrib)](https://www.tensorflow.org/api_guides/python/contrib.layers) packages for this layer. For more of a challenge, only use other TensorFlow packages."
   ]
  },
  {
   "cell_type": "code",
   "execution_count": 10,
   "metadata": {
    "collapsed": false,
    "deletable": true,
    "editable": true
   },
   "outputs": [
    {
     "name": "stdout",
     "output_type": "stream",
     "text": [
      "Tests Passed\n"
     ]
    }
   ],
   "source": [
    "def flatten(x_tensor):\n",
    "    \"\"\"\n",
    "    Flatten x_tensor to (Batch Size, Flattened Image Size)\n",
    "    : x_tensor: A tensor of size (Batch Size, ...), where ... are the image dimensions.\n",
    "    : return: A tensor of size (Batch Size, Flattened Image Size).\n",
    "    \"\"\"\n",
    "    return tf.contrib.layers.flatten(x_tensor)\n",
    "\n",
    "\n",
    "\"\"\"\n",
    "DON'T MODIFY ANYTHING IN THIS CELL THAT IS BELOW THIS LINE\n",
    "\"\"\"\n",
    "tests.test_flatten(flatten)"
   ]
  },
  {
   "cell_type": "markdown",
   "metadata": {
    "deletable": true,
    "editable": true
   },
   "source": [
    "### Fully-Connected Layer\n",
    "Implement the `fully_conn` function to apply a fully connected layer to `x_tensor` with the shape (*Batch Size*, *num_outputs*). Shortcut option: you can use classes from the [TensorFlow Layers](https://www.tensorflow.org/api_docs/python/tf/layers) or [TensorFlow Layers (contrib)](https://www.tensorflow.org/api_guides/python/contrib.layers) packages for this layer. For more of a challenge, only use other TensorFlow packages."
   ]
  },
  {
   "cell_type": "code",
   "execution_count": 11,
   "metadata": {
    "collapsed": false,
    "deletable": true,
    "editable": true
   },
   "outputs": [
    {
     "name": "stdout",
     "output_type": "stream",
     "text": [
      "Tests Passed\n"
     ]
    }
   ],
   "source": [
    "def fully_conn(x_tensor, num_outputs):\n",
    "    \"\"\"\n",
    "    Apply a fully connected layer to x_tensor using weight and bias\n",
    "    : x_tensor: A 2-D tensor where the first dimension is batch size.\n",
    "    : num_outputs: The number of output that the new tensor should be.\n",
    "    : return: A 2-D tensor where the second dimension is num_outputs.\n",
    "    \"\"\"\n",
    "    input_num = x_tensor.get_shape()[-1].value\n",
    "    weight = tf.Variable(tf.truncated_normal((input_num, num_outputs), stddev=0.1))\n",
    "    bias = tf.Variable(tf.zeros(num_outputs))\n",
    "    return tf.nn.relu6(tf.add(tf.matmul(x_tensor, weight), bias))\n",
    "    #return tf.contrib.layers.fully_connected(x_tensor, num_outputs)\n",
    "\n",
    "\n",
    "\"\"\"\n",
    "DON'T MODIFY ANYTHING IN THIS CELL THAT IS BELOW THIS LINE\n",
    "\"\"\"\n",
    "tests.test_fully_conn(fully_conn)"
   ]
  },
  {
   "cell_type": "markdown",
   "metadata": {
    "deletable": true,
    "editable": true
   },
   "source": [
    "### Output Layer\n",
    "Implement the `output` function to apply a fully connected layer to `x_tensor` with the shape (*Batch Size*, *num_outputs*). Shortcut option: you can use classes from the [TensorFlow Layers](https://www.tensorflow.org/api_docs/python/tf/layers) or [TensorFlow Layers (contrib)](https://www.tensorflow.org/api_guides/python/contrib.layers) packages for this layer. For more of a challenge, only use other TensorFlow packages.\n",
    "\n",
    "**Note:** Activation, softmax, or cross entropy should **not** be applied to this."
   ]
  },
  {
   "cell_type": "code",
   "execution_count": 12,
   "metadata": {
    "collapsed": false,
    "deletable": true,
    "editable": true
   },
   "outputs": [
    {
     "name": "stdout",
     "output_type": "stream",
     "text": [
      "Tests Passed\n"
     ]
    }
   ],
   "source": [
    "def output(x_tensor, num_outputs):\n",
    "    \"\"\"\n",
    "    Apply a output layer to x_tensor using weight and bias\n",
    "    : x_tensor: A 2-D tensor where the first dimension is batch size.\n",
    "    : num_outputs: The number of output that the new tensor should be.\n",
    "    : return: A 2-D tensor where the second dimension is num_outputs.\n",
    "    \"\"\"\n",
    "    input_num = x_tensor.get_shape()[-1].value\n",
    "    weight = tf.Variable(tf.truncated_normal((input_num, num_outputs), stddev=0.1))\n",
    "    bias = tf.Variable(tf.zeros(num_outputs))\n",
    "    return tf.add(tf.matmul(x_tensor, weight), bias)\n",
    "\n",
    "\n",
    "\"\"\"\n",
    "DON'T MODIFY ANYTHING IN THIS CELL THAT IS BELOW THIS LINE\n",
    "\"\"\"\n",
    "tests.test_output(output)"
   ]
  },
  {
   "cell_type": "markdown",
   "metadata": {
    "deletable": true,
    "editable": true
   },
   "source": [
    "### Create Convolutional Model\n",
    "Implement the function `conv_net` to create a convolutional neural network model. The function takes in a batch of images, `x`, and outputs logits.  Use the layers you created above to create this model:\n",
    "\n",
    "* Apply 1, 2, or 3 Convolution and Max Pool layers\n",
    "* Apply a Flatten Layer\n",
    "* Apply 1, 2, or 3 Fully Connected Layers\n",
    "* Apply an Output Layer\n",
    "* Return the output\n",
    "* Apply [TensorFlow's Dropout](https://www.tensorflow.org/api_docs/python/tf/nn/dropout) to one or more layers in the model using `keep_prob`. "
   ]
  },
  {
   "cell_type": "code",
   "execution_count": 13,
   "metadata": {
    "collapsed": false,
    "deletable": true,
    "editable": true
   },
   "outputs": [
    {
     "name": "stdout",
     "output_type": "stream",
     "text": [
      "Neural Network Built!\n"
     ]
    }
   ],
   "source": [
    "def conv_net(x, keep_prob):\n",
    "    \"\"\"\n",
    "    Create a convolutional neural network model\n",
    "    : x: Placeholder tensor that holds image data.\n",
    "    : keep_prob: Placeholder tensor that hold dropout keep probability.\n",
    "    : return: Tensor that represents logits\n",
    "    \"\"\"\n",
    "    # TODO: Apply 1, 2, or 3 Convolution and Max Pool layers\n",
    "    #    Play around with different number of outputs, kernel size and stride\n",
    "    # Function Definition from Above:\n",
    "    #    conv2d_maxpool(x_tensor, conv_num_outputs, conv_ksize, conv_strides, pool_ksize, pool_strides)\n",
    "    \n",
    "    #x_tensor = conv2d_layer(x, 96, (3, 3), (1, 1))\n",
    "    #x_tensor = conv2d_layer(x_tensor, 96, (3, 3), (1, 1))\n",
    "    #x_tensor = conv2d_layer(x_tensor, 96, (3, 3), (2, 2))\n",
    "    #x_tensor = conv2d_maxpool(x_tensor, 96, (3, 3), (2, 2), (2, 2), (1, 1))\n",
    "    \n",
    "    #x_tensor = conv2d_layer(x_tensor, 10, (1, 1), (1, 1))\n",
    "    \n",
    "    x_tensor = conv2d_maxpool(x, 64, (5, 5), (1, 1), (3, 3), (2, 2))\n",
    "    x_tensor = tf.nn.lrn(x_tensor, 4, bias=1.0, alpha=0.001 / 9.0, beta=0.75)\n",
    "    \n",
    "    x_tensor = conv2d_layer(x_tensor, 64, (5, 5), (1, 1), 5e-2)\n",
    "    \n",
    "    x_tensor = tf.nn.lrn(x_tensor, 4, bias=1.0, alpha=0.001 / 9.0, beta=0.75)\n",
    "    x_tensor = tf.nn.max_pool(x_tensor, ksize=[1, 3, 3, 1], \n",
    "                             strides=[1, 2, 2, 1], padding=\"SAME\")\n",
    "    \n",
    "    # TODO: Apply a Flatten Layer\n",
    "    # Function Definition from Above:\n",
    "    #   flatten(x_tensor)\n",
    "    x_tensor = flatten(x_tensor)\n",
    "\n",
    "    # TODO: Apply 1, 2, or 3 Fully Connected Layers\n",
    "    #    Play around with different number of outputs\n",
    "    # Function Definition from Above:\n",
    "    #   fully_conn(x_tensor, num_outputs)\n",
    "    x_tensor = fully_conn(x_tensor, 384)\n",
    "    x_tensor = fully_conn(x_tensor, 192)\n",
    "    x_tensor = tf.nn.dropout(x_tensor, keep_prob=keep_prob)\n",
    "\n",
    "    \n",
    "    # TODO: Apply an Output Layer\n",
    "    #    Set this to the number of classes\n",
    "    # Function Definition from Above:\n",
    "    #   output(x_tensor, num_outputs)\n",
    "    \n",
    "\n",
    "    # TODO: return output\n",
    "    return output(x_tensor, 10)\n",
    "\n",
    "\n",
    "\"\"\"\n",
    "DON'T MODIFY ANYTHING IN THIS CELL THAT IS BELOW THIS LINE\n",
    "\"\"\"\n",
    "\n",
    "##############################\n",
    "## Build the Neural Network ##\n",
    "##############################\n",
    "\n",
    "# Remove previous weights, bias, inputs, etc..\n",
    "tf.reset_default_graph()\n",
    "\n",
    "# Inputs\n",
    "x = neural_net_image_input((32, 32, 3))\n",
    "y = neural_net_label_input(10)\n",
    "keep_prob = neural_net_keep_prob_input()\n",
    "\n",
    "# Model\n",
    "logits = conv_net(x, keep_prob)\n",
    "\n",
    "# Name logits Tensor, so that is can be loaded from disk after training\n",
    "logits = tf.identity(logits, name='logits')\n",
    "\n",
    "# Loss and Optimizer\n",
    "cost = tf.reduce_mean(tf.nn.softmax_cross_entropy_with_logits(logits=logits, labels=y))\n",
    "optimizer = tf.train.AdamOptimizer(learning_rate=0.0001).minimize(cost)\n",
    "\n",
    "# Accuracy\n",
    "correct_pred = tf.equal(tf.argmax(logits, 1), tf.argmax(y, 1))\n",
    "accuracy = tf.reduce_mean(tf.cast(correct_pred, tf.float32), name='accuracy')\n",
    "\n",
    "tests.test_conv_net(conv_net)"
   ]
  },
  {
   "cell_type": "markdown",
   "metadata": {
    "deletable": true,
    "editable": true
   },
   "source": [
    "## Train the Neural Network\n",
    "### Single Optimization\n",
    "Implement the function `train_neural_network` to do a single optimization.  The optimization should use `optimizer` to optimize in `session` with a `feed_dict` of the following:\n",
    "* `x` for image input\n",
    "* `y` for labels\n",
    "* `keep_prob` for keep probability for dropout\n",
    "\n",
    "This function will be called for each batch, so `tf.global_variables_initializer()` has already been called.\n",
    "\n",
    "Note: Nothing needs to be returned. This function is only optimizing the neural network."
   ]
  },
  {
   "cell_type": "code",
   "execution_count": 14,
   "metadata": {
    "collapsed": false,
    "deletable": true,
    "editable": true
   },
   "outputs": [
    {
     "name": "stdout",
     "output_type": "stream",
     "text": [
      "Tests Passed\n"
     ]
    }
   ],
   "source": [
    "def train_neural_network(session, optimizer, keep_probability, feature_batch, label_batch):\n",
    "    \"\"\"\n",
    "    Optimize the session on a batch of images and labels\n",
    "    : session: Current TensorFlow session\n",
    "    : optimizer: TensorFlow optimizer function\n",
    "    : keep_probability: keep probability\n",
    "    : feature_batch: Batch of Numpy image data\n",
    "    : label_batch: Batch of Numpy label data\n",
    "    \"\"\"\n",
    "    session.run(optimizer, feed_dict={\n",
    "        x: feature_batch,\n",
    "        y: label_batch,\n",
    "        keep_prob:keep_probability,\n",
    "    })\n",
    "\n",
    "\n",
    "\"\"\"\n",
    "DON'T MODIFY ANYTHING IN THIS CELL THAT IS BELOW THIS LINE\n",
    "\"\"\"\n",
    "tests.test_train_nn(train_neural_network)"
   ]
  },
  {
   "cell_type": "markdown",
   "metadata": {
    "deletable": true,
    "editable": true
   },
   "source": [
    "### Show Stats\n",
    "Implement the function `print_stats` to print loss and validation accuracy.  Use the global variables `valid_features` and `valid_labels` to calculate validation accuracy.  Use a keep probability of `1.0` to calculate the loss and validation accuracy."
   ]
  },
  {
   "cell_type": "code",
   "execution_count": 15,
   "metadata": {
    "collapsed": true,
    "deletable": true,
    "editable": true
   },
   "outputs": [],
   "source": [
    "def print_stats(session, feature_batch, label_batch, cost, accuracy):\n",
    "    \"\"\"\n",
    "    Print information about loss and validation accuracy\n",
    "    : session: Current TensorFlow session\n",
    "    : feature_batch: Batch of Numpy image data\n",
    "    : label_batch: Batch of Numpy label data\n",
    "    : cost: TensorFlow cost function\n",
    "    : accuracy: TensorFlow accuracy function\n",
    "    \"\"\"\n",
    "    cost_result = session.run(cost, feed_dict={\n",
    "        x:feature_batch,\n",
    "        y:label_batch,\n",
    "        keep_prob:1.0\n",
    "    })\n",
    "    accuracy_result = session.run(accuracy, feed_dict={\n",
    "        x:valid_features,\n",
    "        y:valid_labels,\n",
    "        keep_prob:1.0\n",
    "    })\n",
    "    print(\"cost:\", cost_result, \"accuracy:\", accuracy_result)\n",
    "    return cost_result, accuracy_result"
   ]
  },
  {
   "cell_type": "markdown",
   "metadata": {
    "deletable": true,
    "editable": true
   },
   "source": [
    "### Hyperparameters\n",
    "Tune the following parameters:\n",
    "* Set `epochs` to the number of iterations until the network stops learning or start overfitting\n",
    "* Set `batch_size` to the highest number that your machine has memory for.  Most people set them to common sizes of memory:\n",
    " * 64\n",
    " * 128\n",
    " * 256\n",
    " * ...\n",
    "* Set `keep_probability` to the probability of keeping a node using dropout"
   ]
  },
  {
   "cell_type": "code",
   "execution_count": 16,
   "metadata": {
    "collapsed": true,
    "deletable": true,
    "editable": true
   },
   "outputs": [],
   "source": [
    "# TODO: Tune Parameters\n",
    "epochs = 80\n",
    "batch_size = 128\n",
    "keep_probability = 0.4"
   ]
  },
  {
   "cell_type": "markdown",
   "metadata": {
    "deletable": true,
    "editable": true
   },
   "source": [
    "### Train on a Single CIFAR-10 Batch\n",
    "Instead of training the neural network on all the CIFAR-10 batches of data, let's use a single batch. This should save time while you iterate on the model to get a better accuracy.  Once the final validation accuracy is 50% or greater, run the model on all the data in the next section."
   ]
  },
  {
   "cell_type": "code",
   "execution_count": 17,
   "metadata": {
    "collapsed": true,
    "deletable": true,
    "editable": true
   },
   "outputs": [],
   "source": [
    "from matplotlib.pyplot import show\n",
    "import matplotlib.pyplot as plt\n",
    "%matplotlib inline"
   ]
  },
  {
   "cell_type": "code",
   "execution_count": 18,
   "metadata": {
    "collapsed": false,
    "deletable": true,
    "editable": true,
    "scrolled": true
   },
   "outputs": [
    {
     "name": "stdout",
     "output_type": "stream",
     "text": [
      "Checking the Training on a Single Batch...\n",
      "Epoch  1, CIFAR-10 Batch 1:  cost: 2.15488 accuracy: 0.3034\n",
      "Epoch  2, CIFAR-10 Batch 1:  cost: 1.96555 accuracy: 0.3672\n",
      "Epoch  3, CIFAR-10 Batch 1:  cost: 1.84048 accuracy: 0.402\n",
      "Epoch  4, CIFAR-10 Batch 1:  cost: 1.71763 accuracy: 0.429\n",
      "Epoch  5, CIFAR-10 Batch 1:  cost: 1.6337 accuracy: 0.4514\n",
      "Epoch  6, CIFAR-10 Batch 1:  cost: 1.51361 accuracy: 0.4782\n",
      "Epoch  7, CIFAR-10 Batch 1:  cost: 1.46231 accuracy: 0.4908\n",
      "Epoch  8, CIFAR-10 Batch 1:  cost: 1.40406 accuracy: 0.503\n",
      "Epoch  9, CIFAR-10 Batch 1:  cost: 1.3559 accuracy: 0.5086\n",
      "Epoch 10, CIFAR-10 Batch 1:  cost: 1.29434 accuracy: 0.5254\n",
      "Epoch 11, CIFAR-10 Batch 1:  cost: 1.22663 accuracy: 0.5268\n",
      "Epoch 12, CIFAR-10 Batch 1:  cost: 1.17886 accuracy: 0.5408\n",
      "Epoch 13, CIFAR-10 Batch 1:  cost: 1.08189 accuracy: 0.5498\n",
      "Epoch 14, CIFAR-10 Batch 1:  cost: 1.02424 accuracy: 0.5604\n",
      "Epoch 15, CIFAR-10 Batch 1:  cost: 1.02111 accuracy: 0.5626\n",
      "Epoch 16, CIFAR-10 Batch 1:  cost: 0.935166 accuracy: 0.5636\n",
      "Epoch 17, CIFAR-10 Batch 1:  cost: 0.936599 accuracy: 0.5658\n",
      "Epoch 18, CIFAR-10 Batch 1:  cost: 0.88988 accuracy: 0.5694\n",
      "Epoch 19, CIFAR-10 Batch 1:  cost: 0.85843 accuracy: 0.5618\n",
      "Epoch 20, CIFAR-10 Batch 1:  cost: 0.816871 accuracy: 0.5776\n",
      "Epoch 21, CIFAR-10 Batch 1:  cost: 0.778059 accuracy: 0.5786\n",
      "Epoch 22, CIFAR-10 Batch 1:  cost: 0.761116 accuracy: 0.5822\n",
      "Epoch 23, CIFAR-10 Batch 1:  cost: 0.706101 accuracy: 0.5898\n",
      "Epoch 24, CIFAR-10 Batch 1:  cost: 0.691054 accuracy: 0.597\n",
      "Epoch 25, CIFAR-10 Batch 1:  cost: 0.65127 accuracy: 0.597\n",
      "Epoch 26, CIFAR-10 Batch 1:  cost: 0.646298 accuracy: 0.5868\n",
      "Epoch 27, CIFAR-10 Batch 1:  cost: 0.639525 accuracy: 0.5944\n",
      "Epoch 28, CIFAR-10 Batch 1:  cost: 0.619728 accuracy: 0.5858\n",
      "Epoch 29, CIFAR-10 Batch 1:  cost: 0.577104 accuracy: 0.598\n",
      "Epoch 30, CIFAR-10 Batch 1:  cost: 0.532666 accuracy: 0.6072\n",
      "Epoch 31, CIFAR-10 Batch 1:  cost: 0.528835 accuracy: 0.5938\n",
      "Epoch 32, CIFAR-10 Batch 1:  cost: 0.501697 accuracy: 0.6208\n",
      "Epoch 33, CIFAR-10 Batch 1:  cost: 0.464029 accuracy: 0.6176\n",
      "Epoch 34, CIFAR-10 Batch 1:  cost: 0.450058 accuracy: 0.6254\n",
      "Epoch 35, CIFAR-10 Batch 1:  cost: 0.451648 accuracy: 0.6242\n",
      "Epoch 36, CIFAR-10 Batch 1:  cost: 0.389054 accuracy: 0.6252\n",
      "Epoch 37, CIFAR-10 Batch 1:  cost: 0.422201 accuracy: 0.6176\n",
      "Epoch 38, CIFAR-10 Batch 1:  cost: 0.395169 accuracy: 0.6264\n",
      "Epoch 39, CIFAR-10 Batch 1:  cost: 0.3619 accuracy: 0.63\n",
      "Epoch 40, CIFAR-10 Batch 1:  cost: 0.354888 accuracy: 0.6276\n",
      "Epoch 41, CIFAR-10 Batch 1:  cost: 0.320711 accuracy: 0.6358\n",
      "Epoch 42, CIFAR-10 Batch 1:  cost: 0.300925 accuracy: 0.6292\n",
      "Epoch 43, CIFAR-10 Batch 1:  cost: 0.291582 accuracy: 0.6284\n",
      "Epoch 44, CIFAR-10 Batch 1:  cost: 0.287325 accuracy: 0.6316\n",
      "Epoch 45, CIFAR-10 Batch 1:  cost: 0.282935 accuracy: 0.6388\n",
      "Epoch 46, CIFAR-10 Batch 1:  cost: 0.283163 accuracy: 0.632\n",
      "Epoch 47, CIFAR-10 Batch 1:  cost: 0.250687 accuracy: 0.6376\n",
      "Epoch 48, CIFAR-10 Batch 1:  cost: 0.22917 accuracy: 0.6312\n",
      "Epoch 49, CIFAR-10 Batch 1:  cost: 0.230807 accuracy: 0.6488\n",
      "Epoch 50, CIFAR-10 Batch 1:  cost: 0.225851 accuracy: 0.6406\n",
      "Epoch 51, CIFAR-10 Batch 1:  cost: 0.224442 accuracy: 0.6364\n",
      "Epoch 52, CIFAR-10 Batch 1:  cost: 0.192858 accuracy: 0.644\n",
      "Epoch 53, CIFAR-10 Batch 1:  cost: 0.185505 accuracy: 0.635\n",
      "Epoch 54, CIFAR-10 Batch 1:  cost: 0.20667 accuracy: 0.6218\n",
      "Epoch 55, CIFAR-10 Batch 1:  cost: 0.169016 accuracy: 0.64\n",
      "Epoch 56, CIFAR-10 Batch 1:  cost: 0.161243 accuracy: 0.6368\n",
      "Epoch 57, CIFAR-10 Batch 1:  cost: 0.157922 accuracy: 0.6488\n",
      "Epoch 58, CIFAR-10 Batch 1:  cost: 0.166195 accuracy: 0.6426\n",
      "Epoch 59, CIFAR-10 Batch 1:  cost: 0.138118 accuracy: 0.6484\n",
      "Epoch 60, CIFAR-10 Batch 1:  cost: 0.126773 accuracy: 0.6492\n",
      "Epoch 61, CIFAR-10 Batch 1:  cost: 0.119631 accuracy: 0.6412\n",
      "Epoch 62, CIFAR-10 Batch 1:  cost: 0.116117 accuracy: 0.6514\n",
      "Epoch 63, CIFAR-10 Batch 1:  cost: 0.110192 accuracy: 0.6504\n",
      "Epoch 64, CIFAR-10 Batch 1:  cost: 0.111959 accuracy: 0.6454\n",
      "Epoch 65, CIFAR-10 Batch 1:  cost: 0.110422 accuracy: 0.648\n",
      "Epoch 66, CIFAR-10 Batch 1:  cost: 0.101477 accuracy: 0.6504\n",
      "Epoch 67, CIFAR-10 Batch 1:  cost: 0.107938 accuracy: 0.653\n",
      "Epoch 68, CIFAR-10 Batch 1:  cost: 0.0831231 accuracy: 0.6578\n",
      "Epoch 69, CIFAR-10 Batch 1:  cost: 0.0921099 accuracy: 0.6506\n",
      "Epoch 70, CIFAR-10 Batch 1:  cost: 0.0904123 accuracy: 0.6534\n",
      "Epoch 71, CIFAR-10 Batch 1:  cost: 0.0852299 accuracy: 0.6542\n",
      "Epoch 72, CIFAR-10 Batch 1:  cost: 0.0717631 accuracy: 0.6532\n",
      "Epoch 73, CIFAR-10 Batch 1:  cost: 0.0681095 accuracy: 0.6468\n",
      "Epoch 74, CIFAR-10 Batch 1:  cost: 0.0762692 accuracy: 0.651\n",
      "Epoch 75, CIFAR-10 Batch 1:  cost: 0.0675534 accuracy: 0.6502\n",
      "Epoch 76, CIFAR-10 Batch 1:  cost: 0.0700507 accuracy: 0.6478\n",
      "Epoch 77, CIFAR-10 Batch 1:  cost: 0.0665152 accuracy: 0.6488\n",
      "Epoch 78, CIFAR-10 Batch 1:  cost: 0.0717552 accuracy: 0.6418\n",
      "Epoch 79, CIFAR-10 Batch 1:  cost: 0.0605352 accuracy: 0.6464\n",
      "Epoch 80, CIFAR-10 Batch 1:  cost: 0.0643595 accuracy: 0.6434\n"
     ]
    },
    {
     "data": {
      "image/png": "[encoded data removed]",
      "text/plain": [
       "<matplotlib.figure.Figure at 0x7f6998f2ae10>"
      ]
     },
     "metadata": {
      "image/png": {
       "height": 250,
       "width": 373
      }
     },
     "output_type": "display_data"
    }
   ],
   "source": [
    "\"\"\"\n",
    "DON'T MODIFY ANYTHING IN THIS CELL\n",
    "\"\"\"\n",
    "\n",
    "cost_record = []\n",
    "accuracy_record = []\n",
    "\n",
    "print('Checking the Training on a Single Batch...')\n",
    "with tf.Session() as sess:\n",
    "    # Initializing the variables\n",
    "    sess.run(tf.global_variables_initializer())\n",
    "    \n",
    "    # Training cycle\n",
    "    for epoch in range(epochs):\n",
    "        batch_i = 1\n",
    "        for batch_features, batch_labels in helper.load_preprocess_training_batch(batch_i, batch_size):\n",
    "            train_neural_network(sess, optimizer, keep_probability, batch_features, batch_labels)\n",
    "        print('Epoch {:>2}, CIFAR-10 Batch {}:  '.format(epoch + 1, batch_i), end='')\n",
    "        cost_result, accuracy_result = print_stats(sess, batch_features, batch_labels, cost, accuracy)\n",
    "        cost_record.append(cost_result)\n",
    "        accuracy_record.append(accuracy_result)\n",
    "\n",
    "plt.plot(range(epochs), cost_record)\n",
    "show()"
   ]
  },
  {
   "cell_type": "markdown",
   "metadata": {
    "deletable": true,
    "editable": true
   },
   "source": [
    "### Fully Train the Model\n",
    "Now that you got a good accuracy with a single CIFAR-10 batch, try it with all five batches."
   ]
  },
  {
   "cell_type": "code",
   "execution_count": 19,
   "metadata": {
    "collapsed": false,
    "deletable": true,
    "editable": true,
    "scrolled": true
   },
   "outputs": [
    {
     "name": "stdout",
     "output_type": "stream",
     "text": [
      "Training...\n",
      "Epoch  1, CIFAR-10 Batch 1:  cost: 2.21667 accuracy: 0.2722\n",
      "Epoch  1, CIFAR-10 Batch 2:  cost: 1.93605 accuracy: 0.3658\n",
      "Epoch  1, CIFAR-10 Batch 3:  cost: 1.66586 accuracy: 0.408\n",
      "Epoch  1, CIFAR-10 Batch 4:  cost: 1.72842 accuracy: 0.436\n",
      "Epoch  1, CIFAR-10 Batch 5:  cost: 1.60403 accuracy: 0.4538\n",
      "Epoch  2, CIFAR-10 Batch 1:  cost: 1.68381 accuracy: 0.4714\n",
      "Epoch  2, CIFAR-10 Batch 2:  cost: 1.56384 accuracy: 0.4812\n",
      "Epoch  2, CIFAR-10 Batch 3:  cost: 1.28227 accuracy: 0.4776\n",
      "Epoch  2, CIFAR-10 Batch 4:  cost: 1.48512 accuracy: 0.4974\n",
      "Epoch  2, CIFAR-10 Batch 5:  cost: 1.43382 accuracy: 0.5112\n",
      "Epoch  3, CIFAR-10 Batch 1:  cost: 1.49153 accuracy: 0.5064\n",
      "Epoch  3, CIFAR-10 Batch 2:  cost: 1.34538 accuracy: 0.5318\n",
      "Epoch  3, CIFAR-10 Batch 3:  cost: 1.08111 accuracy: 0.521\n",
      "Epoch  3, CIFAR-10 Batch 4:  cost: 1.29182 accuracy: 0.5438\n",
      "Epoch  3, CIFAR-10 Batch 5:  cost: 1.28638 accuracy: 0.5544\n",
      "Epoch  4, CIFAR-10 Batch 1:  cost: 1.39314 accuracy: 0.5514\n",
      "Epoch  4, CIFAR-10 Batch 2:  cost: 1.27759 accuracy: 0.5666\n",
      "Epoch  4, CIFAR-10 Batch 3:  cost: 0.935266 accuracy: 0.5574\n",
      "Epoch  4, CIFAR-10 Batch 4:  cost: 1.14927 accuracy: 0.577\n",
      "Epoch  4, CIFAR-10 Batch 5:  cost: 1.20401 accuracy: 0.572\n",
      "Epoch  5, CIFAR-10 Batch 1:  cost: 1.29017 accuracy: 0.5812\n",
      "Epoch  5, CIFAR-10 Batch 2:  cost: 1.13864 accuracy: 0.5998\n",
      "Epoch  5, CIFAR-10 Batch 3:  cost: 0.838287 accuracy: 0.5892\n",
      "Epoch  5, CIFAR-10 Batch 4:  cost: 1.06284 accuracy: 0.6024\n",
      "Epoch  5, CIFAR-10 Batch 5:  cost: 1.10254 accuracy: 0.5964\n",
      "Epoch  6, CIFAR-10 Batch 1:  cost: 1.16668 accuracy: 0.6018\n",
      "Epoch  6, CIFAR-10 Batch 2:  cost: 1.09011 accuracy: 0.5974\n",
      "Epoch  6, CIFAR-10 Batch 3:  cost: 0.793725 accuracy: 0.5988\n",
      "Epoch  6, CIFAR-10 Batch 4:  cost: 0.956132 accuracy: 0.6098\n",
      "Epoch  6, CIFAR-10 Batch 5:  cost: 1.01869 accuracy: 0.6068\n",
      "Epoch  7, CIFAR-10 Batch 1:  cost: 1.07659 accuracy: 0.6142\n",
      "Epoch  7, CIFAR-10 Batch 2:  cost: 0.932016 accuracy: 0.621\n",
      "Epoch  7, CIFAR-10 Batch 3:  cost: 0.679692 accuracy: 0.6248\n",
      "Epoch  7, CIFAR-10 Batch 4:  cost: 0.882454 accuracy: 0.6274\n",
      "Epoch  7, CIFAR-10 Batch 5:  cost: 0.948308 accuracy: 0.628\n",
      "Epoch  8, CIFAR-10 Batch 1:  cost: 1.03548 accuracy: 0.6296\n",
      "Epoch  8, CIFAR-10 Batch 2:  cost: 0.878462 accuracy: 0.6404\n",
      "Epoch  8, CIFAR-10 Batch 3:  cost: 0.628022 accuracy: 0.6338\n",
      "Epoch  8, CIFAR-10 Batch 4:  cost: 0.854676 accuracy: 0.6258\n",
      "Epoch  8, CIFAR-10 Batch 5:  cost: 0.877542 accuracy: 0.6352\n",
      "Epoch  9, CIFAR-10 Batch 1:  cost: 0.957978 accuracy: 0.6426\n",
      "Epoch  9, CIFAR-10 Batch 2:  cost: 0.822112 accuracy: 0.64\n",
      "Epoch  9, CIFAR-10 Batch 3:  cost: 0.56886 accuracy: 0.6452\n",
      "Epoch  9, CIFAR-10 Batch 4:  cost: 0.7623 accuracy: 0.6478\n",
      "Epoch  9, CIFAR-10 Batch 5:  cost: 0.758773 accuracy: 0.64\n",
      "Epoch 10, CIFAR-10 Batch 1:  cost: 0.94211 accuracy: 0.6522\n",
      "Epoch 10, CIFAR-10 Batch 2:  cost: 0.769478 accuracy: 0.6592\n",
      "Epoch 10, CIFAR-10 Batch 3:  cost: 0.537692 accuracy: 0.6594\n",
      "Epoch 10, CIFAR-10 Batch 4:  cost: 0.698201 accuracy: 0.6576\n",
      "Epoch 10, CIFAR-10 Batch 5:  cost: 0.705763 accuracy: 0.6522\n",
      "Epoch 11, CIFAR-10 Batch 1:  cost: 0.832583 accuracy: 0.6496\n",
      "Epoch 11, CIFAR-10 Batch 2:  cost: 0.698788 accuracy: 0.668\n",
      "Epoch 11, CIFAR-10 Batch 3:  cost: 0.535097 accuracy: 0.6634\n",
      "Epoch 11, CIFAR-10 Batch 4:  cost: 0.711865 accuracy: 0.652\n",
      "Epoch 11, CIFAR-10 Batch 5:  cost: 0.671776 accuracy: 0.6654\n",
      "Epoch 12, CIFAR-10 Batch 1:  cost: 0.798841 accuracy: 0.67\n",
      "Epoch 12, CIFAR-10 Batch 2:  cost: 0.676958 accuracy: 0.6616\n",
      "Epoch 12, CIFAR-10 Batch 3:  cost: 0.468496 accuracy: 0.6706\n",
      "Epoch 12, CIFAR-10 Batch 4:  cost: 0.65411 accuracy: 0.6764\n",
      "Epoch 12, CIFAR-10 Batch 5:  cost: 0.620934 accuracy: 0.663\n",
      "Epoch 13, CIFAR-10 Batch 1:  cost: 0.731137 accuracy: 0.6784\n",
      "Epoch 13, CIFAR-10 Batch 2:  cost: 0.633695 accuracy: 0.6666\n",
      "Epoch 13, CIFAR-10 Batch 3:  cost: 0.431231 accuracy: 0.6842\n",
      "Epoch 13, CIFAR-10 Batch 4:  cost: 0.608482 accuracy: 0.6774\n",
      "Epoch 13, CIFAR-10 Batch 5:  cost: 0.597386 accuracy: 0.6728\n",
      "Epoch 14, CIFAR-10 Batch 1:  cost: 0.684508 accuracy: 0.6786\n",
      "Epoch 14, CIFAR-10 Batch 2:  cost: 0.580865 accuracy: 0.689\n",
      "Epoch 14, CIFAR-10 Batch 3:  cost: 0.3937 accuracy: 0.6868\n",
      "Epoch 14, CIFAR-10 Batch 4:  cost: 0.568423 accuracy: 0.685\n",
      "Epoch 14, CIFAR-10 Batch 5:  cost: 0.530309 accuracy: 0.6844\n",
      "Epoch 15, CIFAR-10 Batch 1:  cost: 0.664497 accuracy: 0.685\n",
      "Epoch 15, CIFAR-10 Batch 2:  cost: 0.563596 accuracy: 0.6886\n",
      "Epoch 15, CIFAR-10 Batch 3:  cost: 0.383982 accuracy: 0.6914\n",
      "Epoch 15, CIFAR-10 Batch 4:  cost: 0.526657 accuracy: 0.6908\n",
      "Epoch 15, CIFAR-10 Batch 5:  cost: 0.475965 accuracy: 0.6852\n",
      "Epoch 16, CIFAR-10 Batch 1:  cost: 0.596596 accuracy: 0.687\n",
      "Epoch 16, CIFAR-10 Batch 2:  cost: 0.521233 accuracy: 0.7\n",
      "Epoch 16, CIFAR-10 Batch 3:  cost: 0.36097 accuracy: 0.697\n",
      "Epoch 16, CIFAR-10 Batch 4:  cost: 0.509045 accuracy: 0.694\n",
      "Epoch 16, CIFAR-10 Batch 5:  cost: 0.462584 accuracy: 0.6878\n",
      "Epoch 17, CIFAR-10 Batch 1:  cost: 0.58952 accuracy: 0.6986\n",
      "Epoch 17, CIFAR-10 Batch 2:  cost: 0.469432 accuracy: 0.7022\n",
      "Epoch 17, CIFAR-10 Batch 3:  cost: 0.33778 accuracy: 0.6996\n",
      "Epoch 17, CIFAR-10 Batch 4:  cost: 0.466415 accuracy: 0.7012\n",
      "Epoch 17, CIFAR-10 Batch 5:  cost: 0.442388 accuracy: 0.6992\n",
      "Epoch 18, CIFAR-10 Batch 1:  cost: 0.568874 accuracy: 0.7048\n",
      "Epoch 18, CIFAR-10 Batch 2:  cost: 0.460834 accuracy: 0.702\n",
      "Epoch 18, CIFAR-10 Batch 3:  cost: 0.321003 accuracy: 0.7076\n",
      "Epoch 18, CIFAR-10 Batch 4:  cost: 0.450147 accuracy: 0.703\n",
      "Epoch 18, CIFAR-10 Batch 5:  cost: 0.430762 accuracy: 0.6916\n",
      "Epoch 19, CIFAR-10 Batch 1:  cost: 0.501911 accuracy: 0.7028\n",
      "Epoch 19, CIFAR-10 Batch 2:  cost: 0.434967 accuracy: 0.7072\n",
      "Epoch 19, CIFAR-10 Batch 3:  cost: 0.296425 accuracy: 0.7076\n",
      "Epoch 19, CIFAR-10 Batch 4:  cost: 0.405036 accuracy: 0.702\n",
      "Epoch 19, CIFAR-10 Batch 5:  cost: 0.364094 accuracy: 0.7056\n",
      "Epoch 20, CIFAR-10 Batch 1:  cost: 0.485626 accuracy: 0.707\n",
      "Epoch 20, CIFAR-10 Batch 2:  cost: 0.41785 accuracy: 0.7086\n",
      "Epoch 20, CIFAR-10 Batch 3:  cost: 0.286394 accuracy: 0.7142\n",
      "Epoch 20, CIFAR-10 Batch 4:  cost: 0.377769 accuracy: 0.7078\n",
      "Epoch 20, CIFAR-10 Batch 5:  cost: 0.338419 accuracy: 0.6962\n",
      "Epoch 21, CIFAR-10 Batch 1:  cost: 0.439921 accuracy: 0.7144\n",
      "Epoch 21, CIFAR-10 Batch 2:  cost: 0.38373 accuracy: 0.7156\n",
      "Epoch 21, CIFAR-10 Batch 3:  cost: 0.262861 accuracy: 0.7082\n",
      "Epoch 21, CIFAR-10 Batch 4:  cost: 0.357467 accuracy: 0.7116\n",
      "Epoch 21, CIFAR-10 Batch 5:  cost: 0.309896 accuracy: 0.715\n",
      "Epoch 22, CIFAR-10 Batch 1:  cost: 0.439994 accuracy: 0.7126\n",
      "Epoch 22, CIFAR-10 Batch 2:  cost: 0.357568 accuracy: 0.715\n",
      "Epoch 22, CIFAR-10 Batch 3:  cost: 0.248469 accuracy: 0.7156\n",
      "Epoch 22, CIFAR-10 Batch 4:  cost: 0.33521 accuracy: 0.7156\n",
      "Epoch 22, CIFAR-10 Batch 5:  cost: 0.315678 accuracy: 0.7134\n",
      "Epoch 23, CIFAR-10 Batch 1:  cost: 0.38939 accuracy: 0.7186\n",
      "Epoch 23, CIFAR-10 Batch 2:  cost: 0.347501 accuracy: 0.716\n",
      "Epoch 23, CIFAR-10 Batch 3:  cost: 0.238141 accuracy: 0.725\n",
      "Epoch 23, CIFAR-10 Batch 4:  cost: 0.300023 accuracy: 0.7184\n",
      "Epoch 23, CIFAR-10 Batch 5:  cost: 0.29597 accuracy: 0.714\n",
      "Epoch 24, CIFAR-10 Batch 1:  cost: 0.381474 accuracy: 0.7206\n",
      "Epoch 24, CIFAR-10 Batch 2:  cost: 0.308166 accuracy: 0.7246\n",
      "Epoch 24, CIFAR-10 Batch 3:  cost: 0.206637 accuracy: 0.7234\n",
      "Epoch 24, CIFAR-10 Batch 4:  cost: 0.30204 accuracy: 0.7242\n",
      "Epoch 24, CIFAR-10 Batch 5:  cost: 0.234959 accuracy: 0.717\n",
      "Epoch 25, CIFAR-10 Batch 1:  cost: 0.390712 accuracy: 0.7146\n",
      "Epoch 25, CIFAR-10 Batch 2:  cost: 0.312964 accuracy: 0.7094\n",
      "Epoch 25, CIFAR-10 Batch 3:  cost: 0.197687 accuracy: 0.7274\n",
      "Epoch 25, CIFAR-10 Batch 4:  cost: 0.278422 accuracy: 0.7218\n",
      "Epoch 25, CIFAR-10 Batch 5:  cost: 0.233367 accuracy: 0.7176\n",
      "Epoch 26, CIFAR-10 Batch 1:  cost: 0.324479 accuracy: 0.724\n",
      "Epoch 26, CIFAR-10 Batch 2:  cost: 0.287516 accuracy: 0.7256\n",
      "Epoch 26, CIFAR-10 Batch 3:  cost: 0.190712 accuracy: 0.7278\n",
      "Epoch 26, CIFAR-10 Batch 4:  cost: 0.269728 accuracy: 0.7268\n",
      "Epoch 26, CIFAR-10 Batch 5:  cost: 0.228912 accuracy: 0.72\n",
      "Epoch 27, CIFAR-10 Batch 1:  cost: 0.316665 accuracy: 0.7198\n",
      "Epoch 27, CIFAR-10 Batch 2:  cost: 0.280881 accuracy: 0.727\n",
      "Epoch 27, CIFAR-10 Batch 3:  cost: 0.165564 accuracy: 0.7354\n",
      "Epoch 27, CIFAR-10 Batch 4:  cost: 0.257073 accuracy: 0.7296\n",
      "Epoch 27, CIFAR-10 Batch 5:  cost: 0.22428 accuracy: 0.7162\n",
      "Epoch 28, CIFAR-10 Batch 1:  cost: 0.291723 accuracy: 0.7308\n",
      "Epoch 28, CIFAR-10 Batch 2:  cost: 0.273941 accuracy: 0.7236\n",
      "Epoch 28, CIFAR-10 Batch 3:  cost: 0.176451 accuracy: 0.7368\n",
      "Epoch 28, CIFAR-10 Batch 4:  cost: 0.224517 accuracy: 0.7284\n",
      "Epoch 28, CIFAR-10 Batch 5:  cost: 0.20742 accuracy: 0.7234\n",
      "Epoch 29, CIFAR-10 Batch 1:  cost: 0.277588 accuracy: 0.7204\n",
      "Epoch 29, CIFAR-10 Batch 2:  cost: 0.256048 accuracy: 0.7352\n",
      "Epoch 29, CIFAR-10 Batch 3:  cost: 0.157238 accuracy: 0.723\n",
      "Epoch 29, CIFAR-10 Batch 4:  cost: 0.221353 accuracy: 0.7352\n",
      "Epoch 29, CIFAR-10 Batch 5:  cost: 0.188176 accuracy: 0.728\n",
      "Epoch 30, CIFAR-10 Batch 1:  cost: 0.258431 accuracy: 0.73\n",
      "Epoch 30, CIFAR-10 Batch 2:  cost: 0.222684 accuracy: 0.733\n",
      "Epoch 30, CIFAR-10 Batch 3:  cost: 0.153008 accuracy: 0.7342\n",
      "Epoch 30, CIFAR-10 Batch 4:  cost: 0.208956 accuracy: 0.734\n",
      "Epoch 30, CIFAR-10 Batch 5:  cost: 0.158222 accuracy: 0.7278\n",
      "Epoch 31, CIFAR-10 Batch 1:  cost: 0.224217 accuracy: 0.7306\n",
      "Epoch 31, CIFAR-10 Batch 2:  cost: 0.21696 accuracy: 0.7364\n",
      "Epoch 31, CIFAR-10 Batch 3:  cost: 0.132718 accuracy: 0.7394\n",
      "Epoch 31, CIFAR-10 Batch 4:  cost: 0.200736 accuracy: 0.7372\n",
      "Epoch 31, CIFAR-10 Batch 5:  cost: 0.155675 accuracy: 0.7328\n",
      "Epoch 32, CIFAR-10 Batch 1:  cost: 0.203131 accuracy: 0.7328\n",
      "Epoch 32, CIFAR-10 Batch 2:  cost: 0.191732 accuracy: 0.7438\n",
      "Epoch 32, CIFAR-10 Batch 3:  cost: 0.123679 accuracy: 0.732\n",
      "Epoch 32, CIFAR-10 Batch 4:  cost: 0.17004 accuracy: 0.7336\n",
      "Epoch 32, CIFAR-10 Batch 5:  cost: 0.141575 accuracy: 0.7268\n",
      "Epoch 33, CIFAR-10 Batch 1:  cost: 0.18409 accuracy: 0.7278\n",
      "Epoch 33, CIFAR-10 Batch 2:  cost: 0.184134 accuracy: 0.7402\n",
      "Epoch 33, CIFAR-10 Batch 3:  cost: 0.130066 accuracy: 0.7254\n",
      "Epoch 33, CIFAR-10 Batch 4:  cost: 0.162032 accuracy: 0.7294\n",
      "Epoch 33, CIFAR-10 Batch 5:  cost: 0.13322 accuracy: 0.7268\n",
      "Epoch 34, CIFAR-10 Batch 1:  cost: 0.182341 accuracy: 0.7264\n",
      "Epoch 34, CIFAR-10 Batch 2:  cost: 0.194744 accuracy: 0.7448\n",
      "Epoch 34, CIFAR-10 Batch 3:  cost: 0.118273 accuracy: 0.7382\n",
      "Epoch 34, CIFAR-10 Batch 4:  cost: 0.165919 accuracy: 0.7378\n",
      "Epoch 34, CIFAR-10 Batch 5:  cost: 0.12605 accuracy: 0.7356\n",
      "Epoch 35, CIFAR-10 Batch 1:  cost: 0.14838 accuracy: 0.7212\n",
      "Epoch 35, CIFAR-10 Batch 2:  cost: 0.156335 accuracy: 0.741\n",
      "Epoch 35, CIFAR-10 Batch 3:  cost: 0.102773 accuracy: 0.7378\n",
      "Epoch 35, CIFAR-10 Batch 4:  cost: 0.146413 accuracy: 0.7352\n",
      "Epoch 35, CIFAR-10 Batch 5:  cost: 0.109763 accuracy: 0.7396\n",
      "Epoch 36, CIFAR-10 Batch 1:  cost: 0.156915 accuracy: 0.7232\n",
      "Epoch 36, CIFAR-10 Batch 2:  cost: 0.160013 accuracy: 0.7404\n",
      "Epoch 36, CIFAR-10 Batch 3:  cost: 0.101885 accuracy: 0.7414\n",
      "Epoch 36, CIFAR-10 Batch 4:  cost: 0.149516 accuracy: 0.7352\n",
      "Epoch 36, CIFAR-10 Batch 5:  cost: 0.0881194 accuracy: 0.7422\n",
      "Epoch 37, CIFAR-10 Batch 1:  cost: 0.156028 accuracy: 0.7262\n",
      "Epoch 37, CIFAR-10 Batch 2:  cost: 0.14255 accuracy: 0.7402\n",
      "Epoch 37, CIFAR-10 Batch 3:  cost: 0.109319 accuracy: 0.7288\n",
      "Epoch 37, CIFAR-10 Batch 4:  cost: 0.115922 accuracy: 0.7408\n",
      "Epoch 37, CIFAR-10 Batch 5:  cost: 0.0787515 accuracy: 0.739\n",
      "Epoch 38, CIFAR-10 Batch 1:  cost: 0.124974 accuracy: 0.7362\n",
      "Epoch 38, CIFAR-10 Batch 2:  cost: 0.158681 accuracy: 0.731\n",
      "Epoch 38, CIFAR-10 Batch 3:  cost: 0.0877622 accuracy: 0.7386\n",
      "Epoch 38, CIFAR-10 Batch 4:  cost: 0.121953 accuracy: 0.731\n",
      "Epoch 38, CIFAR-10 Batch 5:  cost: 0.0910979 accuracy: 0.7408\n",
      "Epoch 39, CIFAR-10 Batch 1:  cost: 0.123206 accuracy: 0.7276\n",
      "Epoch 39, CIFAR-10 Batch 2:  cost: 0.125338 accuracy: 0.7372\n",
      "Epoch 39, CIFAR-10 Batch 3:  cost: 0.082827 accuracy: 0.7348\n",
      "Epoch 39, CIFAR-10 Batch 4:  cost: 0.124037 accuracy: 0.7332\n",
      "Epoch 39, CIFAR-10 Batch 5:  cost: 0.0673787 accuracy: 0.7366\n",
      "Epoch 40, CIFAR-10 Batch 1:  cost: 0.1191 accuracy: 0.741\n",
      "Epoch 40, CIFAR-10 Batch 2:  cost: 0.123114 accuracy: 0.7398\n",
      "Epoch 40, CIFAR-10 Batch 3:  cost: 0.0752971 accuracy: 0.7244\n",
      "Epoch 40, CIFAR-10 Batch 4:  cost: 0.114017 accuracy: 0.7332\n",
      "Epoch 40, CIFAR-10 Batch 5:  cost: 0.0664223 accuracy: 0.7404\n",
      "Epoch 41, CIFAR-10 Batch 1:  cost: 0.107333 accuracy: 0.7406\n",
      "Epoch 41, CIFAR-10 Batch 2:  cost: 0.12535 accuracy: 0.7352\n",
      "Epoch 41, CIFAR-10 Batch 3:  cost: 0.0743171 accuracy: 0.7324\n",
      "Epoch 41, CIFAR-10 Batch 4:  cost: 0.0931197 accuracy: 0.7254\n",
      "Epoch 41, CIFAR-10 Batch 5:  cost: 0.0559695 accuracy: 0.743\n",
      "Epoch 42, CIFAR-10 Batch 1:  cost: 0.0956146 accuracy: 0.7434\n",
      "Epoch 42, CIFAR-10 Batch 2:  cost: 0.115569 accuracy: 0.7252\n",
      "Epoch 42, CIFAR-10 Batch 3:  cost: 0.0612175 accuracy: 0.7372\n",
      "Epoch 42, CIFAR-10 Batch 4:  cost: 0.086454 accuracy: 0.7282\n",
      "Epoch 42, CIFAR-10 Batch 5:  cost: 0.0503288 accuracy: 0.7332\n",
      "Epoch 43, CIFAR-10 Batch 1:  cost: 0.0908031 accuracy: 0.7424\n",
      "Epoch 43, CIFAR-10 Batch 2:  cost: 0.118046 accuracy: 0.735\n",
      "Epoch 43, CIFAR-10 Batch 3:  cost: 0.0492854 accuracy: 0.7294\n",
      "Epoch 43, CIFAR-10 Batch 4:  cost: 0.0976207 accuracy: 0.725\n",
      "Epoch 43, CIFAR-10 Batch 5:  cost: 0.046337 accuracy: 0.7388\n",
      "Epoch 44, CIFAR-10 Batch 1:  cost: 0.110289 accuracy: 0.7314\n",
      "Epoch 44, CIFAR-10 Batch 2:  cost: 0.0866334 accuracy: 0.739\n",
      "Epoch 44, CIFAR-10 Batch 3:  cost: 0.0537435 accuracy: 0.7308\n",
      "Epoch 44, CIFAR-10 Batch 4:  cost: 0.0930526 accuracy: 0.7268\n",
      "Epoch 44, CIFAR-10 Batch 5:  cost: 0.0362644 accuracy: 0.7456\n",
      "Epoch 45, CIFAR-10 Batch 1:  cost: 0.0886685 accuracy: 0.738\n",
      "Epoch 45, CIFAR-10 Batch 2:  cost: 0.109701 accuracy: 0.7206\n",
      "Epoch 45, CIFAR-10 Batch 3:  cost: 0.0473127 accuracy: 0.7342\n",
      "Epoch 45, CIFAR-10 Batch 4:  cost: 0.0705217 accuracy: 0.7312\n",
      "Epoch 45, CIFAR-10 Batch 5:  cost: 0.0388362 accuracy: 0.7452\n",
      "Epoch 46, CIFAR-10 Batch 1:  cost: 0.0927956 accuracy: 0.7308\n",
      "Epoch 46, CIFAR-10 Batch 2:  cost: 0.0657776 accuracy: 0.7392\n",
      "Epoch 46, CIFAR-10 Batch 3:  cost: 0.0386857 accuracy: 0.7358\n",
      "Epoch 46, CIFAR-10 Batch 4:  cost: 0.0588262 accuracy: 0.7308\n",
      "Epoch 46, CIFAR-10 Batch 5:  cost: 0.0342283 accuracy: 0.7364\n",
      "Epoch 47, CIFAR-10 Batch 1:  cost: 0.070962 accuracy: 0.745\n",
      "Epoch 47, CIFAR-10 Batch 2:  cost: 0.0742843 accuracy: 0.7322\n",
      "Epoch 47, CIFAR-10 Batch 3:  cost: 0.0446822 accuracy: 0.7282\n",
      "Epoch 47, CIFAR-10 Batch 4:  cost: 0.065812 accuracy: 0.7384\n",
      "Epoch 47, CIFAR-10 Batch 5:  cost: 0.0392784 accuracy: 0.7466\n",
      "Epoch 48, CIFAR-10 Batch 1:  cost: 0.0725427 accuracy: 0.7332\n",
      "Epoch 48, CIFAR-10 Batch 2:  cost: 0.0708598 accuracy: 0.7294\n",
      "Epoch 48, CIFAR-10 Batch 3:  cost: 0.0403197 accuracy: 0.7254\n",
      "Epoch 48, CIFAR-10 Batch 4:  cost: 0.0556553 accuracy: 0.7342\n",
      "Epoch 48, CIFAR-10 Batch 5:  cost: 0.0340564 accuracy: 0.7406\n",
      "Epoch 49, CIFAR-10 Batch 1:  cost: 0.0594185 accuracy: 0.7408\n",
      "Epoch 49, CIFAR-10 Batch 2:  cost: 0.055727 accuracy: 0.7368\n",
      "Epoch 49, CIFAR-10 Batch 3:  cost: 0.0402971 accuracy: 0.7226\n",
      "Epoch 49, CIFAR-10 Batch 4:  cost: 0.0499494 accuracy: 0.7408\n",
      "Epoch 49, CIFAR-10 Batch 5:  cost: 0.0279595 accuracy: 0.733\n",
      "Epoch 50, CIFAR-10 Batch 1:  cost: 0.0775069 accuracy: 0.736\n",
      "Epoch 50, CIFAR-10 Batch 2:  cost: 0.0575463 accuracy: 0.729\n",
      "Epoch 50, CIFAR-10 Batch 3:  cost: 0.0368508 accuracy: 0.7214\n",
      "Epoch 50, CIFAR-10 Batch 4:  cost: 0.0440877 accuracy: 0.7418\n",
      "Epoch 50, CIFAR-10 Batch 5:  cost: 0.0314276 accuracy: 0.7374\n",
      "Epoch 51, CIFAR-10 Batch 1:  cost: 0.0593018 accuracy: 0.7414\n",
      "Epoch 51, CIFAR-10 Batch 2:  cost: 0.0544374 accuracy: 0.7372\n",
      "Epoch 51, CIFAR-10 Batch 3:  cost: 0.0283609 accuracy: 0.7236\n",
      "Epoch 51, CIFAR-10 Batch 4:  cost: 0.0593935 accuracy: 0.7226\n",
      "Epoch 51, CIFAR-10 Batch 5:  cost: 0.0358471 accuracy: 0.7222\n",
      "Epoch 52, CIFAR-10 Batch 1:  cost: 0.0529625 accuracy: 0.7448\n",
      "Epoch 52, CIFAR-10 Batch 2:  cost: 0.0478667 accuracy: 0.7396\n",
      "Epoch 52, CIFAR-10 Batch 3:  cost: 0.0351236 accuracy: 0.723\n",
      "Epoch 52, CIFAR-10 Batch 4:  cost: 0.0441784 accuracy: 0.7378\n",
      "Epoch 52, CIFAR-10 Batch 5:  cost: 0.0206497 accuracy: 0.7384\n",
      "Epoch 53, CIFAR-10 Batch 1:  cost: 0.0465479 accuracy: 0.7476\n",
      "Epoch 53, CIFAR-10 Batch 2:  cost: 0.0467256 accuracy: 0.7452\n",
      "Epoch 53, CIFAR-10 Batch 3:  cost: 0.0232155 accuracy: 0.7212\n",
      "Epoch 53, CIFAR-10 Batch 4:  cost: 0.0330178 accuracy: 0.7392\n",
      "Epoch 53, CIFAR-10 Batch 5:  cost: 0.0192997 accuracy: 0.724\n",
      "Epoch 54, CIFAR-10 Batch 1:  cost: 0.0510923 accuracy: 0.7448\n",
      "Epoch 54, CIFAR-10 Batch 2:  cost: 0.0510466 accuracy: 0.7482\n",
      "Epoch 54, CIFAR-10 Batch 3:  cost: 0.020257 accuracy: 0.7228\n",
      "Epoch 54, CIFAR-10 Batch 4:  cost: 0.0383261 accuracy: 0.7462\n",
      "Epoch 54, CIFAR-10 Batch 5:  cost: 0.0206846 accuracy: 0.7212\n",
      "Epoch 55, CIFAR-10 Batch 1:  cost: 0.0429543 accuracy: 0.7426\n",
      "Epoch 55, CIFAR-10 Batch 2:  cost: 0.0468019 accuracy: 0.745\n",
      "Epoch 55, CIFAR-10 Batch 3:  cost: 0.0213166 accuracy: 0.7228\n",
      "Epoch 55, CIFAR-10 Batch 4:  cost: 0.0308392 accuracy: 0.7354\n",
      "Epoch 55, CIFAR-10 Batch 5:  cost: 0.0159012 accuracy: 0.7272\n",
      "Epoch 56, CIFAR-10 Batch 1:  cost: 0.0372272 accuracy: 0.7446\n",
      "Epoch 56, CIFAR-10 Batch 2:  cost: 0.0409658 accuracy: 0.7306\n",
      "Epoch 56, CIFAR-10 Batch 3:  cost: 0.0193978 accuracy: 0.7322\n",
      "Epoch 56, CIFAR-10 Batch 4:  cost: 0.0300641 accuracy: 0.7356\n",
      "Epoch 56, CIFAR-10 Batch 5:  cost: 0.0154372 accuracy: 0.7258\n",
      "Epoch 57, CIFAR-10 Batch 1:  cost: 0.0298746 accuracy: 0.7394\n",
      "Epoch 57, CIFAR-10 Batch 2:  cost: 0.0318234 accuracy: 0.7372\n",
      "Epoch 57, CIFAR-10 Batch 3:  cost: 0.0157559 accuracy: 0.7294\n",
      "Epoch 57, CIFAR-10 Batch 4:  cost: 0.0320069 accuracy: 0.7312\n",
      "Epoch 57, CIFAR-10 Batch 5:  cost: 0.0113828 accuracy: 0.7324\n",
      "Epoch 58, CIFAR-10 Batch 1:  cost: 0.0251768 accuracy: 0.7342\n",
      "Epoch 58, CIFAR-10 Batch 2:  cost: 0.0319161 accuracy: 0.736\n",
      "Epoch 58, CIFAR-10 Batch 3:  cost: 0.016227 accuracy: 0.7298\n",
      "Epoch 58, CIFAR-10 Batch 4:  cost: 0.0188126 accuracy: 0.7434\n",
      "Epoch 58, CIFAR-10 Batch 5:  cost: 0.016186 accuracy: 0.7308\n",
      "Epoch 59, CIFAR-10 Batch 1:  cost: 0.032231 accuracy: 0.7408\n",
      "Epoch 59, CIFAR-10 Batch 2:  cost: 0.0481081 accuracy: 0.7428\n",
      "Epoch 59, CIFAR-10 Batch 3:  cost: 0.00990388 accuracy: 0.7372\n",
      "Epoch 59, CIFAR-10 Batch 4:  cost: 0.0171569 accuracy: 0.7406\n",
      "Epoch 59, CIFAR-10 Batch 5:  cost: 0.00941243 accuracy: 0.7314\n",
      "Epoch 60, CIFAR-10 Batch 1:  cost: 0.0203391 accuracy: 0.7394\n",
      "Epoch 60, CIFAR-10 Batch 2:  cost: 0.029295 accuracy: 0.7336\n",
      "Epoch 60, CIFAR-10 Batch 3:  cost: 0.00877261 accuracy: 0.738\n",
      "Epoch 60, CIFAR-10 Batch 4:  cost: 0.0201921 accuracy: 0.741\n",
      "Epoch 60, CIFAR-10 Batch 5:  cost: 0.018495 accuracy: 0.7258\n",
      "Epoch 61, CIFAR-10 Batch 1:  cost: 0.023155 accuracy: 0.7364\n",
      "Epoch 61, CIFAR-10 Batch 2:  cost: 0.0474144 accuracy: 0.7468\n",
      "Epoch 61, CIFAR-10 Batch 3:  cost: 0.0149528 accuracy: 0.7336\n",
      "Epoch 61, CIFAR-10 Batch 4:  cost: 0.0241483 accuracy: 0.7416\n",
      "Epoch 61, CIFAR-10 Batch 5:  cost: 0.00838783 accuracy: 0.7294\n",
      "Epoch 62, CIFAR-10 Batch 1:  cost: 0.0177072 accuracy: 0.732\n",
      "Epoch 62, CIFAR-10 Batch 2:  cost: 0.0319681 accuracy: 0.7394\n",
      "Epoch 62, CIFAR-10 Batch 3:  cost: 0.0107519 accuracy: 0.7364\n",
      "Epoch 62, CIFAR-10 Batch 4:  cost: 0.0143574 accuracy: 0.738\n",
      "Epoch 62, CIFAR-10 Batch 5:  cost: 0.00868299 accuracy: 0.7316\n",
      "Epoch 63, CIFAR-10 Batch 1:  cost: 0.0124338 accuracy: 0.7398\n",
      "Epoch 63, CIFAR-10 Batch 2:  cost: 0.0363244 accuracy: 0.735\n",
      "Epoch 63, CIFAR-10 Batch 3:  cost: 0.010152 accuracy: 0.738\n",
      "Epoch 63, CIFAR-10 Batch 4:  cost: 0.01473 accuracy: 0.7346\n",
      "Epoch 63, CIFAR-10 Batch 5:  cost: 0.0064399 accuracy: 0.7294\n",
      "Epoch 64, CIFAR-10 Batch 1:  cost: 0.0167125 accuracy: 0.7378\n",
      "Epoch 64, CIFAR-10 Batch 2:  cost: 0.0330355 accuracy: 0.7362\n",
      "Epoch 64, CIFAR-10 Batch 3:  cost: 0.00649203 accuracy: 0.7378\n",
      "Epoch 64, CIFAR-10 Batch 4:  cost: 0.0121399 accuracy: 0.7422\n",
      "Epoch 64, CIFAR-10 Batch 5:  cost: 0.00552495 accuracy: 0.7378\n",
      "Epoch 65, CIFAR-10 Batch 1:  cost: 0.0142111 accuracy: 0.7332\n",
      "Epoch 65, CIFAR-10 Batch 2:  cost: 0.0295602 accuracy: 0.7184\n",
      "Epoch 65, CIFAR-10 Batch 3:  cost: 0.0107279 accuracy: 0.7312\n",
      "Epoch 65, CIFAR-10 Batch 4:  cost: 0.0104524 accuracy: 0.7398\n",
      "Epoch 65, CIFAR-10 Batch 5:  cost: 0.005315 accuracy: 0.7326\n",
      "Epoch 66, CIFAR-10 Batch 1:  cost: 0.0123978 accuracy: 0.7374\n",
      "Epoch 66, CIFAR-10 Batch 2:  cost: 0.0213199 accuracy: 0.7288\n",
      "Epoch 66, CIFAR-10 Batch 3:  cost: 0.00698096 accuracy: 0.739\n",
      "Epoch 66, CIFAR-10 Batch 4:  cost: 0.0137761 accuracy: 0.7428\n",
      "Epoch 66, CIFAR-10 Batch 5:  cost: 0.0043313 accuracy: 0.7418\n",
      "Epoch 67, CIFAR-10 Batch 1:  cost: 0.0107321 accuracy: 0.7386\n",
      "Epoch 67, CIFAR-10 Batch 2:  cost: 0.0199111 accuracy: 0.7422\n",
      "Epoch 67, CIFAR-10 Batch 3:  cost: 0.00922382 accuracy: 0.733\n",
      "Epoch 67, CIFAR-10 Batch 4:  cost: 0.0105053 accuracy: 0.742\n",
      "Epoch 67, CIFAR-10 Batch 5:  cost: 0.00467987 accuracy: 0.728\n",
      "Epoch 68, CIFAR-10 Batch 1:  cost: 0.0123025 accuracy: 0.741\n",
      "Epoch 68, CIFAR-10 Batch 2:  cost: 0.0193684 accuracy: 0.731\n",
      "Epoch 68, CIFAR-10 Batch 3:  cost: 0.00376519 accuracy: 0.7348\n",
      "Epoch 68, CIFAR-10 Batch 4:  cost: 0.0129216 accuracy: 0.7376\n",
      "Epoch 68, CIFAR-10 Batch 5:  cost: 0.00335554 accuracy: 0.737\n",
      "Epoch 69, CIFAR-10 Batch 1:  cost: 0.0114608 accuracy: 0.7338\n",
      "Epoch 69, CIFAR-10 Batch 2:  cost: 0.0240307 accuracy: 0.7294\n",
      "Epoch 69, CIFAR-10 Batch 3:  cost: 0.00600983 accuracy: 0.7286\n",
      "Epoch 69, CIFAR-10 Batch 4:  cost: 0.0125281 accuracy: 0.7386\n",
      "Epoch 69, CIFAR-10 Batch 5:  cost: 0.00488496 accuracy: 0.7356\n",
      "Epoch 70, CIFAR-10 Batch 1:  cost: 0.00911651 accuracy: 0.7312\n",
      "Epoch 70, CIFAR-10 Batch 2:  cost: 0.0244442 accuracy: 0.7232\n",
      "Epoch 70, CIFAR-10 Batch 3:  cost: 0.00444834 accuracy: 0.73\n",
      "Epoch 70, CIFAR-10 Batch 4:  cost: 0.00856435 accuracy: 0.7374\n",
      "Epoch 70, CIFAR-10 Batch 5:  cost: 0.00267982 accuracy: 0.7372\n",
      "Epoch 71, CIFAR-10 Batch 1:  cost: 0.00721516 accuracy: 0.7354\n",
      "Epoch 71, CIFAR-10 Batch 2:  cost: 0.0145393 accuracy: 0.7322\n",
      "Epoch 71, CIFAR-10 Batch 3:  cost: 0.00629286 accuracy: 0.7332\n",
      "Epoch 71, CIFAR-10 Batch 4:  cost: 0.0102384 accuracy: 0.7394\n",
      "Epoch 71, CIFAR-10 Batch 5:  cost: 0.00231173 accuracy: 0.7404\n",
      "Epoch 72, CIFAR-10 Batch 1:  cost: 0.00788536 accuracy: 0.7412\n",
      "Epoch 72, CIFAR-10 Batch 2:  cost: 0.012754 accuracy: 0.7248\n",
      "Epoch 72, CIFAR-10 Batch 3:  cost: 0.00470179 accuracy: 0.7152\n",
      "Epoch 72, CIFAR-10 Batch 4:  cost: 0.00585939 accuracy: 0.7296\n",
      "Epoch 72, CIFAR-10 Batch 5:  cost: 0.00410831 accuracy: 0.7366\n",
      "Epoch 73, CIFAR-10 Batch 1:  cost: 0.0120409 accuracy: 0.7364\n",
      "Epoch 73, CIFAR-10 Batch 2:  cost: 0.0127991 accuracy: 0.7238\n",
      "Epoch 73, CIFAR-10 Batch 3:  cost: 0.00525205 accuracy: 0.738\n",
      "Epoch 73, CIFAR-10 Batch 4:  cost: 0.00799303 accuracy: 0.7356\n",
      "Epoch 73, CIFAR-10 Batch 5:  cost: 0.00218219 accuracy: 0.732\n",
      "Epoch 74, CIFAR-10 Batch 1:  cost: 0.00709077 accuracy: 0.7404\n",
      "Epoch 74, CIFAR-10 Batch 2:  cost: 0.020681 accuracy: 0.7268\n",
      "Epoch 74, CIFAR-10 Batch 3:  cost: 0.00556751 accuracy: 0.7312\n",
      "Epoch 74, CIFAR-10 Batch 4:  cost: 0.00633655 accuracy: 0.7304\n",
      "Epoch 74, CIFAR-10 Batch 5:  cost: 0.00286253 accuracy: 0.7298\n",
      "Epoch 75, CIFAR-10 Batch 1:  cost: 0.00665235 accuracy: 0.7444\n",
      "Epoch 75, CIFAR-10 Batch 2:  cost: 0.0133971 accuracy: 0.719\n",
      "Epoch 75, CIFAR-10 Batch 3:  cost: 0.00282148 accuracy: 0.7462\n",
      "Epoch 75, CIFAR-10 Batch 4:  cost: 0.00751351 accuracy: 0.7284\n",
      "Epoch 75, CIFAR-10 Batch 5:  cost: 0.00313167 accuracy: 0.7352\n",
      "Epoch 76, CIFAR-10 Batch 1:  cost: 0.00716246 accuracy: 0.7408\n",
      "Epoch 76, CIFAR-10 Batch 2:  cost: 0.00582711 accuracy: 0.7182\n",
      "Epoch 76, CIFAR-10 Batch 3:  cost: 0.00229034 accuracy: 0.7336\n",
      "Epoch 76, CIFAR-10 Batch 4:  cost: 0.00738892 accuracy: 0.7232\n",
      "Epoch 76, CIFAR-10 Batch 5:  cost: 0.00172819 accuracy: 0.7332\n",
      "Epoch 77, CIFAR-10 Batch 1:  cost: 0.00756631 accuracy: 0.7398\n",
      "Epoch 77, CIFAR-10 Batch 2:  cost: 0.00541549 accuracy: 0.727\n",
      "Epoch 77, CIFAR-10 Batch 3:  cost: 0.00293205 accuracy: 0.7306\n",
      "Epoch 77, CIFAR-10 Batch 4:  cost: 0.00538083 accuracy: 0.7322\n",
      "Epoch 77, CIFAR-10 Batch 5:  cost: 0.00314882 accuracy: 0.7364\n",
      "Epoch 78, CIFAR-10 Batch 1:  cost: 0.00631556 accuracy: 0.7342\n",
      "Epoch 78, CIFAR-10 Batch 2:  cost: 0.0054979 accuracy: 0.7312\n",
      "Epoch 78, CIFAR-10 Batch 3:  cost: 0.00256534 accuracy: 0.7376\n",
      "Epoch 78, CIFAR-10 Batch 4:  cost: 0.0103958 accuracy: 0.7192\n",
      "Epoch 78, CIFAR-10 Batch 5:  cost: 0.00127306 accuracy: 0.7392\n",
      "Epoch 79, CIFAR-10 Batch 1:  cost: 0.00504434 accuracy: 0.7396\n",
      "Epoch 79, CIFAR-10 Batch 2:  cost: 0.00378535 accuracy: 0.7238\n",
      "Epoch 79, CIFAR-10 Batch 3:  cost: 0.00147847 accuracy: 0.7394\n",
      "Epoch 79, CIFAR-10 Batch 4:  cost: 0.00631353 accuracy: 0.7346\n",
      "Epoch 79, CIFAR-10 Batch 5:  cost: 0.0023554 accuracy: 0.744\n",
      "Epoch 80, CIFAR-10 Batch 1:  cost: 0.0121868 accuracy: 0.736\n",
      "Epoch 80, CIFAR-10 Batch 2:  cost: 0.00407775 accuracy: 0.7292\n",
      "Epoch 80, CIFAR-10 Batch 3:  cost: 0.000696957 accuracy: 0.7416\n",
      "Epoch 80, CIFAR-10 Batch 4:  cost: 0.00624323 accuracy: 0.7302\n",
      "Epoch 80, CIFAR-10 Batch 5:  cost: 0.00247295 accuracy: 0.7374\n"
     ]
    },
    {
     "data": {
      "image/png": "[encoded data removed]",
      "text/plain": [
       "<matplotlib.figure.Figure at 0x7f6998c831d0>"
      ]
     },
     "metadata": {
      "image/png": {
       "height": 250,
       "width": 373
      }
     },
     "output_type": "display_data"
    }
   ],
   "source": [
    "\"\"\"\n",
    "DON'T MODIFY ANYTHING IN THIS CELL\n",
    "\"\"\"\n",
    "save_model_path = './ilmage_classification'\n",
    "cost_record = []\n",
    "accuracy_record = []\n",
    "\n",
    "print('Training...')\n",
    "with tf.Session() as sess:\n",
    "    # Initializing the variables\n",
    "    sess.run(tf.global_variables_initializer())\n",
    "    \n",
    "    # Training cycle\n",
    "    for epoch in range(epochs):\n",
    "        # Loop over all batches\n",
    "        n_batches = 5\n",
    "        for batch_i in range(1, n_batches + 1):\n",
    "            for batch_features, batch_labels in helper.load_preprocess_training_batch(batch_i, batch_size):\n",
    "                train_neural_network(sess, optimizer, keep_probability, batch_features, batch_labels)\n",
    "            print('Epoch {:>2}, CIFAR-10 Batch {}:  '.format(epoch + 1, batch_i), end='')\n",
    "            cost_result, accuracy_result = print_stats(sess, batch_features, batch_labels, cost, accuracy)\n",
    "            cost_record.append(cost_result)\n",
    "            accuracy_record.append(accuracy_result)\n",
    "            \n",
    "    # Save Model\n",
    "    saver = tf.train.Saver()\n",
    "    save_path = saver.save(sess, save_model_path)\n",
    "\n",
    "plt.subplot(2, 1, 1)\n",
    "plt.plot(range(len(cost_record)), cost_record)\n",
    "plt.subplot(2, 1, 2)\n",
    "plt.plot(range(len(accuracy_record)), accuracy_record)\n",
    "plt.show()"
   ]
  },
  {
   "cell_type": "markdown",
   "metadata": {
    "deletable": true,
    "editable": true
   },
   "source": [
    "# Checkpoint\n",
    "The model has been saved to disk.\n",
    "## Test Model\n",
    "Test your model against the test dataset.  This will be your final accuracy. You should have an accuracy greater than 50%. If you don't, keep tweaking the model architecture and parameters."
   ]
  },
  {
   "cell_type": "code",
   "execution_count": 20,
   "metadata": {
    "collapsed": false,
    "deletable": true,
    "editable": true
   },
   "outputs": [
    {
     "name": "stdout",
     "output_type": "stream",
     "text": [
      "Testing Accuracy: 0.736748417721519\n",
      "\n"
     ]
    },
    {
     "data": {
      "image/png": "[encoded data removed]",
      "text/plain": [
       "<matplotlib.figure.Figure at 0x7f69a11f0b00>"
      ]
     },
     "metadata": {
      "image/png": {
       "height": 319,
       "width": 349
      }
     },
     "output_type": "display_data"
    }
   ],
   "source": [
    "\"\"\"\n",
    "DON'T MODIFY ANYTHING IN THIS CELL\n",
    "\"\"\"\n",
    "%matplotlib inline\n",
    "%config InlineBackend.figure_format = 'retina'\n",
    "\n",
    "import tensorflow as tf\n",
    "import pickle\n",
    "import helper\n",
    "import random\n",
    "\n",
    "# Set batch size if not already set\n",
    "try:\n",
    "    if batch_size:\n",
    "        pass\n",
    "except NameError:\n",
    "    batch_size = 64\n",
    "\n",
    "save_model_path = './ilmage_classification'\n",
    "n_samples = 4\n",
    "top_n_predictions = 3\n",
    "\n",
    "def test_model():\n",
    "    \"\"\"\n",
    "    Test the saved model against the test dataset\n",
    "    \"\"\"\n",
    "\n",
    "    test_features, test_labels = pickle.load(open('preprocess_test.p', mode='rb'))\n",
    "    loaded_graph = tf.Graph()\n",
    "\n",
    "    with tf.Session(graph=loaded_graph) as sess:\n",
    "        # Load model\n",
    "        loader = tf.train.import_meta_graph(save_model_path + '.meta')\n",
    "        loader.restore(sess, save_model_path)\n",
    "\n",
    "        # Get Tensors from loaded model\n",
    "        loaded_x = loaded_graph.get_tensor_by_name('x:0')\n",
    "        loaded_y = loaded_graph.get_tensor_by_name('y:0')\n",
    "        loaded_keep_prob = loaded_graph.get_tensor_by_name('keep_prob:0')\n",
    "        loaded_logits = loaded_graph.get_tensor_by_name('logits:0')\n",
    "        loaded_acc = loaded_graph.get_tensor_by_name('accuracy:0')\n",
    "        \n",
    "        # Get accuracy in batches for memory limitations\n",
    "        test_batch_acc_total = 0\n",
    "        test_batch_count = 0\n",
    "        \n",
    "        for test_feature_batch, test_label_batch in helper.batch_features_labels(test_features, test_labels, batch_size):\n",
    "            test_batch_acc_total += sess.run(\n",
    "                loaded_acc,\n",
    "                feed_dict={loaded_x: test_feature_batch, loaded_y: test_label_batch, loaded_keep_prob: 1.0})\n",
    "            test_batch_count += 1\n",
    "\n",
    "        print('Testing Accuracy: {}\\n'.format(test_batch_acc_total/test_batch_count))\n",
    "\n",
    "        # Print Random Samples\n",
    "        random_test_features, random_test_labels = tuple(zip(*random.sample(list(zip(test_features, test_labels)), n_samples)))\n",
    "        random_test_predictions = sess.run(\n",
    "            tf.nn.top_k(tf.nn.softmax(loaded_logits), top_n_predictions),\n",
    "            feed_dict={loaded_x: random_test_features, loaded_y: random_test_labels, loaded_keep_prob: 1.0})\n",
    "        helper.display_image_predictions(random_test_features, random_test_labels, random_test_predictions)\n",
    "\n",
    "\n",
    "test_model()"
   ]
  },
  {
   "cell_type": "markdown",
   "metadata": {
    "deletable": true,
    "editable": true
   },
   "source": [
    "### Why 50-80% Accuracy?\n",
    "You might be wondering why you can't get an accuracy any higher. First things first, 50% isn't bad for a simple CNN.  Pure guessing would get you 10% accuracy. However, you might notice people are getting scores [well above 80%](http://rodrigob.github.io/are_we_there_yet/build/classification_datasets_results.html#43494641522d3130).  That's because we haven't taught you all there is to know about neural networks. We still need to cover a few more techniques.\n",
    "## Submitting This Project\n",
    "When submitting this project, make sure to run all the cells before saving the notebook.  Save the notebook file as \"dlnd_image_classification.ipynb\" and save it as a HTML file under \"File\" -> \"Download as\".  Include the \"helper.py\" and \"problem_unittests.py\" files in your submission."
   ]
  }
 ],
 "metadata": {
  "kernelspec": {
   "display_name": "Python 3",
   "language": "python",
   "name": "python3"
  },
  "language_info": {
   "codemirror_mode": {
    "name": "ipython",
    "version": 3
   },
   "file_extension": ".py",
   "mimetype": "text/x-python",
   "name": "python",
   "nbconvert_exporter": "python",
   "pygments_lexer": "ipython3",
   "version": "3.5.3"
  }
 },
 "nbformat": 4,
 "nbformat_minor": 1
}
